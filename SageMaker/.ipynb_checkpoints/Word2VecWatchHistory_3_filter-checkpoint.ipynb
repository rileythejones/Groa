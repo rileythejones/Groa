{
  "nbformat": 4,
  "nbformat_minor": 0,
  "metadata": {
    "kernelspec": {
      "display_name": "conda_python3",
      "language": "python",
      "name": "conda_python3"
    },
    "language_info": {
      "codemirror_mode": {
        "name": "ipython",
        "version": 3
      },
      "file_extension": ".py",
      "mimetype": "text/x-python",
      "name": "python",
      "nbconvert_exporter": "python",
      "pygments_lexer": "ipython3",
      "version": "3.6.5"
    },
    "colab": {
      "name": "Word2VecWatchHistory_3_filter.ipynb",
      "provenance": [],
      "collapsed_sections": []
    }
  },
  "cells": [
    {
      "cell_type": "code",
      "metadata": {
        "id": "iQWJUpFjdlyj",
        "colab_type": "code",
        "outputId": "f44ae211-ffec-4beb-930f-24240491e14d",
        "colab": {
          "base_uri": "https://localhost:8080/",
          "height": 36
        }
      },
      "source": [
        "! pip3 install psycopg2-binary --user\n",
        "\n",
        "import pandas as pd\n",
        "import psycopg2\n",
        "import numpy as np\n",
        "from getpass import getpass"
      ],
      "execution_count": 1,
      "outputs": [
        {
          "output_type": "stream",
          "text": [
            "Requirement already satisfied: psycopg2-binary in /root/.local/lib/python3.6/site-packages (2.8.4)\n"
          ],
          "name": "stdout"
        }
      ]
    },
    {
      "cell_type": "code",
      "metadata": {
        "id": "at19RYvtdlyw",
        "colab_type": "code",
        "outputId": "0be27d51-9199-483a-f79d-635dcb902f35",
        "colab": {
          "base_uri": "https://localhost:8080/",
          "height": 36
        }
      },
      "source": [
        "# connect to database\n",
        "connection = psycopg2.connect(\n",
        "    database  = \"postgres\",\n",
        "    user      = \"postgres\",\n",
        "    password  = getpass(),\n",
        "    host      = \"movie-rec-scrape.cvslmiksgnix.us-east-1.rds.amazonaws.com\",\n",
        "    port      = '5432'\n",
        ")\n"
      ],
      "execution_count": 2,
      "outputs": [
        {
          "output_type": "stream",
          "text": [
            "··········\n"
          ],
          "name": "stdout"
        }
      ]
    },
    {
      "cell_type": "code",
      "metadata": {
        "id": "d417YjdVdly9",
        "colab_type": "code",
        "outputId": "bc2f5955-c858-40ca-8e71-f0e3d2410afd",
        "colab": {
          "base_uri": "https://localhost:8080/",
          "height": 36
        }
      },
      "source": [
        "# cursor object\n",
        "try:\n",
        "    c = connection.cursor()\n",
        "    print(\"Connected!\")\n",
        "except:\n",
        "    print(\"Connection problem chief!\")"
      ],
      "execution_count": 21,
      "outputs": [
        {
          "output_type": "stream",
          "text": [
            "Connected!\n"
          ],
          "name": "stdout"
        }
      ]
    },
    {
      "cell_type": "code",
      "metadata": {
        "id": "tfmu_UdndlzG",
        "colab_type": "code",
        "colab": {}
      },
      "source": [
        "c.execute(\"SELECT movie_id, username FROM reviews WHERE user_rating > 6\")"
      ],
      "execution_count": 0,
      "outputs": []
    },
    {
      "cell_type": "code",
      "metadata": {
        "jupyter": {
          "outputs_hidden": true
        },
        "id": "8A_os2zUdlzQ",
        "colab_type": "code",
        "colab": {}
      },
      "source": [
        "result = c.fetchall()\n",
        "# result"
      ],
      "execution_count": 0,
      "outputs": []
    },
    {
      "cell_type": "code",
      "metadata": {
        "id": "_47oo4s1dlzY",
        "colab_type": "code",
        "outputId": "9f3542e2-2648-445d-a601-18820c9d9723",
        "colab": {
          "base_uri": "https://localhost:8080/",
          "height": 206
        }
      },
      "source": [
        "df = pd.DataFrame(result, columns = ['movieid', 'userid'])\n",
        "df.head()"
      ],
      "execution_count": 24,
      "outputs": [
        {
          "output_type": "execute_result",
          "data": {
            "text/html": [
              "<div>\n",
              "<style scoped>\n",
              "    .dataframe tbody tr th:only-of-type {\n",
              "        vertical-align: middle;\n",
              "    }\n",
              "\n",
              "    .dataframe tbody tr th {\n",
              "        vertical-align: top;\n",
              "    }\n",
              "\n",
              "    .dataframe thead th {\n",
              "        text-align: right;\n",
              "    }\n",
              "</style>\n",
              "<table border=\"1\" class=\"dataframe\">\n",
              "  <thead>\n",
              "    <tr style=\"text-align: right;\">\n",
              "      <th></th>\n",
              "      <th>movieid</th>\n",
              "      <th>userid</th>\n",
              "    </tr>\n",
              "  </thead>\n",
              "  <tbody>\n",
              "    <tr>\n",
              "      <th>0</th>\n",
              "      <td>3120280</td>\n",
              "      <td>mary-179-677383</td>\n",
              "    </tr>\n",
              "    <tr>\n",
              "      <th>1</th>\n",
              "      <td>3120280</td>\n",
              "      <td>mhpayne78</td>\n",
              "    </tr>\n",
              "    <tr>\n",
              "      <th>2</th>\n",
              "      <td>3120280</td>\n",
              "      <td>marymcnamara-69052</td>\n",
              "    </tr>\n",
              "    <tr>\n",
              "      <th>3</th>\n",
              "      <td>3120280</td>\n",
              "      <td>danae-gr-p</td>\n",
              "    </tr>\n",
              "    <tr>\n",
              "      <th>4</th>\n",
              "      <td>3120280</td>\n",
              "      <td>a_lowther</td>\n",
              "    </tr>\n",
              "  </tbody>\n",
              "</table>\n",
              "</div>"
            ],
            "text/plain": [
              "   movieid              userid\n",
              "0  3120280     mary-179-677383\n",
              "1  3120280           mhpayne78\n",
              "2  3120280  marymcnamara-69052\n",
              "3  3120280          danae-gr-p\n",
              "4  3120280           a_lowther"
            ]
          },
          "metadata": {
            "tags": []
          },
          "execution_count": 24
        }
      ]
    },
    {
      "cell_type": "code",
      "metadata": {
        "id": "8A67Ec2vEBsF",
        "colab_type": "code",
        "colab": {}
      },
      "source": [
        "df.movieid = df.movieid.str.lstrip('0')"
      ],
      "execution_count": 0,
      "outputs": []
    },
    {
      "cell_type": "code",
      "metadata": {
        "id": "SMHlx9Okdlze",
        "colab_type": "code",
        "colab": {}
      },
      "source": [
        "url = 'https://datasets.imdbws.com/title.basics.tsv.gz'"
      ],
      "execution_count": 0,
      "outputs": []
    },
    {
      "cell_type": "code",
      "metadata": {
        "id": "hSOGnWXidlzk",
        "colab_type": "code",
        "outputId": "fa03d7db-ee21-4622-f14b-2b1e2ec37aae",
        "colab": {
          "base_uri": "https://localhost:8080/",
          "height": 74
        }
      },
      "source": [
        "df2 = pd.read_table(url, sep='\\t')"
      ],
      "execution_count": 27,
      "outputs": [
        {
          "output_type": "stream",
          "text": [
            "/usr/local/lib/python3.6/dist-packages/IPython/core/interactiveshell.py:2718: DtypeWarning: Columns (5) have mixed types. Specify dtype option on import or set low_memory=False.\n",
            "  interactivity=interactivity, compiler=compiler, result=result)\n"
          ],
          "name": "stderr"
        }
      ]
    },
    {
      "cell_type": "code",
      "metadata": {
        "id": "g2XmbHSWdlzr",
        "colab_type": "code",
        "colab": {}
      },
      "source": [
        "df2['movieid'] =[i[2:].lstrip('0') for i in df2['tconst']]"
      ],
      "execution_count": 0,
      "outputs": []
    },
    {
      "cell_type": "code",
      "metadata": {
        "id": "3DaOfPv0dlzx",
        "colab_type": "code",
        "colab": {}
      },
      "source": [
        "df2['movieid'] = df2['movieid']"
      ],
      "execution_count": 0,
      "outputs": []
    },
    {
      "cell_type": "code",
      "metadata": {
        "id": "rahENw37dlz4",
        "colab_type": "code",
        "outputId": "5ea70543-a337-4a4a-dbc3-af774786df27",
        "colab": {
          "base_uri": "https://localhost:8080/",
          "height": 206
        }
      },
      "source": [
        "df2.head()"
      ],
      "execution_count": 30,
      "outputs": [
        {
          "output_type": "execute_result",
          "data": {
            "text/html": [
              "<div>\n",
              "<style scoped>\n",
              "    .dataframe tbody tr th:only-of-type {\n",
              "        vertical-align: middle;\n",
              "    }\n",
              "\n",
              "    .dataframe tbody tr th {\n",
              "        vertical-align: top;\n",
              "    }\n",
              "\n",
              "    .dataframe thead th {\n",
              "        text-align: right;\n",
              "    }\n",
              "</style>\n",
              "<table border=\"1\" class=\"dataframe\">\n",
              "  <thead>\n",
              "    <tr style=\"text-align: right;\">\n",
              "      <th></th>\n",
              "      <th>tconst</th>\n",
              "      <th>titleType</th>\n",
              "      <th>primaryTitle</th>\n",
              "      <th>originalTitle</th>\n",
              "      <th>isAdult</th>\n",
              "      <th>startYear</th>\n",
              "      <th>endYear</th>\n",
              "      <th>runtimeMinutes</th>\n",
              "      <th>genres</th>\n",
              "      <th>movieid</th>\n",
              "    </tr>\n",
              "  </thead>\n",
              "  <tbody>\n",
              "    <tr>\n",
              "      <th>0</th>\n",
              "      <td>tt0000001</td>\n",
              "      <td>short</td>\n",
              "      <td>Carmencita</td>\n",
              "      <td>Carmencita</td>\n",
              "      <td>0</td>\n",
              "      <td>1894</td>\n",
              "      <td>\\N</td>\n",
              "      <td>1</td>\n",
              "      <td>Documentary,Short</td>\n",
              "      <td>1</td>\n",
              "    </tr>\n",
              "    <tr>\n",
              "      <th>1</th>\n",
              "      <td>tt0000002</td>\n",
              "      <td>short</td>\n",
              "      <td>Le clown et ses chiens</td>\n",
              "      <td>Le clown et ses chiens</td>\n",
              "      <td>0</td>\n",
              "      <td>1892</td>\n",
              "      <td>\\N</td>\n",
              "      <td>5</td>\n",
              "      <td>Animation,Short</td>\n",
              "      <td>2</td>\n",
              "    </tr>\n",
              "    <tr>\n",
              "      <th>2</th>\n",
              "      <td>tt0000003</td>\n",
              "      <td>short</td>\n",
              "      <td>Pauvre Pierrot</td>\n",
              "      <td>Pauvre Pierrot</td>\n",
              "      <td>0</td>\n",
              "      <td>1892</td>\n",
              "      <td>\\N</td>\n",
              "      <td>4</td>\n",
              "      <td>Animation,Comedy,Romance</td>\n",
              "      <td>3</td>\n",
              "    </tr>\n",
              "    <tr>\n",
              "      <th>3</th>\n",
              "      <td>tt0000004</td>\n",
              "      <td>short</td>\n",
              "      <td>Un bon bock</td>\n",
              "      <td>Un bon bock</td>\n",
              "      <td>0</td>\n",
              "      <td>1892</td>\n",
              "      <td>\\N</td>\n",
              "      <td>\\N</td>\n",
              "      <td>Animation,Short</td>\n",
              "      <td>4</td>\n",
              "    </tr>\n",
              "    <tr>\n",
              "      <th>4</th>\n",
              "      <td>tt0000005</td>\n",
              "      <td>short</td>\n",
              "      <td>Blacksmith Scene</td>\n",
              "      <td>Blacksmith Scene</td>\n",
              "      <td>0</td>\n",
              "      <td>1893</td>\n",
              "      <td>\\N</td>\n",
              "      <td>1</td>\n",
              "      <td>Comedy,Short</td>\n",
              "      <td>5</td>\n",
              "    </tr>\n",
              "  </tbody>\n",
              "</table>\n",
              "</div>"
            ],
            "text/plain": [
              "      tconst titleType  ...                    genres movieid\n",
              "0  tt0000001     short  ...         Documentary,Short       1\n",
              "1  tt0000002     short  ...           Animation,Short       2\n",
              "2  tt0000003     short  ...  Animation,Comedy,Romance       3\n",
              "3  tt0000004     short  ...           Animation,Short       4\n",
              "4  tt0000005     short  ...              Comedy,Short       5\n",
              "\n",
              "[5 rows x 10 columns]"
            ]
          },
          "metadata": {
            "tags": []
          },
          "execution_count": 30
        }
      ]
    },
    {
      "cell_type": "code",
      "metadata": {
        "id": "EXR6cPJcdlz_",
        "colab_type": "code",
        "colab": {}
      },
      "source": [
        "df = df.merge(df2, how='inner', on='movieid')"
      ],
      "execution_count": 0,
      "outputs": []
    },
    {
      "cell_type": "code",
      "metadata": {
        "id": "iY80-Vg5dl0E",
        "colab_type": "code",
        "colab": {}
      },
      "source": [
        "df."
      ],
      "execution_count": 0,
      "outputs": []
    },
    {
      "cell_type": "code",
      "metadata": {
        "id": "zl-_zhU0dl0J",
        "colab_type": "code",
        "colab": {}
      },
      "source": [
        ""
      ],
      "execution_count": 0,
      "outputs": []
    },
    {
      "cell_type": "code",
      "metadata": {
        "id": "_rOdUCuadl0N",
        "colab_type": "code",
        "outputId": "45eb909e-9539-4c04-a2fd-73fb23e2cf95",
        "colab": {
          "base_uri": "https://localhost:8080/",
          "height": 239
        }
      },
      "source": [
        "df.movieid.value_counts()"
      ],
      "execution_count": 32,
      "outputs": [
        {
          "output_type": "execute_result",
          "data": {
            "text/plain": [
              "7286456    7512\n",
              "111161     6797\n",
              "4154796    6483\n",
              "468569     5594\n",
              "120737     4465\n",
              "           ... \n",
              "1905085       1\n",
              "138388        1\n",
              "64853         1\n",
              "251900        1\n",
              "1345525       1\n",
              "Name: movieid, Length: 104768, dtype: int64"
            ]
          },
          "metadata": {
            "tags": []
          },
          "execution_count": 32
        }
      ]
    },
    {
      "cell_type": "code",
      "metadata": {
        "id": "JAZ6Fai4dl0S",
        "colab_type": "code",
        "colab": {}
      },
      "source": [
        "movies = df.movieid.unique().tolist()"
      ],
      "execution_count": 0,
      "outputs": []
    },
    {
      "cell_type": "code",
      "metadata": {
        "id": "RivexCFldl0W",
        "colab_type": "code",
        "colab": {}
      },
      "source": [
        "df['users'] = df['userid'].astype('str')"
      ],
      "execution_count": 0,
      "outputs": []
    },
    {
      "cell_type": "code",
      "metadata": {
        "id": "vATxFhV9dl0c",
        "colab_type": "code",
        "outputId": "ed2525fd-766c-42c5-8ce0-48a0eecf8f42",
        "colab": {
          "base_uri": "https://localhost:8080/",
          "height": 36
        }
      },
      "source": [
        "users = df.userid.unique().tolist()\n",
        "len(users)"
      ],
      "execution_count": 35,
      "outputs": [
        {
          "output_type": "execute_result",
          "data": {
            "text/plain": [
              "804614"
            ]
          },
          "metadata": {
            "tags": []
          },
          "execution_count": 35
        }
      ]
    },
    {
      "cell_type": "code",
      "metadata": {
        "id": "wCalDd_fdl0h",
        "colab_type": "code",
        "outputId": "190fe05f-f574-4c81-f7b7-24b6a94007da",
        "colab": {
          "base_uri": "https://localhost:8080/",
          "height": 258
        }
      },
      "source": [
        "df.dtypes"
      ],
      "execution_count": 36,
      "outputs": [
        {
          "output_type": "execute_result",
          "data": {
            "text/plain": [
              "movieid           object\n",
              "userid            object\n",
              "tconst            object\n",
              "titleType         object\n",
              "primaryTitle      object\n",
              "originalTitle     object\n",
              "isAdult            int64\n",
              "startYear         object\n",
              "endYear           object\n",
              "runtimeMinutes    object\n",
              "genres            object\n",
              "users             object\n",
              "dtype: object"
            ]
          },
          "metadata": {
            "tags": []
          },
          "execution_count": 36
        }
      ]
    },
    {
      "cell_type": "code",
      "metadata": {
        "id": "z2OBA-xqdl0m",
        "colab_type": "code",
        "outputId": "faa65cc8-cd3d-4f08-fb57-5099851a509c",
        "colab": {
          "base_uri": "https://localhost:8080/",
          "height": 73
        }
      },
      "source": [
        "# ! sudo su\n",
        "! yum update -y\n",
        "! yum -y install python-pip\n",
        "! python -V"
      ],
      "execution_count": 37,
      "outputs": [
        {
          "output_type": "stream",
          "text": [
            "/bin/bash: yum: command not found\n",
            "/bin/bash: yum: command not found\n",
            "Python 3.6.9\n"
          ],
          "name": "stdout"
        }
      ]
    },
    {
      "cell_type": "code",
      "metadata": {
        "id": "a8DITE9wdl0q",
        "colab_type": "code",
        "outputId": "79c68333-c722-48a2-ee72-49aa5f1c7a15",
        "colab": {
          "base_uri": "https://localhost:8080/",
          "height": 36
        }
      },
      "source": [
        "! which pip"
      ],
      "execution_count": 38,
      "outputs": [
        {
          "output_type": "stream",
          "text": [
            "/usr/local/bin/pip\n"
          ],
          "name": "stdout"
        }
      ]
    },
    {
      "cell_type": "code",
      "metadata": {
        "id": "ZvEmewUhdl05",
        "colab_type": "code",
        "outputId": "3e8068d2-0604-4d06-9dc0-47989994f120",
        "colab": {
          "base_uri": "https://localhost:8080/",
          "height": 646
        }
      },
      "source": [
        "! python -m pip install tqdm\n",
        "# ! python -c 'import tqdm'\n",
        "! python -m pip install gensim\n",
        "import random\n",
        "from tqdm import tqdm\n",
        "from gensim.models import Word2Vec \n",
        "import matplotlib.pyplot as plt\n",
        "%matplotlib inline\n",
        "\n",
        "import warnings;\n",
        "warnings.filterwarnings('ignore')\n",
        "\n",
        "\n",
        "\n",
        "# shuffle usernames\n",
        "random.shuffle(users)\n",
        "\n",
        "# extract 90% of users\n",
        "users_train = [users[i] for i in range(round(0.9*len(users)))]\n",
        "\n",
        "# split data into train and validation set\n",
        "train_df = df[df['users'].isin(users_train)]\n",
        "validation_df = df[~df['users'].isin(users_train)]\n",
        "\n",
        "train_df.head()"
      ],
      "execution_count": 39,
      "outputs": [
        {
          "output_type": "stream",
          "text": [
            "Requirement already satisfied: tqdm in /usr/local/lib/python3.6/dist-packages (4.28.1)\n",
            "Requirement already satisfied: gensim in /usr/local/lib/python3.6/dist-packages (3.6.0)\n",
            "Requirement already satisfied: numpy>=1.11.3 in /usr/local/lib/python3.6/dist-packages (from gensim) (1.17.5)\n",
            "Requirement already satisfied: scipy>=0.18.1 in /usr/local/lib/python3.6/dist-packages (from gensim) (1.4.1)\n",
            "Requirement already satisfied: smart-open>=1.2.1 in /usr/local/lib/python3.6/dist-packages (from gensim) (1.9.0)\n",
            "Requirement already satisfied: six>=1.5.0 in /usr/local/lib/python3.6/dist-packages (from gensim) (1.12.0)\n",
            "Requirement already satisfied: requests in /usr/local/lib/python3.6/dist-packages (from smart-open>=1.2.1->gensim) (2.21.0)\n",
            "Requirement already satisfied: boto3 in /usr/local/lib/python3.6/dist-packages (from smart-open>=1.2.1->gensim) (1.10.47)\n",
            "Requirement already satisfied: boto>=2.32 in /usr/local/lib/python3.6/dist-packages (from smart-open>=1.2.1->gensim) (2.49.0)\n",
            "Requirement already satisfied: idna<2.9,>=2.5 in /usr/local/lib/python3.6/dist-packages (from requests->smart-open>=1.2.1->gensim) (2.8)\n",
            "Requirement already satisfied: certifi>=2017.4.17 in /usr/local/lib/python3.6/dist-packages (from requests->smart-open>=1.2.1->gensim) (2019.11.28)\n",
            "Requirement already satisfied: chardet<3.1.0,>=3.0.2 in /usr/local/lib/python3.6/dist-packages (from requests->smart-open>=1.2.1->gensim) (3.0.4)\n",
            "Requirement already satisfied: urllib3<1.25,>=1.21.1 in /usr/local/lib/python3.6/dist-packages (from requests->smart-open>=1.2.1->gensim) (1.24.3)\n",
            "Requirement already satisfied: s3transfer<0.3.0,>=0.2.0 in /usr/local/lib/python3.6/dist-packages (from boto3->smart-open>=1.2.1->gensim) (0.2.1)\n",
            "Requirement already satisfied: botocore<1.14.0,>=1.13.47 in /usr/local/lib/python3.6/dist-packages (from boto3->smart-open>=1.2.1->gensim) (1.13.47)\n",
            "Requirement already satisfied: jmespath<1.0.0,>=0.7.1 in /usr/local/lib/python3.6/dist-packages (from boto3->smart-open>=1.2.1->gensim) (0.9.4)\n",
            "Requirement already satisfied: docutils<0.16,>=0.10 in /usr/local/lib/python3.6/dist-packages (from botocore<1.14.0,>=1.13.47->boto3->smart-open>=1.2.1->gensim) (0.15.2)\n",
            "Requirement already satisfied: python-dateutil<3.0.0,>=2.1; python_version >= \"2.7\" in /usr/local/lib/python3.6/dist-packages (from botocore<1.14.0,>=1.13.47->boto3->smart-open>=1.2.1->gensim) (2.6.1)\n"
          ],
          "name": "stdout"
        },
        {
          "output_type": "execute_result",
          "data": {
            "text/html": [
              "<div>\n",
              "<style scoped>\n",
              "    .dataframe tbody tr th:only-of-type {\n",
              "        vertical-align: middle;\n",
              "    }\n",
              "\n",
              "    .dataframe tbody tr th {\n",
              "        vertical-align: top;\n",
              "    }\n",
              "\n",
              "    .dataframe thead th {\n",
              "        text-align: right;\n",
              "    }\n",
              "</style>\n",
              "<table border=\"1\" class=\"dataframe\">\n",
              "  <thead>\n",
              "    <tr style=\"text-align: right;\">\n",
              "      <th></th>\n",
              "      <th>movieid</th>\n",
              "      <th>userid</th>\n",
              "      <th>tconst</th>\n",
              "      <th>titleType</th>\n",
              "      <th>primaryTitle</th>\n",
              "      <th>originalTitle</th>\n",
              "      <th>isAdult</th>\n",
              "      <th>startYear</th>\n",
              "      <th>endYear</th>\n",
              "      <th>runtimeMinutes</th>\n",
              "      <th>genres</th>\n",
              "      <th>users</th>\n",
              "    </tr>\n",
              "  </thead>\n",
              "  <tbody>\n",
              "    <tr>\n",
              "      <th>1</th>\n",
              "      <td>3120280</td>\n",
              "      <td>mhpayne78</td>\n",
              "      <td>tt3120280</td>\n",
              "      <td>movie</td>\n",
              "      <td>Sierra Burgess Is a Loser</td>\n",
              "      <td>Sierra Burgess Is a Loser</td>\n",
              "      <td>0</td>\n",
              "      <td>2018</td>\n",
              "      <td>\\N</td>\n",
              "      <td>105</td>\n",
              "      <td>Comedy,Drama,Romance</td>\n",
              "      <td>mhpayne78</td>\n",
              "    </tr>\n",
              "    <tr>\n",
              "      <th>2</th>\n",
              "      <td>3120280</td>\n",
              "      <td>marymcnamara-69052</td>\n",
              "      <td>tt3120280</td>\n",
              "      <td>movie</td>\n",
              "      <td>Sierra Burgess Is a Loser</td>\n",
              "      <td>Sierra Burgess Is a Loser</td>\n",
              "      <td>0</td>\n",
              "      <td>2018</td>\n",
              "      <td>\\N</td>\n",
              "      <td>105</td>\n",
              "      <td>Comedy,Drama,Romance</td>\n",
              "      <td>marymcnamara-69052</td>\n",
              "    </tr>\n",
              "    <tr>\n",
              "      <th>3</th>\n",
              "      <td>3120280</td>\n",
              "      <td>danae-gr-p</td>\n",
              "      <td>tt3120280</td>\n",
              "      <td>movie</td>\n",
              "      <td>Sierra Burgess Is a Loser</td>\n",
              "      <td>Sierra Burgess Is a Loser</td>\n",
              "      <td>0</td>\n",
              "      <td>2018</td>\n",
              "      <td>\\N</td>\n",
              "      <td>105</td>\n",
              "      <td>Comedy,Drama,Romance</td>\n",
              "      <td>danae-gr-p</td>\n",
              "    </tr>\n",
              "    <tr>\n",
              "      <th>4</th>\n",
              "      <td>3120280</td>\n",
              "      <td>a_lowther</td>\n",
              "      <td>tt3120280</td>\n",
              "      <td>movie</td>\n",
              "      <td>Sierra Burgess Is a Loser</td>\n",
              "      <td>Sierra Burgess Is a Loser</td>\n",
              "      <td>0</td>\n",
              "      <td>2018</td>\n",
              "      <td>\\N</td>\n",
              "      <td>105</td>\n",
              "      <td>Comedy,Drama,Romance</td>\n",
              "      <td>a_lowther</td>\n",
              "    </tr>\n",
              "    <tr>\n",
              "      <th>5</th>\n",
              "      <td>3120280</td>\n",
              "      <td>schylar-73786</td>\n",
              "      <td>tt3120280</td>\n",
              "      <td>movie</td>\n",
              "      <td>Sierra Burgess Is a Loser</td>\n",
              "      <td>Sierra Burgess Is a Loser</td>\n",
              "      <td>0</td>\n",
              "      <td>2018</td>\n",
              "      <td>\\N</td>\n",
              "      <td>105</td>\n",
              "      <td>Comedy,Drama,Romance</td>\n",
              "      <td>schylar-73786</td>\n",
              "    </tr>\n",
              "  </tbody>\n",
              "</table>\n",
              "</div>"
            ],
            "text/plain": [
              "   movieid              userid  ...                genres               users\n",
              "1  3120280           mhpayne78  ...  Comedy,Drama,Romance           mhpayne78\n",
              "2  3120280  marymcnamara-69052  ...  Comedy,Drama,Romance  marymcnamara-69052\n",
              "3  3120280          danae-gr-p  ...  Comedy,Drama,Romance          danae-gr-p\n",
              "4  3120280           a_lowther  ...  Comedy,Drama,Romance           a_lowther\n",
              "5  3120280       schylar-73786  ...  Comedy,Drama,Romance       schylar-73786\n",
              "\n",
              "[5 rows x 12 columns]"
            ]
          },
          "metadata": {
            "tags": []
          },
          "execution_count": 39
        }
      ]
    },
    {
      "cell_type": "code",
      "metadata": {
        "id": "niILcwP7hjNM",
        "colab_type": "code",
        "colab": {}
      },
      "source": [
        "# enable multiprocessing\n",
        "import multiprocessing.dummy as mp\n"
      ],
      "execution_count": 0,
      "outputs": []
    },
    {
      "cell_type": "code",
      "metadata": {
        "id": "smscgWxjdl0_",
        "colab_type": "code",
        "colab": {}
      },
      "source": [
        "# list to capture watch history of the users\n",
        "watched_train = []\n",
        "\n",
        "def history_juggler(i):\n",
        "    temp = train_df[train_df[\"users\"] == i][\"movieid\"].tolist()\n",
        "    watched_train.append(temp)\n",
        "\n",
        "# populate the list with the movie ids\n",
        "if __name__==\"__main__\":\n",
        "  p=mp.Pool(4)\n",
        "  p.map(history_juggler, users_train) # removed tqdm since it doesn't play nice with mp\n",
        "  p.close()\n",
        "  p.join()"
      ],
      "execution_count": 0,
      "outputs": []
    },
    {
      "cell_type": "code",
      "metadata": {
        "id": "NQ_lMjybdl1C",
        "colab_type": "code",
        "outputId": "09db746f-612a-4f87-82df-2c8c05c909bd",
        "colab": {}
      },
      "source": [
        "wsaa# list to capture purchase history of the customers\n",
        "watched_val = []\n",
        "\n",
        "# populate the list with the product codes\n",
        "for i in tqdm(validation_df['users'].unique()):\n",
        "    temp = validation_df[validation_df[\"users\"] == i][\"movieid\"].tolist()\n",
        "    watched_val.append(temp)"
      ],
      "execution_count": 0,
      "outputs": [
        {
          "output_type": "stream",
          "text": [
            "100%|██████████| 34641/34641 [04:53<00:00, 117.83it/s]\n"
          ],
          "name": "stderr"
        }
      ]
    },
    {
      "cell_type": "code",
      "metadata": {
        "id": "AfraRSQJdl1H",
        "colab_type": "code",
        "colab": {}
      },
      "source": [
        "watched_train = [[str(x) for x in lst] for lst in watched_train]"
      ],
      "execution_count": 0,
      "outputs": []
    },
    {
      "cell_type": "code",
      "metadata": {
        "id": "zp2HORuadl1L",
        "colab_type": "code",
        "outputId": "41fc5806-d504-4d77-d9a4-3dbf7738583c",
        "colab": {}
      },
      "source": [
        "watched_train[0]"
      ],
      "execution_count": 0,
      "outputs": [
        {
          "output_type": "execute_result",
          "data": {
            "text/plain": [
              "['6110504']"
            ]
          },
          "metadata": {
            "tags": []
          },
          "execution_count": 73
        }
      ]
    },
    {
      "cell_type": "code",
      "metadata": {
        "id": "Sd420uEfdl1P",
        "colab_type": "code",
        "colab": {}
      },
      "source": [
        "watched_val = [[str(x) for x in lst] for lst in watched_val]"
      ],
      "execution_count": 0,
      "outputs": []
    },
    {
      "cell_type": "code",
      "metadata": {
        "id": "gdGxB2_gdl1S",
        "colab_type": "code",
        "outputId": "b367f0ff-8e54-4c9b-dba5-fd3287d4e413",
        "colab": {}
      },
      "source": [
        "# train word2vec model\n",
        "model = Word2Vec(window = 10, sg = 1, hs = 0,\n",
        "                 negative = 10, # for negative sampling\n",
        "                 alpha=0.03, min_alpha=0.0007,\n",
        "                 seed = 14)\n",
        "\n",
        "model.build_vocab(watched_train, progress_per=200)\n",
        "\n",
        "model.train(watched_train, total_examples = model.corpus_count, \n",
        "            epochs=10, report_delay=1)"
      ],
      "execution_count": 0,
      "outputs": [
        {
          "output_type": "execute_result",
          "data": {
            "text/plain": [
              "(8195290, 9259500)"
            ]
          },
          "metadata": {
            "tags": []
          },
          "execution_count": 75
        }
      ]
    },
    {
      "cell_type": "code",
      "metadata": {
        "id": "-sWPKYgTdl1W",
        "colab_type": "code",
        "colab": {}
      },
      "source": [
        "# save word2vec model\n",
        "model.save(\"word2vec_2.model\")"
      ],
      "execution_count": 0,
      "outputs": []
    },
    {
      "cell_type": "code",
      "metadata": {
        "id": "vSeGqA97dl1Z",
        "colab_type": "code",
        "colab": {}
      },
      "source": [
        "import gensim\n",
        "\n",
        "model = gensim.models.Word2Vec.load(\"word2vec_2.model\")"
      ],
      "execution_count": 0,
      "outputs": []
    },
    {
      "cell_type": "code",
      "metadata": {
        "id": "tFH5khHrdl1d",
        "colab_type": "code",
        "colab": {}
      },
      "source": [
        "model.init_sims(replace=True)"
      ],
      "execution_count": 0,
      "outputs": []
    },
    {
      "cell_type": "code",
      "metadata": {
        "id": "jsHJnjXtdl1g",
        "colab_type": "code",
        "colab": {}
      },
      "source": [
        "print(model)"
      ],
      "execution_count": 0,
      "outputs": []
    },
    {
      "cell_type": "code",
      "metadata": {
        "id": "izJD5tDVdl1k",
        "colab_type": "code",
        "outputId": "e628d91e-1b25-46d6-923b-e4004a0050e3",
        "colab": {}
      },
      "source": [
        "# extract all vectors\n",
        "X = model[model.wv.vocab]\n",
        "\n",
        "X.shape"
      ],
      "execution_count": 0,
      "outputs": [
        {
          "output_type": "execute_result",
          "data": {
            "text/plain": [
              "(49385, 100)"
            ]
          },
          "metadata": {
            "tags": []
          },
          "execution_count": 41
        }
      ]
    },
    {
      "cell_type": "code",
      "metadata": {
        "id": "QuvHFMevdl1m",
        "colab_type": "code",
        "colab": {}
      },
      "source": [
        "# ! sudo pip install umap-learn"
      ],
      "execution_count": 0,
      "outputs": []
    },
    {
      "cell_type": "code",
      "metadata": {
        "id": "MJ95nxX9dl1p",
        "colab_type": "code",
        "outputId": "368df7c2-1029-4325-e347-65ba36bdb0ba",
        "colab": {}
      },
      "source": [
        "train_df['movieid'] = train_df['movieid'].astype(str)\n",
        "train_df['movieid'][0]"
      ],
      "execution_count": 0,
      "outputs": [
        {
          "output_type": "execute_result",
          "data": {
            "text/plain": [
              "'72777'"
            ]
          },
          "metadata": {
            "tags": []
          },
          "execution_count": 66
        }
      ]
    },
    {
      "cell_type": "code",
      "metadata": {
        "id": "Yrcz_goFdl1t",
        "colab_type": "code",
        "colab": {}
      },
      "source": [
        "movies = train_df[[\"movieid\", \"primaryTitle\"]]\n",
        "\n",
        "# remove duplicates\n",
        "movies.drop_duplicates(inplace=True, subset='movieid', keep=\"last\")\n",
        "\n",
        "# create product-ID and product-description dictionary\n",
        "movies_dict = movies.groupby('movieid')['primaryTitle'].apply(list).to_dict()"
      ],
      "execution_count": 0,
      "outputs": []
    },
    {
      "cell_type": "code",
      "metadata": {
        "id": "4CCDek5Sdl1w",
        "colab_type": "code",
        "outputId": "4f918cf3-096d-4254-80b4-c752bb9a64b9",
        "colab": {}
      },
      "source": [
        "# test the dictionary\n",
        "movies_dict['105112']\n",
        "\n"
      ],
      "execution_count": 0,
      "outputs": [
        {
          "output_type": "execute_result",
          "data": {
            "text/plain": [
              "['Patriot Games']"
            ]
          },
          "metadata": {
            "tags": []
          },
          "execution_count": 68
        }
      ]
    },
    {
      "cell_type": "code",
      "metadata": {
        "id": "KP1F22P-dl1y",
        "colab_type": "code",
        "colab": {}
      },
      "source": [
        "def similar_movies(v, n = 6):\n",
        "    \n",
        "    # extract most similar movies for the input vector\n",
        "    ms = model.similar_by_vector(v, topn= n+1)[1:]\n",
        "    \n",
        "    # extract title and similarity score of the similar movies\n",
        "    new_ms = []\n",
        "    for j in ms:\n",
        "        pair = (movies_dict[j[0]][0], j[1])\n",
        "        new_ms.append(pair)\n",
        "        \n",
        "    return new_ms"
      ],
      "execution_count": 0,
      "outputs": []
    },
    {
      "cell_type": "code",
      "metadata": {
        "id": "z7wB9RLXdl11",
        "colab_type": "code",
        "outputId": "9520d368-93ac-411a-cb69-859bd40b3a77",
        "colab": {}
      },
      "source": [
        "similar_movies(model['105112'])"
      ],
      "execution_count": 0,
      "outputs": [
        {
          "output_type": "execute_result",
          "data": {
            "text/plain": [
              "[('How the Grinch Stole Christmas', 0.730616569519043),\n",
              " ('Split Second', 0.7187882661819458),\n",
              " ('The Final Countdown', 0.7176185846328735),\n",
              " (\"Livin' Large!\", 0.7173690795898438),\n",
              " ('Hawks', 0.7129511833190918),\n",
              " ('Manhunter', 0.7002811431884766)]"
            ]
          },
          "metadata": {
            "tags": []
          },
          "execution_count": 70
        }
      ]
    },
    {
      "cell_type": "code",
      "metadata": {
        "id": "QcUzIwSRdl14",
        "colab_type": "code",
        "colab": {}
      },
      "source": [
        "def aggregate_vectors(movies):\n",
        "    movie_vec = []\n",
        "    for i in movies:\n",
        "        try:\n",
        "            movie_vec.append(model[i])\n",
        "        except KeyError:\n",
        "            continue\n",
        "        \n",
        "    return np.mean(movie_vec, axis=0)\n"
      ],
      "execution_count": 0,
      "outputs": []
    },
    {
      "cell_type": "code",
      "metadata": {
        "id": "xs5V010Gdl17",
        "colab_type": "code",
        "outputId": "1c44e0ba-a575-40e0-c8e6-90cd267db6ee",
        "colab": {}
      },
      "source": [
        "len(watched_val[2])"
      ],
      "execution_count": 0,
      "outputs": [
        {
          "output_type": "execute_result",
          "data": {
            "text/plain": [
              "597"
            ]
          },
          "metadata": {
            "tags": []
          },
          "execution_count": 80
        }
      ]
    },
    {
      "cell_type": "code",
      "metadata": {
        "id": "gfGQ-R2Ddl1_",
        "colab_type": "code",
        "outputId": "f5e28c00-ea23-4ee9-d37f-42af1061bde0",
        "colab": {}
      },
      "source": [
        "aggregate_vectors(watched_val[2]).shape"
      ],
      "execution_count": 0,
      "outputs": [
        {
          "output_type": "execute_result",
          "data": {
            "text/plain": [
              "(100,)"
            ]
          },
          "metadata": {
            "tags": []
          },
          "execution_count": 81
        }
      ]
    },
    {
      "cell_type": "code",
      "metadata": {
        "id": "us0W88NFdl2E",
        "colab_type": "code",
        "outputId": "a1bb591f-bf07-4d7f-9ce4-73f60f3bf495",
        "colab": {}
      },
      "source": [
        "similar_movies(aggregate_vectors(watched_val[2]))"
      ],
      "execution_count": 0,
      "outputs": [
        {
          "output_type": "execute_result",
          "data": {
            "text/plain": [
              "[('Our Miss Fred', 0.9716984629631042),\n",
              " ('Lovefilm', 0.9665443301200867),\n",
              " ('Gene-X', 0.9657200574874878),\n",
              " ('O Pátio das Cantigas', 0.9629855751991272),\n",
              " ('Mercano the Martian', 0.9613674283027649),\n",
              " (\"Hitler's Grave\", 0.96126788854599)]"
            ]
          },
          "metadata": {
            "tags": []
          },
          "execution_count": 82
        }
      ]
    },
    {
      "cell_type": "code",
      "metadata": {
        "id": "XttOcjTmdl2I",
        "colab_type": "code",
        "outputId": "069cf986-8a08-46e5-c64a-aaa2ac27de95",
        "colab": {}
      },
      "source": [
        "similar_movies(aggregate_vectors(watched_val[2][-10:]))"
      ],
      "execution_count": 0,
      "outputs": [
        {
          "output_type": "execute_result",
          "data": {
            "text/plain": [
              "[('South Sea Woman', 0.9722521305084229),\n",
              " ('The Joyless Street', 0.969933807849884),\n",
              " ('Ladies in Retirement', 0.9696546792984009),\n",
              " ('The Singing Kid', 0.9678635597229004),\n",
              " ('Transatlantic Merry-Go-Round', 0.9676827192306519),\n",
              " ('Are We Civilized?', 0.9664505124092102)]"
            ]
          },
          "metadata": {
            "tags": []
          },
          "execution_count": 83
        }
      ]
    },
    {
      "cell_type": "code",
      "metadata": {
        "id": "_kWlYCZGdl2L",
        "colab_type": "code",
        "colab": {}
      },
      "source": [
        ""
      ],
      "execution_count": 0,
      "outputs": []
    },
    {
      "cell_type": "code",
      "metadata": {
        "id": "bM4ljAP3dl2Q",
        "colab_type": "code",
        "colab": {}
      },
      "source": [
        ""
      ],
      "execution_count": 0,
      "outputs": []
    }
  ]
}