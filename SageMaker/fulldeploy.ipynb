{
 "cells": [
  {
   "cell_type": "markdown",
   "metadata": {},
   "source": [
    "# Build and deploy the docker container\n",
    "Ensure this notebook is running above the \"container\" folder containing the dockerfile."
   ]
  },
  {
   "cell_type": "code",
   "execution_count": 74,
   "metadata": {},
   "outputs": [
    {
     "name": "stdout",
     "output_type": "stream",
     "text": [
      "Login Succeeded\n",
      "Sending build context to Docker daemon  35.84kB\n",
      "Step 1/9 : FROM ubuntu:16.04\n",
      " ---> c6a43cd4801e\n",
      "Step 2/9 : MAINTAINER Amazon AI <sage-learner@amazon.com>\n",
      " ---> Using cache\n",
      " ---> 3470d5f45008\n",
      "Step 3/9 : RUN apt-get -y update && apt-get install -y --no-install-recommends          wget          python          nginx          ca-certificates     && rm -rf /var/lib/apt/lists/*\n",
      " ---> Using cache\n",
      " ---> acf02df8da3a\n",
      "Step 4/9 : RUN wget https://bootstrap.pypa.io/get-pip.py && python get-pip.py &&     pip install numpy==1.16.2 scipy==1.2.1 scikit-learn==0.20.2 pandas flask gevent gunicorn gensim &&         (cd /usr/local/lib/python2.7/dist-packages/scipy/.libs; rm *; ln ../../numpy/.libs/* .) &&         rm -rf /root/.cache\n",
      " ---> Using cache\n",
      " ---> 9ce63fff4b3e\n",
      "Step 5/9 : ENV PYTHONUNBUFFERED=TRUE\n",
      " ---> Using cache\n",
      " ---> ad4be953a85f\n",
      "Step 6/9 : ENV PYTHONDONTWRITEBYTECODE=TRUE\n",
      " ---> Using cache\n",
      " ---> 87bbaf6669e4\n",
      "Step 7/9 : ENV PATH=\"/opt/program:${PATH}\"\n",
      " ---> Using cache\n",
      " ---> 594d2cffa91b\n",
      "Step 8/9 : COPY decision_trees /opt/program\n",
      " ---> 687a728954a3\n",
      "Step 9/9 : WORKDIR /opt/program\n",
      " ---> Running in 44062e9096fe\n",
      "Removing intermediate container 44062e9096fe\n",
      " ---> efc7d61ab385\n",
      "Successfully built efc7d61ab385\n",
      "Successfully tagged sagemaker-word2vec:latest\n",
      "The push refers to repository [749215933700.dkr.ecr.us-east-1.amazonaws.com/sagemaker-word2vec]\n",
      "0fda50a2585b: Preparing\n",
      "60f43b273cc9: Preparing\n",
      "e4806e40417d: Preparing\n",
      "77008e118980: Preparing\n",
      "6cb741cb00b7: Preparing\n",
      "f36b28e4310d: Preparing\n",
      "91d23cf5425a: Preparing\n",
      "f36b28e4310d: Waiting\n",
      "91d23cf5425a: Waiting\n",
      "e4806e40417d: Layer already exists\n",
      "60f43b273cc9: Layer already exists\n",
      "77008e118980: Layer already exists\n",
      "6cb741cb00b7: Layer already exists\n",
      "f36b28e4310d: Layer already exists\n",
      "91d23cf5425a: Layer already exists\n",
      "0fda50a2585b: Pushed\n",
      "latest: digest: sha256:9077abb1342e1072539a11198015c4b5a2568396ece82d45202b2770f41bda75 size: 1783\n"
     ]
    },
    {
     "name": "stderr",
     "output_type": "stream",
     "text": [
      "WARNING! Using --password via the CLI is insecure. Use --password-stdin.\n",
      "WARNING! Your password will be stored unencrypted in /home/ec2-user/.docker/config.json.\n",
      "Configure a credential helper to remove this warning. See\n",
      "https://docs.docker.com/engine/reference/commandline/login/#credentials-store\n",
      "\n"
     ]
    }
   ],
   "source": [
    "%%sh\n",
    "\n",
    "# The name of our algorithm\n",
    "algorithm_name=sagemaker-word2vec\n",
    "\n",
    "cd container\n",
    "\n",
    "chmod +x decision_trees/train\n",
    "chmod +x decision_trees/serve\n",
    "\n",
    "account=$(aws sts get-caller-identity --query Account --output text)\n",
    "\n",
    "# Get the region defined in the current configuration (default to us-west-1 if none defined)\n",
    "region=$(aws configure get region)\n",
    "region=${region:-us-east-1}\n",
    "\n",
    "fullname=\"${account}.dkr.ecr.${region}.amazonaws.com/${algorithm_name}:latest\"\n",
    "\n",
    "# If the repository doesn't exist in ECR, create it.\n",
    "aws ecr describe-repositories --repository-names \"${algorithm_name}\" > /dev/null 2>&1\n",
    "\n",
    "if [ $? -ne 0 ]\n",
    "then\n",
    "    aws ecr create-repository --repository-name \"${algorithm_name}\" > /dev/null\n",
    "fi\n",
    "\n",
    "# Get the login command from ECR and execute it directly\n",
    "$(aws ecr get-login --region ${region} --no-include-email)\n",
    "\n",
    "# Build the docker image locally with the image name and then push it to ECR\n",
    "# with the full name.\n",
    "\n",
    "docker build  -t ${algorithm_name} .\n",
    "docker tag ${algorithm_name} ${fullname}\n",
    "\n",
    "docker push ${fullname}"
   ]
  },
  {
   "cell_type": "code",
   "execution_count": 75,
   "metadata": {},
   "outputs": [],
   "source": [
    "# S3 prefix\n",
    "prefix = 'word2vec'\n",
    "\n",
    "# Define IAM role\n",
    "import boto3\n",
    "import re\n",
    "\n",
    "import os\n",
    "import numpy as np\n",
    "import pandas as pd\n",
    "from sagemaker import get_execution_role\n",
    "\n",
    "role = get_execution_role()"
   ]
  },
  {
   "cell_type": "code",
   "execution_count": null,
   "metadata": {},
   "outputs": [],
   "source": []
  },
  {
   "cell_type": "code",
   "execution_count": 76,
   "metadata": {},
   "outputs": [
    {
     "name": "stdout",
     "output_type": "stream",
     "text": [
      "s3://sagemaker-us-east-1-749215933700/model/model.tar.gz\n"
     ]
    }
   ],
   "source": [
    "from sagemaker.session import Session\n",
    "\n",
    "model_data = Session().upload_data(path='model.tar.gz', key_prefix='model')\n",
    "print(model_data)"
   ]
  },
  {
   "cell_type": "code",
   "execution_count": 77,
   "metadata": {},
   "outputs": [],
   "source": [
    "import sagemaker as sage\n",
    "from time import gmtime, strftime\n",
    "\n",
    "sess = sage.Session()"
   ]
  },
  {
   "cell_type": "code",
   "execution_count": 78,
   "metadata": {},
   "outputs": [],
   "source": [
    "# generating the image path\n",
    "account = sess.boto_session.client('sts').get_caller_identity()['Account']\n",
    "region = sess.boto_session.region_name\n",
    "image = '{}.dkr.ecr.{}.amazonaws.com/sagemaker-word2vec:latest'.format(account, region)"
   ]
  },
  {
   "cell_type": "code",
   "execution_count": 79,
   "metadata": {},
   "outputs": [],
   "source": [
    "# to deploy the model, you need to have the model created based on your model artifacts, \n",
    "# create an endpoint configuration and then create the endpoint based on the two.\n",
    "# first let's create the model\n",
    "\n",
    "client = boto3.client('sagemaker')\n",
    "ModelName='TestCx-BYOA' + strftime(\"%Y-%m-%d-%H-%M-%S\", gmtime())\n",
    "first_model = client.create_model(\n",
    "    ModelName=ModelName,\n",
    "    PrimaryContainer={\n",
    "        'Image': image,\n",
    "        'ModelDataUrl': 's3://sagemaker-us-east-1-749215933700/model/model.tar.gz'    # note that the model.tar.gz file is a tarball of our word2vec_2.model file\n",
    "        },\n",
    "    ExecutionRoleArn=role)"
   ]
  },
  {
   "cell_type": "code",
   "execution_count": 80,
   "metadata": {},
   "outputs": [
    {
     "name": "stdout",
     "output_type": "stream",
     "text": [
      "TestCx-BYOA-2020-01-14-23-38-39\n",
      "Endpoint Config Arn: arn:aws:sagemaker:us-east-1:749215933700:endpoint-config/testcx-byoa-2020-01-14-23-38-39\n"
     ]
    }
   ],
   "source": [
    "# create the endpoint configuration\n",
    "endpoint_config_name = 'TestCx-BYOA-' + strftime(\"%Y-%m-%d-%H-%M-%S\", gmtime())\n",
    "print(endpoint_config_name)\n",
    "create_endpoint_config_response = client.create_endpoint_config(\n",
    "    EndpointConfigName = endpoint_config_name,\n",
    "    ProductionVariants=[{\n",
    "        'InstanceType':'ml.m4.xlarge',\n",
    "        'InitialVariantWeight':1,\n",
    "        'InitialInstanceCount':1,\n",
    "        'ModelName':ModelName,\n",
    "        'VariantName':'AllTraffic'}])\n",
    "\n",
    "print(\"Endpoint Config Arn: \" + create_endpoint_config_response['EndpointConfigArn'])"
   ]
  },
  {
   "cell_type": "code",
   "execution_count": 81,
   "metadata": {},
   "outputs": [
    {
     "name": "stdout",
     "output_type": "stream",
     "text": [
      "TestCx-BYOA-2020-01-14-23-38-40\n",
      "arn:aws:sagemaker:us-east-1:749215933700:endpoint/testcx-byoa-2020-01-14-23-38-40\n"
     ]
    }
   ],
   "source": [
    "# create the endpoint\n",
    "endpoint_name = 'TestCx-BYOA-' + strftime(\"%Y-%m-%d-%H-%M-%S\", gmtime())\n",
    "print(endpoint_name)\n",
    "create_endpoint_response = client.create_endpoint(\n",
    "    EndpointName=endpoint_name,\n",
    "    EndpointConfigName=endpoint_config_name)\n",
    "print(create_endpoint_response['EndpointArn'])"
   ]
  },
  {
   "cell_type": "code",
   "execution_count": 82,
   "metadata": {},
   "outputs": [],
   "source": [
    "from sagemaker.predictor import csv_serializer, json_deserializer"
   ]
  },
  {
   "cell_type": "code",
   "execution_count": 83,
   "metadata": {},
   "outputs": [],
   "source": [
    "from sagemaker.predictor import RealTimePredictor\n",
    "\n",
    "predictor = RealTimePredictor(endpoint = endpoint_name, sagemaker_session=sess, serializer=csv_serializer, deserializer=json_deserializer)"
   ]
  },
  {
   "cell_type": "code",
   "execution_count": 84,
   "metadata": {},
   "outputs": [],
   "source": [
    "# client.delete_endpoint(EndpointName=endpoint_name)"
   ]
  },
  {
   "cell_type": "code",
   "execution_count": 87,
   "metadata": {},
   "outputs": [
    {
     "data": {
      "text/plain": [
       "['__class__',\n",
       " '__delattr__',\n",
       " '__dict__',\n",
       " '__dir__',\n",
       " '__doc__',\n",
       " '__eq__',\n",
       " '__format__',\n",
       " '__ge__',\n",
       " '__getattribute__',\n",
       " '__gt__',\n",
       " '__hash__',\n",
       " '__init__',\n",
       " '__init_subclass__',\n",
       " '__le__',\n",
       " '__lt__',\n",
       " '__module__',\n",
       " '__ne__',\n",
       " '__new__',\n",
       " '__reduce__',\n",
       " '__reduce_ex__',\n",
       " '__repr__',\n",
       " '__setattr__',\n",
       " '__sizeof__',\n",
       " '__str__',\n",
       " '__subclasshook__',\n",
       " '__weakref__',\n",
       " '_create_request_args',\n",
       " '_delete_endpoint_config',\n",
       " '_endpoint_config_name',\n",
       " '_get_endpoint_config_name',\n",
       " '_get_model_names',\n",
       " '_handle_response',\n",
       " '_model_names',\n",
       " 'accept',\n",
       " 'content_type',\n",
       " 'delete_endpoint',\n",
       " 'delete_model',\n",
       " 'deserializer',\n",
       " 'disable_data_capture',\n",
       " 'enable_data_capture',\n",
       " 'endpoint',\n",
       " 'list_monitors',\n",
       " 'predict',\n",
       " 'sagemaker_session',\n",
       " 'serializer',\n",
       " 'update_data_capture_config']"
      ]
     },
     "execution_count": 87,
     "metadata": {},
     "output_type": "execute_result"
    }
   ],
   "source": [
    "dir(predictor)"
   ]
  },
  {
   "cell_type": "code",
   "execution_count": 86,
   "metadata": {},
   "outputs": [
    {
     "name": "stderr",
     "output_type": "stream",
     "text": [
      "/home/ec2-user/anaconda3/envs/python3/lib/python3.6/site-packages/ipykernel/__main__.py:5: FutureWarning: Method .as_matrix will be removed in a future version. Use .values instead.\n"
     ]
    }
   ],
   "source": [
    "import pandas as pd\n",
    "test_df = pd.DataFrame(data={'column1':['116282', '2042568', '1019452', '1403865', \n",
    "                                        '190590', '138524', '335245', '477348', \n",
    "                                        '887883', '101410']})\n",
    "test_input = test_df.column1.as_matrix()"
   ]
  },
  {
   "cell_type": "code",
   "execution_count": 89,
   "metadata": {},
   "outputs": [
    {
     "ename": "ModelError",
     "evalue": "An error occurred (ModelError) when calling the InvokeEndpoint operation: Received server error (500) from model with message \"<!DOCTYPE HTML PUBLIC \"-//W3C//DTD HTML 3.2 Final//EN\">\n<title>500 Internal Server Error</title>\n<h1>Internal Server Error</h1>\n<p>The server encountered an internal error and was unable to complete your request. Either the server is overloaded or there is an error in the application.</p>\n\". See https://us-east-1.console.aws.amazon.com/cloudwatch/home?region=us-east-1#logEventViewer:group=/aws/sagemaker/Endpoints/TestCx-BYOA-2020-01-14-23-38-40 in account 749215933700 for more information.",
     "output_type": "error",
     "traceback": [
      "\u001b[0;31m---------------------------------------------------------------------------\u001b[0m",
      "\u001b[0;31mModelError\u001b[0m                                Traceback (most recent call last)",
      "\u001b[0;32m<ipython-input-89-e760a80836c2>\u001b[0m in \u001b[0;36m<module>\u001b[0;34m()\u001b[0m\n\u001b[0;32m----> 1\u001b[0;31m \u001b[0mpredictor\u001b[0m\u001b[0;34m.\u001b[0m\u001b[0mpredict\u001b[0m\u001b[0;34m(\u001b[0m\u001b[0mtest_input\u001b[0m\u001b[0;34m)\u001b[0m\u001b[0;34m\u001b[0m\u001b[0m\n\u001b[0m",
      "\u001b[0;32m~/anaconda3/envs/python3/lib/python3.6/site-packages/sagemaker/predictor.py\u001b[0m in \u001b[0;36mpredict\u001b[0;34m(self, data, initial_args)\u001b[0m\n\u001b[1;32m    105\u001b[0m \u001b[0;34m\u001b[0m\u001b[0m\n\u001b[1;32m    106\u001b[0m         \u001b[0mrequest_args\u001b[0m \u001b[0;34m=\u001b[0m \u001b[0mself\u001b[0m\u001b[0;34m.\u001b[0m\u001b[0m_create_request_args\u001b[0m\u001b[0;34m(\u001b[0m\u001b[0mdata\u001b[0m\u001b[0;34m,\u001b[0m \u001b[0minitial_args\u001b[0m\u001b[0;34m)\u001b[0m\u001b[0;34m\u001b[0m\u001b[0m\n\u001b[0;32m--> 107\u001b[0;31m         \u001b[0mresponse\u001b[0m \u001b[0;34m=\u001b[0m \u001b[0mself\u001b[0m\u001b[0;34m.\u001b[0m\u001b[0msagemaker_session\u001b[0m\u001b[0;34m.\u001b[0m\u001b[0msagemaker_runtime_client\u001b[0m\u001b[0;34m.\u001b[0m\u001b[0minvoke_endpoint\u001b[0m\u001b[0;34m(\u001b[0m\u001b[0;34m**\u001b[0m\u001b[0mrequest_args\u001b[0m\u001b[0;34m)\u001b[0m\u001b[0;34m\u001b[0m\u001b[0m\n\u001b[0m\u001b[1;32m    108\u001b[0m         \u001b[0;32mreturn\u001b[0m \u001b[0mself\u001b[0m\u001b[0;34m.\u001b[0m\u001b[0m_handle_response\u001b[0m\u001b[0;34m(\u001b[0m\u001b[0mresponse\u001b[0m\u001b[0;34m)\u001b[0m\u001b[0;34m\u001b[0m\u001b[0m\n\u001b[1;32m    109\u001b[0m \u001b[0;34m\u001b[0m\u001b[0m\n",
      "\u001b[0;32m~/anaconda3/envs/python3/lib/python3.6/site-packages/botocore/client.py\u001b[0m in \u001b[0;36m_api_call\u001b[0;34m(self, *args, **kwargs)\u001b[0m\n\u001b[1;32m    355\u001b[0m                     \"%s() only accepts keyword arguments.\" % py_operation_name)\n\u001b[1;32m    356\u001b[0m             \u001b[0;31m# The \"self\" in this scope is referring to the BaseClient.\u001b[0m\u001b[0;34m\u001b[0m\u001b[0;34m\u001b[0m\u001b[0m\n\u001b[0;32m--> 357\u001b[0;31m             \u001b[0;32mreturn\u001b[0m \u001b[0mself\u001b[0m\u001b[0;34m.\u001b[0m\u001b[0m_make_api_call\u001b[0m\u001b[0;34m(\u001b[0m\u001b[0moperation_name\u001b[0m\u001b[0;34m,\u001b[0m \u001b[0mkwargs\u001b[0m\u001b[0;34m)\u001b[0m\u001b[0;34m\u001b[0m\u001b[0m\n\u001b[0m\u001b[1;32m    358\u001b[0m \u001b[0;34m\u001b[0m\u001b[0m\n\u001b[1;32m    359\u001b[0m         \u001b[0m_api_call\u001b[0m\u001b[0;34m.\u001b[0m\u001b[0m__name__\u001b[0m \u001b[0;34m=\u001b[0m \u001b[0mstr\u001b[0m\u001b[0;34m(\u001b[0m\u001b[0mpy_operation_name\u001b[0m\u001b[0;34m)\u001b[0m\u001b[0;34m\u001b[0m\u001b[0m\n",
      "\u001b[0;32m~/anaconda3/envs/python3/lib/python3.6/site-packages/botocore/client.py\u001b[0m in \u001b[0;36m_make_api_call\u001b[0;34m(self, operation_name, api_params)\u001b[0m\n\u001b[1;32m    659\u001b[0m             \u001b[0merror_code\u001b[0m \u001b[0;34m=\u001b[0m \u001b[0mparsed_response\u001b[0m\u001b[0;34m.\u001b[0m\u001b[0mget\u001b[0m\u001b[0;34m(\u001b[0m\u001b[0;34m\"Error\"\u001b[0m\u001b[0;34m,\u001b[0m \u001b[0;34m{\u001b[0m\u001b[0;34m}\u001b[0m\u001b[0;34m)\u001b[0m\u001b[0;34m.\u001b[0m\u001b[0mget\u001b[0m\u001b[0;34m(\u001b[0m\u001b[0;34m\"Code\"\u001b[0m\u001b[0;34m)\u001b[0m\u001b[0;34m\u001b[0m\u001b[0m\n\u001b[1;32m    660\u001b[0m             \u001b[0merror_class\u001b[0m \u001b[0;34m=\u001b[0m \u001b[0mself\u001b[0m\u001b[0;34m.\u001b[0m\u001b[0mexceptions\u001b[0m\u001b[0;34m.\u001b[0m\u001b[0mfrom_code\u001b[0m\u001b[0;34m(\u001b[0m\u001b[0merror_code\u001b[0m\u001b[0;34m)\u001b[0m\u001b[0;34m\u001b[0m\u001b[0m\n\u001b[0;32m--> 661\u001b[0;31m             \u001b[0;32mraise\u001b[0m \u001b[0merror_class\u001b[0m\u001b[0;34m(\u001b[0m\u001b[0mparsed_response\u001b[0m\u001b[0;34m,\u001b[0m \u001b[0moperation_name\u001b[0m\u001b[0;34m)\u001b[0m\u001b[0;34m\u001b[0m\u001b[0m\n\u001b[0m\u001b[1;32m    662\u001b[0m         \u001b[0;32melse\u001b[0m\u001b[0;34m:\u001b[0m\u001b[0;34m\u001b[0m\u001b[0m\n\u001b[1;32m    663\u001b[0m             \u001b[0;32mreturn\u001b[0m \u001b[0mparsed_response\u001b[0m\u001b[0;34m\u001b[0m\u001b[0m\n",
      "\u001b[0;31mModelError\u001b[0m: An error occurred (ModelError) when calling the InvokeEndpoint operation: Received server error (500) from model with message \"<!DOCTYPE HTML PUBLIC \"-//W3C//DTD HTML 3.2 Final//EN\">\n<title>500 Internal Server Error</title>\n<h1>Internal Server Error</h1>\n<p>The server encountered an internal error and was unable to complete your request. Either the server is overloaded or there is an error in the application.</p>\n\". See https://us-east-1.console.aws.amazon.com/cloudwatch/home?region=us-east-1#logEventViewer:group=/aws/sagemaker/Endpoints/TestCx-BYOA-2020-01-14-23-38-40 in account 749215933700 for more information."
     ]
    }
   ],
   "source": [
    "predictor.predict(test_input)"
   ]
  },
  {
   "cell_type": "code",
   "execution_count": 22,
   "metadata": {},
   "outputs": [
    {
     "data": {
      "text/html": [
       "<div>\n",
       "<style scoped>\n",
       "    .dataframe tbody tr th:only-of-type {\n",
       "        vertical-align: middle;\n",
       "    }\n",
       "\n",
       "    .dataframe tbody tr th {\n",
       "        vertical-align: top;\n",
       "    }\n",
       "\n",
       "    .dataframe thead th {\n",
       "        text-align: right;\n",
       "    }\n",
       "</style>\n",
       "<table border=\"1\" class=\"dataframe\">\n",
       "  <thead>\n",
       "    <tr style=\"text-align: right;\">\n",
       "      <th></th>\n",
       "      <th>movieid</th>\n",
       "      <th>userid</th>\n",
       "      <th>users</th>\n",
       "      <th>tconst</th>\n",
       "      <th>titleType</th>\n",
       "      <th>primaryTitle</th>\n",
       "      <th>originalTitle</th>\n",
       "      <th>isAdult</th>\n",
       "      <th>startYear</th>\n",
       "      <th>endYear</th>\n",
       "      <th>runtimeMinutes</th>\n",
       "      <th>genres</th>\n",
       "    </tr>\n",
       "  </thead>\n",
       "  <tbody>\n",
       "    <tr>\n",
       "      <th>0</th>\n",
       "      <td>72777</td>\n",
       "      <td>nmadhuk3</td>\n",
       "      <td>nmadhuk3</td>\n",
       "      <td>tt0072777</td>\n",
       "      <td>movie</td>\n",
       "      <td>Chhoti Si Baat</td>\n",
       "      <td>Chhoti Si Baat</td>\n",
       "      <td>0</td>\n",
       "      <td>1976</td>\n",
       "      <td>2005</td>\n",
       "      <td>123</td>\n",
       "      <td>Comedy,Romance</td>\n",
       "    </tr>\n",
       "    <tr>\n",
       "      <th>1</th>\n",
       "      <td>72777</td>\n",
       "      <td>mishu_mausam</td>\n",
       "      <td>mishu_mausam</td>\n",
       "      <td>tt0072777</td>\n",
       "      <td>movie</td>\n",
       "      <td>Chhoti Si Baat</td>\n",
       "      <td>Chhoti Si Baat</td>\n",
       "      <td>0</td>\n",
       "      <td>1976</td>\n",
       "      <td>2005</td>\n",
       "      <td>123</td>\n",
       "      <td>Comedy,Romance</td>\n",
       "    </tr>\n",
       "    <tr>\n",
       "      <th>2</th>\n",
       "      <td>72777</td>\n",
       "      <td>Kaaliyaa</td>\n",
       "      <td>Kaaliyaa</td>\n",
       "      <td>tt0072777</td>\n",
       "      <td>movie</td>\n",
       "      <td>Chhoti Si Baat</td>\n",
       "      <td>Chhoti Si Baat</td>\n",
       "      <td>0</td>\n",
       "      <td>1976</td>\n",
       "      <td>2005</td>\n",
       "      <td>123</td>\n",
       "      <td>Comedy,Romance</td>\n",
       "    </tr>\n",
       "    <tr>\n",
       "      <th>3</th>\n",
       "      <td>72777</td>\n",
       "      <td>Peter_Young</td>\n",
       "      <td>Peter_Young</td>\n",
       "      <td>tt0072777</td>\n",
       "      <td>movie</td>\n",
       "      <td>Chhoti Si Baat</td>\n",
       "      <td>Chhoti Si Baat</td>\n",
       "      <td>0</td>\n",
       "      <td>1976</td>\n",
       "      <td>2005</td>\n",
       "      <td>123</td>\n",
       "      <td>Comedy,Romance</td>\n",
       "    </tr>\n",
       "    <tr>\n",
       "      <th>4</th>\n",
       "      <td>72777</td>\n",
       "      <td>bluegreensalad</td>\n",
       "      <td>bluegreensalad</td>\n",
       "      <td>tt0072777</td>\n",
       "      <td>movie</td>\n",
       "      <td>Chhoti Si Baat</td>\n",
       "      <td>Chhoti Si Baat</td>\n",
       "      <td>0</td>\n",
       "      <td>1976</td>\n",
       "      <td>2005</td>\n",
       "      <td>123</td>\n",
       "      <td>Comedy,Romance</td>\n",
       "    </tr>\n",
       "  </tbody>\n",
       "</table>\n",
       "</div>"
      ],
      "text/plain": [
       "   movieid          userid           users     tconst titleType  \\\n",
       "0    72777        nmadhuk3        nmadhuk3  tt0072777     movie   \n",
       "1    72777    mishu_mausam    mishu_mausam  tt0072777     movie   \n",
       "2    72777        Kaaliyaa        Kaaliyaa  tt0072777     movie   \n",
       "3    72777     Peter_Young     Peter_Young  tt0072777     movie   \n",
       "4    72777  bluegreensalad  bluegreensalad  tt0072777     movie   \n",
       "\n",
       "     primaryTitle   originalTitle  isAdult  startYear  endYear  \\\n",
       "0  Chhoti Si Baat  Chhoti Si Baat        0       1976     2005   \n",
       "1  Chhoti Si Baat  Chhoti Si Baat        0       1976     2005   \n",
       "2  Chhoti Si Baat  Chhoti Si Baat        0       1976     2005   \n",
       "3  Chhoti Si Baat  Chhoti Si Baat        0       1976     2005   \n",
       "4  Chhoti Si Baat  Chhoti Si Baat        0       1976     2005   \n",
       "\n",
       "   runtimeMinutes          genres  \n",
       "0             123  Comedy,Romance  \n",
       "1             123  Comedy,Romance  \n",
       "2             123  Comedy,Romance  \n",
       "3             123  Comedy,Romance  \n",
       "4             123  Comedy,Romance  "
      ]
     },
     "execution_count": 22,
     "metadata": {},
     "output_type": "execute_result"
    }
   ],
   "source": [
    "import pandas as pd\n",
    "df = pd.read_csv('./data/word2vec_test_data.csv')\n",
    "df"
   ]
  },
  {
   "cell_type": "code",
   "execution_count": 4,
   "metadata": {},
   "outputs": [
    {
     "data": {
      "text/plain": [
       "0    72777\n",
       "1    72777\n",
       "2    72777\n",
       "3    72777\n",
       "4    72777\n",
       "Name: movieid, dtype: int64"
      ]
     },
     "execution_count": 4,
     "metadata": {},
     "output_type": "execute_result"
    }
   ],
   "source": [
    "data = data['movieid']\n",
    "data"
   ]
  },
  {
   "cell_type": "code",
   "execution_count": 52,
   "metadata": {},
   "outputs": [
    {
     "data": {
      "text/plain": [
       "0    72777\n",
       "1    72777\n",
       "2    72777\n",
       "3    72777\n",
       "4    72777\n",
       "Name: movieid, dtype: int64"
      ]
     },
     "execution_count": 52,
     "metadata": {},
     "output_type": "execute_result"
    }
   ],
   "source": [
    "data"
   ]
  },
  {
   "cell_type": "code",
   "execution_count": 5,
   "metadata": {},
   "outputs": [
    {
     "data": {
      "text/plain": [
       "[72777, 72777, 72777, 72777, 72777]"
      ]
     },
     "execution_count": 5,
     "metadata": {},
     "output_type": "execute_result"
    }
   ],
   "source": [
    "map(int, data)"
   ]
  },
  {
   "cell_type": "code",
   "execution_count": 23,
   "metadata": {},
   "outputs": [
    {
     "data": {
      "text/plain": [
       "'{\"movieid\":{\"0\":72777,\"1\":72777,\"2\":72777,\"3\":72777,\"4\":72777},\"userid\":{\"0\":\"nmadhuk3\",\"1\":\"mishu_mausam\",\"2\":\"Kaaliyaa\",\"3\":\"Peter_Young\",\"4\":\"bluegreensalad\"},\"users\":{\"0\":\"nmadhuk3\",\"1\":\"mishu_mausam\",\"2\":\"Kaaliyaa\",\"3\":\"Peter_Young\",\"4\":\"bluegreensalad\"},\"tconst\":{\"0\":\"tt0072777\",\"1\":\"tt0072777\",\"2\":\"tt0072777\",\"3\":\"tt0072777\",\"4\":\"tt0072777\"},\"titleType\":{\"0\":\"movie\",\"1\":\"movie\",\"2\":\"movie\",\"3\":\"movie\",\"4\":\"movie\"},\"primaryTitle\":{\"0\":\"Chhoti Si Baat\",\"1\":\"Chhoti Si Baat\",\"2\":\"Chhoti Si Baat\",\"3\":\"Chhoti Si Baat\",\"4\":\"Chhoti Si Baat\"},\"originalTitle\":{\"0\":\"Chhoti Si Baat\",\"1\":\"Chhoti Si Baat\",\"2\":\"Chhoti Si Baat\",\"3\":\"Chhoti Si Baat\",\"4\":\"Chhoti Si Baat\"},\"isAdult\":{\"0\":0,\"1\":0,\"2\":0,\"3\":0,\"4\":0},\"startYear\":{\"0\":1976,\"1\":1976,\"2\":1976,\"3\":1976,\"4\":1976},\"endYear\":{\"0\":2005,\"1\":2005,\"2\":2005,\"3\":2005,\"4\":2005},\"runtimeMinutes\":{\"0\":123,\"1\":123,\"2\":123,\"3\":123,\"4\":123},\"genres\":{\"0\":\"Comedy,Romance\",\"1\":\"Comedy,Romance\",\"2\":\"Comedy,Romance\",\"3\":\"Comedy,Romance\",\"4\":\"Comedy,Romance\"}}'"
      ]
     },
     "execution_count": 23,
     "metadata": {},
     "output_type": "execute_result"
    }
   ],
   "source": [
    "df = df.to_json()\n",
    "df"
   ]
  },
  {
   "cell_type": "code",
   "execution_count": 72,
   "metadata": {},
   "outputs": [
    {
     "ename": "NameError",
     "evalue": "name 'df' is not defined",
     "output_type": "error",
     "traceback": [
      "\u001b[0;31m---------------------------------------------------------------------------\u001b[0m",
      "\u001b[0;31mNameError\u001b[0m                                 Traceback (most recent call last)",
      "\u001b[0;32m<ipython-input-72-e80199731db7>\u001b[0m in \u001b[0;36m<module>\u001b[0;34m()\u001b[0m\n\u001b[0;32m----> 1\u001b[0;31m \u001b[0mpredictor\u001b[0m\u001b[0;34m.\u001b[0m\u001b[0mpredict\u001b[0m\u001b[0;34m(\u001b[0m\u001b[0mdf\u001b[0m\u001b[0;34m)\u001b[0m\u001b[0;34m\u001b[0m\u001b[0m\n\u001b[0m",
      "\u001b[0;31mNameError\u001b[0m: name 'df' is not defined"
     ]
    }
   ],
   "source": [
    "predictor.predict(df)"
   ]
  },
  {
   "cell_type": "code",
   "execution_count": null,
   "metadata": {},
   "outputs": [],
   "source": []
  }
 ],
 "metadata": {
  "kernelspec": {
   "display_name": "conda_python3",
   "language": "python",
   "name": "conda_python3"
  },
  "language_info": {
   "codemirror_mode": {
    "name": "ipython",
    "version": 3
   },
   "file_extension": ".py",
   "mimetype": "text/x-python",
   "name": "python",
   "nbconvert_exporter": "python",
   "pygments_lexer": "ipython3",
   "version": "3.6.5"
  }
 },
 "nbformat": 4,
 "nbformat_minor": 4
}
