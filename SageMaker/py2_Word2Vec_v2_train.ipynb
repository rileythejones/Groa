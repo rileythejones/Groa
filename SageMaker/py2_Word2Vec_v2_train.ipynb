{
 "cells": [
  {
   "cell_type": "markdown",
   "metadata": {},
   "source": [
    "# Word2Vec v2: \"Mistake Not\""
   ]
  },
  {
   "cell_type": "markdown",
   "metadata": {},
   "source": [
    "### Connect to Database"
   ]
  },
  {
   "cell_type": "code",
   "execution_count": 1,
   "metadata": {
    "colab": {
     "base_uri": "https://localhost:8080/",
     "height": 36
    },
    "colab_type": "code",
    "executionInfo": {
     "elapsed": 3001,
     "status": "ok",
     "timestamp": 1578954025043,
     "user": {
      "displayName": "Cooper Williams",
      "photoUrl": "https://lh3.googleusercontent.com/a-/AAuE7mCBd8BZPrGsSITPUox_UKbSmoT6f0h8PucNwTr60w=s64",
      "userId": "15095415326628117346"
     },
     "user_tz": 300
    },
    "id": "iQWJUpFjdlyj",
    "outputId": "f44ae211-ffec-4beb-930f-24240491e14d"
   },
   "outputs": [
    {
     "name": "stdout",
     "output_type": "stream",
     "text": [
      "Requirement already satisfied: psycopg2-binary in /home/ec2-user/.local/lib/python3.6/site-packages (2.8.4)\n",
      "\u001b[33mYou are using pip version 19.0.2, however version 19.3.1 is available.\n",
      "You should consider upgrading via the 'pip install --upgrade pip' command.\u001b[0m\n"
     ]
    },
    {
     "name": "stderr",
     "output_type": "stream",
     "text": [
      "/home/ec2-user/anaconda3/envs/chainer_p27/lib/python2.7/site-packages/psycopg2/__init__.py:144: UserWarning: The psycopg2 wheel package will be renamed from release 2.8; in order to keep installing from binary please use \"pip install psycopg2-binary\" instead. For details see: <http://initd.org/psycopg/docs/install.html#binary-install-from-pypi>.\n",
      "  \"\"\")\n"
     ]
    }
   ],
   "source": [
    "! pip3 install psycopg2-binary --user\n",
    "import pandas as pd\n",
    "import psycopg2\n",
    "import numpy as np\n",
    "from getpass import getpass"
   ]
  },
  {
   "cell_type": "code",
   "execution_count": 2,
   "metadata": {
    "colab": {
     "base_uri": "https://localhost:8080/",
     "height": 36
    },
    "colab_type": "code",
    "executionInfo": {
     "elapsed": 5789,
     "status": "ok",
     "timestamp": 1578954032020,
     "user": {
      "displayName": "Cooper Williams",
      "photoUrl": "https://lh3.googleusercontent.com/a-/AAuE7mCBd8BZPrGsSITPUox_UKbSmoT6f0h8PucNwTr60w=s64",
      "userId": "15095415326628117346"
     },
     "user_tz": 300
    },
    "id": "at19RYvtdlyw",
    "outputId": "0be27d51-9199-483a-f79d-635dcb902f35"
   },
   "outputs": [
    {
     "name": "stdin",
     "output_type": "stream",
     "text": [
      " ················\n"
     ]
    }
   ],
   "source": [
    "# connect to database\n",
    "connection = psycopg2.connect(\n",
    "    database  = \"postgres\",\n",
    "    user      = \"postgres\",\n",
    "    password  = getpass(),\n",
    "    host      = \"movie-rec-scrape.cvslmiksgnix.us-east-1.rds.amazonaws.com\",\n",
    "    port      = '5432'\n",
    ")\n",
    "# Enter database password below and press Enter."
   ]
  },
  {
   "cell_type": "code",
   "execution_count": 3,
   "metadata": {
    "colab": {
     "base_uri": "https://localhost:8080/",
     "height": 36
    },
    "colab_type": "code",
    "executionInfo": {
     "elapsed": 2765,
     "status": "ok",
     "timestamp": 1578955267613,
     "user": {
      "displayName": "Cooper Williams",
      "photoUrl": "https://lh3.googleusercontent.com/a-/AAuE7mCBd8BZPrGsSITPUox_UKbSmoT6f0h8PucNwTr60w=s64",
      "userId": "15095415326628117346"
     },
     "user_tz": 300
    },
    "id": "d417YjdVdly9",
    "outputId": "bc2f5955-c858-40ca-8e71-f0e3d2410afd"
   },
   "outputs": [
    {
     "name": "stdout",
     "output_type": "stream",
     "text": [
      "Connected!\n"
     ]
    }
   ],
   "source": [
    "# create cursor that is used throughout\n",
    "try:\n",
    "    c = connection.cursor()\n",
    "    print(\"Connected!\")\n",
    "except:\n",
    "    print(\"Connection problem chief!\")"
   ]
  },
  {
   "cell_type": "markdown",
   "metadata": {},
   "source": [
    "### Prepare data and train.\n",
    "1. Get the list of reviewers whose reviews we want (about 17k)\n",
    "2. Get the dataframe of reviewers, movie IDs with positive reviews\n",
    "3. Inner join the above two dataframes.\n",
    "4. Run the list constructor on the join table to construct the training data.\n",
    "    - Training data is of this format: [['movieid1', 'movieid2', ...], ...]\n",
    "5. Train Word2Vec on the list of watch histories (which are themselves lists of movie IDs).\n",
    "6. Save the model."
   ]
  },
  {
   "cell_type": "code",
   "execution_count": 72,
   "metadata": {
    "colab": {},
    "colab_type": "code",
    "id": "tfmu_UdndlzG"
   },
   "outputs": [],
   "source": [
    "# Get reviewers with at least 10 positive reviews (rating 7-10 inclusive)\n",
    "c.execute(\"\"\"\n",
    "select username\n",
    "from reviews\n",
    "where user_rating between 7 and 10\n",
    "group by username\n",
    "having count(username) >= 10\n",
    "order by count(username) desc\n",
    "\"\"\")\n",
    "\n",
    "reviewers = c.fetchall()"
   ]
  },
  {
   "cell_type": "code",
   "execution_count": 74,
   "metadata": {
    "colab": {},
    "colab_type": "code",
    "id": "8A_os2zUdlzQ"
   },
   "outputs": [
    {
     "data": {
      "text/html": [
       "<div>\n",
       "<style scoped>\n",
       "    .dataframe tbody tr th:only-of-type {\n",
       "        vertical-align: middle;\n",
       "    }\n",
       "\n",
       "    .dataframe tbody tr th {\n",
       "        vertical-align: top;\n",
       "    }\n",
       "\n",
       "    .dataframe thead th {\n",
       "        text-align: right;\n",
       "    }\n",
       "</style>\n",
       "<table border=\"1\" class=\"dataframe\">\n",
       "  <thead>\n",
       "    <tr style=\"text-align: right;\">\n",
       "      <th></th>\n",
       "      <th>movieid</th>\n",
       "      <th>userid</th>\n",
       "    </tr>\n",
       "  </thead>\n",
       "  <tbody>\n",
       "    <tr>\n",
       "      <th>0</th>\n",
       "      <td>5493944</td>\n",
       "      <td>dmldc</td>\n",
       "    </tr>\n",
       "    <tr>\n",
       "      <th>1</th>\n",
       "      <td>0095016</td>\n",
       "      <td>immortal_saint1</td>\n",
       "    </tr>\n",
       "    <tr>\n",
       "      <th>2</th>\n",
       "      <td>5493944</td>\n",
       "      <td>vampyr_vashti</td>\n",
       "    </tr>\n",
       "    <tr>\n",
       "      <th>3</th>\n",
       "      <td>5493944</td>\n",
       "      <td>julieclowes</td>\n",
       "    </tr>\n",
       "    <tr>\n",
       "      <th>4</th>\n",
       "      <td>5493944</td>\n",
       "      <td>stephgonser</td>\n",
       "    </tr>\n",
       "  </tbody>\n",
       "</table>\n",
       "</div>"
      ],
      "text/plain": [
       "   movieid           userid\n",
       "0  5493944            dmldc\n",
       "1  0095016  immortal_saint1\n",
       "2  5493944    vampyr_vashti\n",
       "3  5493944      julieclowes\n",
       "4  5493944      stephgonser"
      ]
     },
     "execution_count": 74,
     "metadata": {},
     "output_type": "execute_result"
    }
   ],
   "source": [
    "# Get positive reviews from database\n",
    "c.execute(\"SELECT movie_id, username FROM reviews WHERE user_rating > 6\")\n",
    "result = c.fetchall()\n",
    "\n",
    "# create reviews dataframe\n",
    "df = pd.DataFrame(result, columns = ['movieid', 'userid'])\n",
    "df.head()"
   ]
  },
  {
   "cell_type": "code",
   "execution_count": 76,
   "metadata": {
    "colab": {
     "base_uri": "https://localhost:8080/",
     "height": 206
    },
    "colab_type": "code",
    "executionInfo": {
     "elapsed": 6880,
     "status": "ok",
     "timestamp": 1578955272419,
     "user": {
      "displayName": "Cooper Williams",
      "photoUrl": "https://lh3.googleusercontent.com/a-/AAuE7mCBd8BZPrGsSITPUox_UKbSmoT6f0h8PucNwTr60w=s64",
      "userId": "15095415326628117346"
     },
     "user_tz": 300
    },
    "id": "_47oo4s1dlzY",
    "outputId": "9f3542e2-2648-445d-a601-18820c9d9723"
   },
   "outputs": [],
   "source": [
    "# create reviewers dataframe\n",
    "df_reviewers = pd.DataFrame(reviewers, columns = ['userid'])"
   ]
  },
  {
   "cell_type": "code",
   "execution_count": 77,
   "metadata": {},
   "outputs": [
    {
     "data": {
      "text/plain": [
       "(904140, 2)"
      ]
     },
     "execution_count": 77,
     "metadata": {},
     "output_type": "execute_result"
    }
   ],
   "source": [
    "# merge to get only the IDs relevant to training\n",
    "df = df.merge(df_reviewers, how='inner', on='userid')\n",
    "df.shape"
   ]
  },
  {
   "cell_type": "code",
   "execution_count": 22,
   "metadata": {
    "colab": {
     "base_uri": "https://localhost:8080/",
     "height": 73
    },
    "colab_type": "code",
    "executionInfo": {
     "elapsed": 3472,
     "status": "ok",
     "timestamp": 1578955409541,
     "user": {
      "displayName": "Cooper Williams",
      "photoUrl": "https://lh3.googleusercontent.com/a-/AAuE7mCBd8BZPrGsSITPUox_UKbSmoT6f0h8PucNwTr60w=s64",
      "userId": "15095415326628117346"
     },
     "user_tz": 300
    },
    "id": "z2OBA-xqdl0m",
    "outputId": "faa65cc8-cd3d-4f08-fb57-5099851a509c"
   },
   "outputs": [
    {
     "name": "stdout",
     "output_type": "stream",
     "text": [
      "Loaded plugins: dkms-build-requires, priorities, update-motd, upgrade-helper,\n",
      "              : versionlock\n",
      "You need to be root to perform this command.\n",
      "Loaded plugins: dkms-build-requires, priorities, update-motd, upgrade-helper,\n",
      "              : versionlock\n",
      "You need to be root to perform this command.\n",
      "Python 3.6.5 :: Anaconda, Inc.\n"
     ]
    }
   ],
   "source": [
    "# ! sudo su\n",
    "# ! yum update -y\n",
    "# ! yum -y install python-pip\n",
    "# ! python -V"
   ]
  },
  {
   "cell_type": "code",
   "execution_count": 23,
   "metadata": {
    "colab": {
     "base_uri": "https://localhost:8080/",
     "height": 36
    },
    "colab_type": "code",
    "executionInfo": {
     "elapsed": 3298,
     "status": "ok",
     "timestamp": 1578955411283,
     "user": {
      "displayName": "Cooper Williams",
      "photoUrl": "https://lh3.googleusercontent.com/a-/AAuE7mCBd8BZPrGsSITPUox_UKbSmoT6f0h8PucNwTr60w=s64",
      "userId": "15095415326628117346"
     },
     "user_tz": 300
    },
    "id": "a8DITE9wdl0q",
    "outputId": "79c68333-c722-48a2-ee72-49aa5f1c7a15"
   },
   "outputs": [
    {
     "name": "stdout",
     "output_type": "stream",
     "text": [
      "/home/ec2-user/anaconda3/envs/python3/bin/pip\n"
     ]
    }
   ],
   "source": [
    "# ! which pip"
   ]
  },
  {
   "cell_type": "code",
   "execution_count": 12,
   "metadata": {},
   "outputs": [
    {
     "name": "stdout",
     "output_type": "stream",
     "text": [
      "\u001b[33mDEPRECATION: Python 2.7 will reach the end of its life on January 1st, 2020. Please upgrade your Python as Python 2.7 won't be maintained after that date. A future version of pip will drop support for Python 2.7.\u001b[0m\n",
      "Collecting tqdm\n",
      "  Using cached https://files.pythonhosted.org/packages/72/c9/7fc20feac72e79032a7c8138fd0d395dc6d8812b5b9edf53c3afd0b31017/tqdm-4.41.1-py2.py3-none-any.whl\n",
      "Installing collected packages: tqdm\n",
      "Successfully installed tqdm-4.41.1\n",
      "\u001b[33mDEPRECATION: Python 2.7 will reach the end of its life on January 1st, 2020. Please upgrade your Python as Python 2.7 won't be maintained after that date. A future version of pip will drop support for Python 2.7.\u001b[0m\n",
      "Collecting gensim\n",
      "\u001b[?25l  Downloading https://files.pythonhosted.org/packages/ec/db/d0c6edd6e7211e7c47404034ed9dd71032a0a77c6ae8835505f1bd176a55/gensim-3.8.1-cp27-cp27mu-manylinux1_x86_64.whl (24.2MB)\n",
      "\u001b[K    100% |████████████████████████████████| 24.2MB 1.2MB/s eta 0:00:01\n",
      "\u001b[?25hRequirement already satisfied: six>=1.5.0 in /home/ec2-user/anaconda3/envs/chainer_p27/lib/python2.7/site-packages (from gensim) (1.12.0)\n",
      "Requirement already satisfied: numpy<=1.16.1,>=1.11.3 in /home/ec2-user/anaconda3/envs/chainer_p27/lib/python2.7/site-packages (from gensim) (1.14.3)\n",
      "Collecting smart-open>=1.8.1 (from gensim)\n",
      "  Using cached https://files.pythonhosted.org/packages/0c/09/735f2786dfac9bbf39d244ce75c0313d27d4962e71e0774750dc809f2395/smart_open-1.9.0.tar.gz\n",
      "Requirement already satisfied: scipy>=0.18.1 in /home/ec2-user/anaconda3/envs/chainer_p27/lib/python2.7/site-packages (from gensim) (1.1.0)\n",
      "Requirement already satisfied: boto>=2.32 in /home/ec2-user/anaconda3/envs/chainer_p27/lib/python2.7/site-packages (from smart-open>=1.8.1->gensim) (2.48.0)\n",
      "Requirement already satisfied: requests in /home/ec2-user/anaconda3/envs/chainer_p27/lib/python2.7/site-packages (from smart-open>=1.8.1->gensim) (2.20.0)\n",
      "Requirement already satisfied: boto3 in /home/ec2-user/anaconda3/envs/chainer_p27/lib/python2.7/site-packages (from smart-open>=1.8.1->gensim) (1.10.19)\n",
      "Collecting bz2file (from smart-open>=1.8.1->gensim)\n",
      "  Downloading https://files.pythonhosted.org/packages/61/39/122222b5e85cd41c391b68a99ee296584b2a2d1d233e7ee32b4532384f2d/bz2file-0.98.tar.gz\n",
      "Requirement already satisfied: idna<2.8,>=2.5 in /home/ec2-user/anaconda3/envs/chainer_p27/lib/python2.7/site-packages (from requests->smart-open>=1.8.1->gensim) (2.6)\n",
      "Requirement already satisfied: chardet<3.1.0,>=3.0.2 in /home/ec2-user/anaconda3/envs/chainer_p27/lib/python2.7/site-packages (from requests->smart-open>=1.8.1->gensim) (3.0.4)\n",
      "Requirement already satisfied: urllib3<1.25,>=1.21.1 in /home/ec2-user/anaconda3/envs/chainer_p27/lib/python2.7/site-packages (from requests->smart-open>=1.8.1->gensim) (1.23)\n",
      "Requirement already satisfied: certifi>=2017.4.17 in /home/ec2-user/anaconda3/envs/chainer_p27/lib/python2.7/site-packages (from requests->smart-open>=1.8.1->gensim) (2019.9.11)\n",
      "Requirement already satisfied: jmespath<1.0.0,>=0.7.1 in /home/ec2-user/anaconda3/envs/chainer_p27/lib/python2.7/site-packages (from boto3->smart-open>=1.8.1->gensim) (0.9.4)\n",
      "Requirement already satisfied: s3transfer<0.3.0,>=0.2.0 in /home/ec2-user/anaconda3/envs/chainer_p27/lib/python2.7/site-packages (from boto3->smart-open>=1.8.1->gensim) (0.2.1)\n",
      "Requirement already satisfied: botocore<1.14.0,>=1.13.19 in /home/ec2-user/anaconda3/envs/chainer_p27/lib/python2.7/site-packages (from boto3->smart-open>=1.8.1->gensim) (1.13.19)\n",
      "Requirement already satisfied: futures<4.0.0,>=2.2.0; python_version == \"2.6\" or python_version == \"2.7\" in /home/ec2-user/anaconda3/envs/chainer_p27/lib/python2.7/site-packages (from s3transfer<0.3.0,>=0.2.0->boto3->smart-open>=1.8.1->gensim) (3.2.0)\n",
      "Requirement already satisfied: docutils<0.16,>=0.10 in /home/ec2-user/anaconda3/envs/chainer_p27/lib/python2.7/site-packages (from botocore<1.14.0,>=1.13.19->boto3->smart-open>=1.8.1->gensim) (0.14)\n",
      "Requirement already satisfied: python-dateutil<2.8.1,>=2.1; python_version >= \"2.7\" in /home/ec2-user/anaconda3/envs/chainer_p27/lib/python2.7/site-packages (from botocore<1.14.0,>=1.13.19->boto3->smart-open>=1.8.1->gensim) (2.8.0)\n",
      "Building wheels for collected packages: smart-open, bz2file\n",
      "  Building wheel for smart-open (setup.py) ... \u001b[?25ldone\n",
      "\u001b[?25h  Stored in directory: /home/ec2-user/.cache/pip/wheels/ab/10/93/5cff86f5b721d77edaecc29959b1c60d894be1f66d91407d28\n",
      "  Building wheel for bz2file (setup.py) ... \u001b[?25ldone\n",
      "\u001b[?25h  Stored in directory: /home/ec2-user/.cache/pip/wheels/81/75/d6/e1317bf09bf1af5a30befc2a007869fa6e1f516b8f7c591cb9\n",
      "Successfully built smart-open bz2file\n",
      "Installing collected packages: bz2file, smart-open, gensim\n",
      "Successfully installed bz2file-0.98 gensim-3.8.1 smart-open-1.9.0\n"
     ]
    }
   ],
   "source": [
    "! python -m pip install tqdm\n",
    "# ! python -c 'import tqdm'\n",
    "! python -m pip install gensim"
   ]
  },
  {
   "cell_type": "code",
   "execution_count": 13,
   "metadata": {
    "colab": {
     "base_uri": "https://localhost:8080/",
     "height": 646
    },
    "colab_type": "code",
    "executionInfo": {
     "elapsed": 13545,
     "status": "ok",
     "timestamp": 1578955421790,
     "user": {
      "displayName": "Cooper Williams",
      "photoUrl": "https://lh3.googleusercontent.com/a-/AAuE7mCBd8BZPrGsSITPUox_UKbSmoT6f0h8PucNwTr60w=s64",
      "userId": "15095415326628117346"
     },
     "user_tz": 300
    },
    "id": "ZvEmewUhdl05",
    "outputId": "3e8068d2-0604-4d06-9dc0-47989994f120"
   },
   "outputs": [],
   "source": [
    "import random\n",
    "from tqdm import tqdm\n",
    "from gensim.models import Word2Vec \n",
    "import matplotlib.pyplot as plt\n",
    "%matplotlib inline\n",
    "\n",
    "import warnings;\n",
    "warnings.filterwarnings('ignore')"
   ]
  },
  {
   "cell_type": "code",
   "execution_count": 94,
   "metadata": {
    "colab": {},
    "colab_type": "code",
    "id": "smscgWxjdl0_"
   },
   "outputs": [
    {
     "name": "stderr",
     "output_type": "stream",
     "text": [
      "100%|██████████| 17812/17812 [44:07<00:00,  6.73it/s]\n"
     ]
    },
    {
     "data": {
      "text/plain": [
       "17812"
      ]
     },
     "execution_count": 94,
     "metadata": {},
     "output_type": "execute_result"
    }
   ],
   "source": [
    "# list to capture watch history of the users\n",
    "watched_train = []\n",
    "\n",
    "# populate the list with the movie codes\n",
    "for i in tqdm(reviewers):\n",
    "    temp = df[df[\"userid\"] == i[0]][\"movieid\"].tolist()\n",
    "    watched_train.append(temp)\n",
    "    \n",
    "len(watched_train)"
   ]
  },
  {
   "cell_type": "code",
   "execution_count": 95,
   "metadata": {},
   "outputs": [],
   "source": [
    "# save the model for later\n",
    "import pickle\n",
    "pickle.dump(watched_train, open('watched_train.sav', 'wb'))"
   ]
  },
  {
   "cell_type": "markdown",
   "metadata": {},
   "source": [
    "### Train the Model\n",
    "\n",
    "**Important:** The previous model was trained on movie IDs that were inside lists of length 1, with watch histories being lists of lists.\n",
    "\n",
    "This model eschews the inner lists. Each watch history is simply a list of strings."
   ]
  },
  {
   "cell_type": "code",
   "execution_count": 9,
   "metadata": {},
   "outputs": [],
   "source": [
    "# Run this to load the prepared data.\n",
    "import pickle\n",
    "watched_train = pickle.load(open('watched_train.sav', 'rb'))"
   ]
  },
  {
   "cell_type": "code",
   "execution_count": 14,
   "metadata": {
    "colab": {},
    "colab_type": "code",
    "id": "gdGxB2_gdl1S",
    "outputId": "b367f0ff-8e54-4c9b-dba5-fd3287d4e413"
   },
   "outputs": [
    {
     "data": {
      "text/plain": [
       "(8222420, 9041400)"
      ]
     },
     "execution_count": 14,
     "metadata": {},
     "output_type": "execute_result"
    }
   ],
   "source": [
    "# train word2vec model\n",
    "model = Word2Vec(window = 10, sg = 1, hs = 0,\n",
    "                 negative = 10, # for negative sampling\n",
    "                 alpha=0.03, min_alpha=0.0007,\n",
    "                 seed = 14)\n",
    "\n",
    "model.build_vocab(watched_train, progress_per=200)\n",
    "\n",
    "model.train(watched_train, total_examples = model.corpus_count, \n",
    "            epochs=10, report_delay=1)"
   ]
  },
  {
   "cell_type": "code",
   "execution_count": 15,
   "metadata": {
    "colab": {},
    "colab_type": "code",
    "id": "-sWPKYgTdl1W"
   },
   "outputs": [],
   "source": [
    "# save word2vec model\n",
    "model.save(\"w2v_mistakenot_py2.model\")"
   ]
  },
  {
   "cell_type": "markdown",
   "metadata": {},
   "source": [
    "### Test the model"
   ]
  },
  {
   "cell_type": "code",
   "execution_count": 98,
   "metadata": {
    "colab": {},
    "colab_type": "code",
    "id": "vSeGqA97dl1Z"
   },
   "outputs": [],
   "source": [
    "# load model\n",
    "import gensim\n",
    "model = gensim.models.Word2Vec.load(\"w2v_mistakenot.model\")"
   ]
  },
  {
   "cell_type": "code",
   "execution_count": 99,
   "metadata": {
    "colab": {},
    "colab_type": "code",
    "id": "tFH5khHrdl1d"
   },
   "outputs": [],
   "source": [
    "# prunes the model, making it faster but unable to train any more.\n",
    "model.init_sims(replace=True)"
   ]
  },
  {
   "cell_type": "code",
   "execution_count": 16,
   "metadata": {
    "colab": {},
    "colab_type": "code",
    "id": "jsHJnjXtdl1g"
   },
   "outputs": [
    {
     "name": "stdout",
     "output_type": "stream",
     "text": [
      "Word2Vec(vocab=24784, size=100, alpha=0.03)\n"
     ]
    }
   ],
   "source": [
    "print(model)"
   ]
  },
  {
   "cell_type": "code",
   "execution_count": 101,
   "metadata": {
    "colab": {},
    "colab_type": "code",
    "id": "izJD5tDVdl1k",
    "outputId": "e628d91e-1b25-46d6-923b-e4004a0050e3"
   },
   "outputs": [
    {
     "data": {
      "text/plain": [
       "(24784, 100)"
      ]
     },
     "execution_count": 101,
     "metadata": {},
     "output_type": "execute_result"
    }
   ],
   "source": [
    "# extract all vectors\n",
    "X = model[model.wv.vocab]\n",
    "\n",
    "X.shape"
   ]
  },
  {
   "cell_type": "code",
   "execution_count": 104,
   "metadata": {},
   "outputs": [
    {
     "data": {
      "text/plain": [
       "array([ 0.0424683 ,  0.08561097,  0.1003112 , -0.11106913, -0.06282448,\n",
       "       -0.04704784,  0.01381051,  0.1464173 ,  0.02432096,  0.02893066,\n",
       "        0.03427277,  0.19002798, -0.02404157, -0.01862836, -0.07317816,\n",
       "       -0.15934035, -0.11867093,  0.04821193, -0.04854235, -0.00596277,\n",
       "        0.10694741,  0.07178298, -0.12340666,  0.1441446 ,  0.10767256,\n",
       "        0.00755085,  0.08707841,  0.1074426 , -0.01187609, -0.19023177,\n",
       "        0.0950939 , -0.04520461, -0.13489398, -0.14325547,  0.05217481,\n",
       "       -0.02633997, -0.04796528,  0.17709821, -0.1103778 ,  0.10097972,\n",
       "       -0.0479805 ,  0.05608399,  0.00130781,  0.01643821,  0.1520071 ,\n",
       "       -0.04711404,  0.1539092 , -0.02752153, -0.0437512 ,  0.02798683,\n",
       "        0.06498379,  0.00445012, -0.0276325 ,  0.00323415, -0.00958083,\n",
       "        0.05997658,  0.13095316, -0.12573294, -0.19757922, -0.07882729,\n",
       "       -0.17327957, -0.09754732,  0.23031367, -0.07810653, -0.01805863,\n",
       "        0.1136304 , -0.01263769,  0.0552126 , -0.02308759,  0.02721392,\n",
       "        0.0852209 , -0.11058165,  0.04036544,  0.08459969, -0.0753976 ,\n",
       "        0.00625437,  0.03916933,  0.02827879, -0.16396137, -0.03199824,\n",
       "       -0.05041099,  0.04112087,  0.00659996, -0.11564393,  0.00581093,\n",
       "        0.17608985,  0.21129528,  0.27012324, -0.12574439, -0.07754541,\n",
       "        0.12874065,  0.11389929,  0.16478488,  0.12811595,  0.01399061,\n",
       "        0.03671208, -0.02719131, -0.1641937 ,  0.0509761 , -0.06077003],\n",
       "      dtype=float32)"
      ]
     },
     "execution_count": 104,
     "metadata": {},
     "output_type": "execute_result"
    }
   ],
   "source": [
    "# IDs are words in the model, and callable as such.\n",
    "model['0110912']"
   ]
  },
  {
   "cell_type": "code",
   "execution_count": 160,
   "metadata": {},
   "outputs": [],
   "source": [
    "def get_title(id):\n",
    "    \"\"\"Takes an id string and returns the movie title.\"\"\"\n",
    "    \n",
    "    try:\n",
    "        c.execute(f\"\"\"\n",
    "        select primary_title, start_year\n",
    "        from movies\n",
    "        where movie_id = '{id}'\"\"\")\n",
    "    except:\n",
    "        return f\"Movie title unknown. ID:{id}\"\n",
    "    \n",
    "    title = c.fetchone()\n",
    "    return title\n",
    "    \n",
    "def predict(model, input, num_recs=6):\n",
    "        \"\"\"For the input, do the predictions and return them.\n",
    "\n",
    "        Args:\n",
    "            model: the word2vec model object.\n",
    "            input: a list of movie IDs.\n",
    "            num_recs: the number of recommendations to return.\n",
    "        \"\"\"\n",
    "\n",
    "        def _aggregate_vectors(movies):\n",
    "            # get the vector average of the movies in the input.\n",
    "            # discard unrecognized IDs.\n",
    "            movie_vec = []\n",
    "            for i in movies:\n",
    "                try:\n",
    "                    movie_vec.append(model[i])\n",
    "                except KeyError:\n",
    "                    continue\n",
    "            return np.mean(movie_vec, axis=0)\n",
    "\n",
    "        def _similar_movies(v, n):\n",
    "            # extract most similar movies for the input vector\n",
    "            return model.similar_by_vector(v, topn= n+1)[1:]\n",
    "        \n",
    "        # aggregate input and find similar vectors.\n",
    "        recs = _similar_movies(_aggregate_vectors(input), num_recs)\n",
    "        # get titles\n",
    "        recs = [get_title(y[0]) for y in recs] \n",
    "        return recs"
   ]
  },
  {
   "cell_type": "code",
   "execution_count": 164,
   "metadata": {},
   "outputs": [],
   "source": [
    "# test cases\n",
    "\n",
    "# A list of some Coen Bros movies.\n",
    "coen_bros = ['116282', '2042568', '1019452', \n",
    "             '1403865', '190590', '138524', \n",
    "             '335245', '477348', '887883', '101410']\n",
    "\n",
    "# Data scientist's recent watches.\n",
    "cooper_recent = ['0053285', '0038650', '0046022', \n",
    "                 '4520988', '1605783', '6751668', \n",
    "                 '0083791', '0115685', '0051459', \n",
    "                 '8772262', '0061184', '0041959',\n",
    "                 '7775622']\n",
    "\n",
    "# dirkh public letterboxd recent watches.\n",
    "dirkh = ['7975244', '8106534', '1489887', \n",
    "         '1302006', '7286456', '6751668', \n",
    "         '8364368', '2283362', '6146586', \n",
    "         '2194499', '7131622', '6857112']\n"
   ]
  },
  {
   "cell_type": "code",
   "execution_count": 165,
   "metadata": {},
   "outputs": [
    {
     "data": {
      "text/plain": [
       "[('The Day Shall Come', 2019),\n",
       " ('MFKZ', 2017),\n",
       " ('Us', 2019),\n",
       " ('The Death and Life of John F. Donovan', 2018),\n",
       " ('Jumanji: The Next Level', 2019),\n",
       " ('Booksmart', 2019),\n",
       " ('After', 2019),\n",
       " ('The Game Changers', 2018),\n",
       " ('Drunk Parents', 2019),\n",
       " ('Cake', 2018),\n",
       " ('Zombieland: Double Tap', 2019),\n",
       " ('Shazam!', 2019),\n",
       " ('Once Upon a Time... in Hollywood', 2019),\n",
       " ('Pavarotti', 2019),\n",
       " ('The King', 2019),\n",
       " ('Horrible Histories: The Movie - Rotten Romans', 2019),\n",
       " ('Green Book', 2018),\n",
       " ('The Last Boy', 2019),\n",
       " ('Extremely Wicked, Shockingly Evil and Vile', 2019),\n",
       " ('Glass', 2019)]"
      ]
     },
     "execution_count": 165,
     "metadata": {},
     "output_type": "execute_result"
    }
   ],
   "source": [
    "predict(model=model, input=dirkh, num_recs=20)"
   ]
  },
  {
   "cell_type": "code",
   "execution_count": null,
   "metadata": {},
   "outputs": [],
   "source": []
  }
 ],
 "metadata": {
  "colab": {
   "collapsed_sections": [],
   "name": "Word2VecWatchHistory_3_filter.ipynb",
   "provenance": [
    {
     "file_id": "1wKOz0h5GIZN3G-qdUfgCEuwJLScSixpN",
     "timestamp": 1578946551815
    }
   ]
  },
  "kernelspec": {
   "display_name": "conda_chainer_p27",
   "language": "python",
   "name": "conda_chainer_p27"
  },
  "language_info": {
   "codemirror_mode": {
    "name": "ipython",
    "version": 2
   },
   "file_extension": ".py",
   "mimetype": "text/x-python",
   "name": "python",
   "nbconvert_exporter": "python",
   "pygments_lexer": "ipython2",
   "version": "2.7.15"
  }
 },
 "nbformat": 4,
 "nbformat_minor": 4
}
