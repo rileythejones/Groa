{
 "cells": [
  {
   "cell_type": "code",
   "execution_count": 35,
   "metadata": {},
   "outputs": [
    {
     "name": "stdout",
     "output_type": "stream",
     "text": [
      "Requirement already satisfied: psycopg2-binary in /home/ec2-user/.local/lib/python3.6/site-packages (2.8.4)\n",
      "\u001b[33mYou are using pip version 19.0.2, however version 20.0.2 is available.\n",
      "You should consider upgrading via the 'pip install --upgrade pip' command.\u001b[0m\n"
     ]
    },
    {
     "name": "stdin",
     "output_type": "stream",
     "text": [
      " ················\n"
     ]
    },
    {
     "name": "stdout",
     "output_type": "stream",
     "text": [
      "Connected!\n"
     ]
    }
   ],
   "source": [
    "! pip3 install psycopg2-binary --user\n",
    "import pandas as pd\n",
    "import psycopg2\n",
    "import numpy as np\n",
    "from getpass import getpass\n",
    "\n",
    "# connect to database\n",
    "connection = psycopg2.connect(\n",
    "#     database  = \"postgres\",\n",
    "#     user      = \"postgres\",\n",
    "#     password  = getpass(),\n",
    "#     host      = \"movie-rec-scrape.cvslmiksgnix.us-east-1.rds.amazonaws.com\",\n",
    "#     port      = '5432'\n",
    "    database  = \"postgres\",\n",
    "    user      = \"postgres\",\n",
    "    password  = getpass(),\n",
    "    host      = \"groalives.cvslmiksgnix.us-east-1.rds.amazonaws.com\",\n",
    "    port      = '5432'\n",
    ")\n",
    "# Enter database password below and press Enter.\n",
    "\n",
    "# create cursor that is used throughout\n",
    "try:\n",
    "    c = connection.cursor()\n",
    "    print(\"Connected!\")\n",
    "except:\n",
    "    print(\"Connection problem chief!\")\n",
    "\n"
   ]
  },
  {
   "cell_type": "code",
   "execution_count": 36,
   "metadata": {},
   "outputs": [],
   "source": [
    "import gensim\n",
    "\n",
    "def _get_info(id):\n",
    "            \"\"\"Takes an id string and returns the movie info with a url.\"\"\"\n",
    "            try:\n",
    "                c.execute(f\"\"\"\n",
    "                select m.primary_title, m.start_year, r.average_rating, r.num_votes\n",
    "                from movies m\n",
    "                join ratings r on m.movie_id = r.movie_id\n",
    "                where m.movie_id = '{id[0]}'\"\"\")\n",
    "            except:\n",
    "                return tuple([f\"Movie title unknown. ID:{id[0]}\", None, None, None, None, None])\n",
    "\n",
    "            t = c.fetchone()\n",
    "            if t:\n",
    "                title = tuple([t[0], t[1], f\"https://www.imdb.com/title/tt{id[0]}/\", t[2], t[3], id[1]])\n",
    "                return title\n",
    "            else:\n",
    "                return tuple([f\"Movie title unknown. ID:{id[0]}\", None, None, None, None, None])"
   ]
  },
  {
   "cell_type": "code",
   "execution_count": 39,
   "metadata": {},
   "outputs": [
    {
     "name": "stdout",
     "output_type": "stream",
     "text": [
      "Word2Vec(vocab=24784, size=100, alpha=0.03)\n",
      "\t\n",
      "                corpus_count: 17812\n",
      "                corpus_total_words: 904140\n",
      "                window: 10\n",
      "                sg: 1\n",
      "                hs: 0\n",
      "                negative: 10\n",
      "                ns_exponent: 0.75\n",
      "                alpha: 0.03\n",
      "                min_alpha: 0.0007\n",
      "                sample: 0.001\n",
      "                epochs: 10\n",
      "                \n",
      "Most similar movies to Porco Rosso minus Kiki's Delivery Service?\n",
      "('Khartoum', 1966, 'https://www.imdb.com/title/tt0060588/', 6.8, 6247, 0.4351477026939392)\n",
      "('Kurotokage', 1962, 'https://www.imdb.com/title/tt0229519/', 6.6, 179, 0.4220256507396698)\n",
      "('The Girl-Getters', 1964, 'https://www.imdb.com/title/tt0060461/', 6.5, 623, 0.411957323551178)\n",
      "('The Professionals', 1966, 'https://www.imdb.com/title/tt0060862/', 7.3, 12947, 0.4118424654006958)\n",
      "('Grand Prix', 1966, 'https://www.imdb.com/title/tt0060472/', 7.2, 7428, 0.4070208668708801)\n",
      "('A Gang Story', 2011, 'https://www.imdb.com/title/tt1741542/', 7.0, 7289, 0.40558522939682007)\n",
      "('Cocaine Cowboys', 2006, 'https://www.imdb.com/title/tt0380268/', 7.8, 12064, 0.39982372522354126)\n",
      "('Girl in the Box', 2016, 'https://www.imdb.com/title/tt5957584/', 6.4, 1008, 0.3979860842227936)\n",
      "('An Eye for an Eye', 1966, 'https://www.imdb.com/title/tt0060386/', 6.0, 208, 0.3974132835865021)\n",
      "('Funeral in Berlin', 1966, 'https://www.imdb.com/title/tt0060437/', 6.9, 5253, 0.3955981731414795)\n",
      "('The Ruthless Four', 1968, 'https://www.imdb.com/title/tt0060777/', 6.7, 541, 0.39205169677734375)\n",
      "Word2Vec(vocab=23003, size=100, alpha=0.03)\n",
      "\t\n",
      "                corpus_count: 17812\n",
      "                corpus_total_words: 817687\n",
      "                window: 10\n",
      "                sg: 1\n",
      "                hs: 0\n",
      "                negative: 10\n",
      "                ns_exponent: 0.75\n",
      "                alpha: 0.03\n",
      "                min_alpha: 0.0007\n",
      "                sample: 0.0001\n",
      "                epochs: 90\n",
      "                \n",
      "Most similar movies to Porco Rosso minus Kiki's Delivery Service?\n",
      "('Porco Rosso', 1992, 'https://www.imdb.com/title/tt0104652/', 7.8, 64422, 0.6256614923477173)\n",
      "('The Group', 1966, 'https://www.imdb.com/title/tt0060479/', 6.5, 1266, 0.4644620716571808)\n",
      "('Gambit', 1966, 'https://www.imdb.com/title/tt0060445/', 7.1, 4834, 0.4535996615886688)\n",
      "('The Witch', 1966, 'https://www.imdb.com/title/tt0061036/', 6.4, 242, 0.45354488492012024)\n",
      "('Honeymoon in Vegas', 1992, 'https://www.imdb.com/title/tt0104438/', 5.8, 16243, 0.44682562351226807)\n",
      "('Au Hasard Balthazar', 1966, 'https://www.imdb.com/title/tt0060138/', 7.9, 16034, 0.436240017414093)\n",
      "('The Chase', 1966, 'https://www.imdb.com/title/tt0060232/', 7.2, 9481, 0.43311578035354614)\n",
      "('The Diabolical Dr. Z', 1966, 'https://www.imdb.com/title/tt0060701/', 6.8, 842, 0.4278656840324402)\n",
      "('Kaleidoscope', 1966, 'https://www.imdb.com/title/tt0060581/', 6.0, 613, 0.4272274971008301)\n",
      "('Violence at Noon', 1966, 'https://www.imdb.com/title/tt0060486/', 7.1, 813, 0.41693440079689026)\n",
      "('Bedazzled', 2000, 'https://www.imdb.com/title/tt0230030/', 6.0, 92750, 0.415657639503479)\n",
      "Word2Vec(vocab=22209, size=100, alpha=0.03)\n",
      "\t\n",
      "                corpus_count: 13641\n",
      "                corpus_total_words: 766970\n",
      "                window: 10\n",
      "                sg: 1\n",
      "                hs: 0\n",
      "                negative: 10\n",
      "                ns_exponent: 0.75\n",
      "                alpha: 0.03\n",
      "                min_alpha: 0.0007\n",
      "                sample: 0.0001\n",
      "                epochs: 90\n",
      "                \n",
      "Most similar movies to Porco Rosso minus Kiki's Delivery Service?\n",
      "('Porco Rosso', 1992, 'https://www.imdb.com/title/tt0104652/', 7.8, 64422, 0.6183065176010132)\n",
      "('Fantastic Voyage', 1966, 'https://www.imdb.com/title/tt0060397/', 6.8, 16179, 0.5138554573059082)\n",
      "('The Merchant of Venice', 2004, 'https://www.imdb.com/title/tt0379889/', 7.0, 33673, 0.48032093048095703)\n",
      "('Casino Royale', 2006, 'https://www.imdb.com/title/tt0381061/', 8.0, 552743, 0.4773195683956146)\n",
      "('The Ruthless Four', 1968, 'https://www.imdb.com/title/tt0060777/', 6.7, 541, 0.47342103719711304)\n",
      "('The Woods', 2006, 'https://www.imdb.com/title/tt0380066/', 5.7, 10460, 0.4730716347694397)\n",
      "('Patriot Games', 1992, 'https://www.imdb.com/title/tt0105112/', 6.9, 97084, 0.4616205096244812)\n",
      "('Malcolm X', 1992, 'https://www.imdb.com/title/tt0104797/', 7.7, 78212, 0.45424312353134155)\n",
      "('Atlantis: The Lost Empire', 2001, 'https://www.imdb.com/title/tt0230011/', 6.9, 96287, 0.45294493436813354)\n",
      "('A Gang Story', 2011, 'https://www.imdb.com/title/tt1741542/', 7.0, 7289, 0.45075199007987976)\n",
      "('The Last of the Mohicans', 1992, 'https://www.imdb.com/title/tt0104691/', 7.7, 140480, 0.44926363229751587)\n"
     ]
    },
    {
     "name": "stderr",
     "output_type": "stream",
     "text": [
      "/home/ec2-user/anaconda3/envs/python3/lib/python3.6/site-packages/ipykernel/__main__.py:21: DeprecationWarning: Call to deprecated `sample` (Attribute will be removed in 4.0.0, use self.vocabulary.sample instead).\n",
      "/home/ec2-user/anaconda3/envs/python3/lib/python3.6/site-packages/ipykernel/__main__.py:23: DeprecationWarning: Call to deprecated `__getitem__` (Method will be removed in 4.0.0, use self.wv.__getitem__() instead).\n",
      "/home/ec2-user/anaconda3/envs/python3/lib/python3.6/site-packages/ipykernel/__main__.py:23: DeprecationWarning: Call to deprecated `similar_by_vector` (Method will be removed in 4.0.0, use self.wv.similar_by_vector() instead).\n"
     ]
    }
   ],
   "source": [
    "mistakenot1 = gensim.models.Word2Vec.load(\"w2v_mistakenot.model\")\n",
    "limitingfactor_v1 = gensim.models.Word2Vec.load(\"w2v_limitingfactor_v1.model\")\n",
    "limitingfactor_v2 = gensim.models.Word2Vec.load(\"w2v_limitingfactor_v2.model\")\n",
    "\n",
    "three_models = [mistakenot1, limitingfactor_v1, limitingfactor_v2]\n",
    "\n",
    "for model in three_models:\n",
    "    print(model)\n",
    "    print(f\"\"\"\\t\n",
    "                corpus_count: {model.corpus_count}\n",
    "                corpus_total_words: {model.corpus_total_words}\n",
    "                window: {model.window}\n",
    "                sg: {model.sg}\n",
    "                hs: {model.hs}\n",
    "                negative: {model.negative}\n",
    "                ns_exponent: {model.ns_exponent}\n",
    "                alpha: {model.alpha}\n",
    "                min_alpha: {model.min_alpha}\n",
    "                sample: {model.sample}\n",
    "                epochs: {model.epochs}\n",
    "                \"\"\")\n",
    "    print(\"Most similar movies to Porco Rosso minus Kiki's Delivery Service?\")\n",
    "    movies = model.similar_by_vector(model['0104652']-model['0097814'], topn=11)\n",
    "    for i in movies:\n",
    "        print(_get_info(i))"
   ]
  },
  {
   "cell_type": "code",
   "execution_count": 30,
   "metadata": {},
   "outputs": [],
   "source": [
    "# dir(model)[50:]"
   ]
  },
  {
   "cell_type": "code",
   "execution_count": null,
   "metadata": {},
   "outputs": [],
   "source": []
  }
 ],
 "metadata": {
  "kernelspec": {
   "display_name": "conda_python3",
   "language": "python",
   "name": "conda_python3"
  },
  "language_info": {
   "codemirror_mode": {
    "name": "ipython",
    "version": 3
   },
   "file_extension": ".py",
   "mimetype": "text/x-python",
   "name": "python",
   "nbconvert_exporter": "python",
   "pygments_lexer": "ipython3",
   "version": "3.6.5"
  }
 },
 "nbformat": 4,
 "nbformat_minor": 4
}
