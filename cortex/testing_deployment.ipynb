{
 "cells": [
  {
   "cell_type": "code",
   "execution_count": 78,
   "metadata": {},
   "outputs": [],
   "source": [
    "import boto3\n",
    "import json \n",
    "from datetime import datetime\n",
    "import random \n",
    "import pandas as pd \n",
    "from recommender import Recommender\n",
    "from helpers import fill_id, df_to_id_list, prep_data\n",
    "\n",
    "import warnings;\n",
    "warnings.filterwarnings('ignore')\n",
    "\n",
    "\n",
    "class PythonPredictor:\n",
    "    def __init__(self, config={}):\n",
    "        \"\"\" Requires configuration from cortex.yaml \"\"\"\n",
    "         \n",
    "        # When using s3 bucket to download the model\n",
    "        # s3 = boto3.client(\"s3\")\n",
    "        # s3.download_file(config[\"bucket\"], config[\"key\"], \"w2v_limitingfactor_v3.51.model\")\n",
    "\n",
    "        self.model = Recommender('models/w2v_limitingfactor_v3.51.model')\n",
    "#         self.model.connect_db()\n",
    "        pass\n",
    "\n",
    "    def predict(self, payload=None): # recieves userid, outputs recommendation_id\n",
    "        \"\"\"Called once per request. Runs preprocessing of the request payload, inference, and postprocessing of the inference output. Required.\n",
    "\n",
    "        Args:\n",
    "            payload: The parsed JSON request payload.\n",
    "\n",
    "        Returns:\n",
    "            Prediction or a batch of predictions.\n",
    "        \"\"\"\n",
    "        self.model.connect_db()\n",
    "        user_id = payload\n",
    "        \n",
    "        \"\"\" testing with local lettboxd data \"\"\"\n",
    "#         ratings = pd.read_csv('exported_data/imdb/riley_imdb_ratings.csv', engine='python')\n",
    "#         ratings = pd.read_csv('exported_data/letterboxd/riley/ratings.csv',  engine='python')\n",
    "#         ratings = pd.read_csv('exported_data/letterboxd/riley/ratings_triple.csv',  engine='python')\n",
    "#         ratings = pd.read_csv('exported_data/imdb/ratings.csv', engine='python')\n",
    "#         ratings = pd.read_csv('exported_data/letterboxd/cooper/ratings.csv')\n",
    "#         watched = pd.read_csv('exported_data/letterboxd/cooper/watched.csv')\n",
    "#         watchlist = pd.read_csv('exported_data/letterboxd/cooper/watchlist.csv')\n",
    "        \n",
    "        \n",
    "        \n",
    "#         id_book = pd.read_csv('exported_data/title_basics_small.csv')\n",
    "        \n",
    "        self.model.cursor_dog.execute(\"SELECT date, name, year, letterboxd_uri, rating FROM user_letterboxd_ratings WHERE user_id=%s;\", (user_id,))\n",
    "        ratings_sql= self.model.cursor_dog.fetchall()\n",
    "        ratings = pd.DataFrame(ratings_sql, columns = ['Date', 'Name', 'Year', 'Letterboxd URI', 'Rating'])\n",
    "        ratings= ratings.dropna()\n",
    "        \n",
    "\n",
    "#         self.model.cursor_dog.execute(\"SELECT * FROM test_watchlist WHERE user_id=%s;\", (user_id,))\n",
    "#         watchlist_sql= self.model.cursor_dog.fetchall()\n",
    "#         watchlist = pd.DataFrame(watchlist_sql, columns = ['Date', 'Name', 'Year', 'Letterboxd URI', 'user_id'])\n",
    "#         watchlist = watchlist.dropna()\n",
    "        \n",
    "\n",
    "#         self.model.cursor_dog.execute(\"SELECT * FROM test_watched WHERE user_id=%s;\", (user_id,))\n",
    "#         watched_sql= self.model.cursor_dog.fetchall()\n",
    "#         watched = pd.DataFrame(watched_sql, columns = ['Date', 'Name', 'Year', 'Letterboxd URI', 'user_id'])\n",
    "#         watched = watched.dropna()\n",
    "        \n",
    "\n",
    "#         self.model.cursor_dog.execute(\"SELECT * FROM test_title_basics_small;\")\n",
    "#         title_basics_small_sql= self.model.cursor_dog.fetchall()\n",
    "#         id_book = pd.DataFrame(title_basics_small_sql, columns = ['tconst', 'primaryTitle', 'originalTitle', 'startYear'])\n",
    "#         id_book = id_book.dropna()\n",
    "        \n",
    "        \"\"\" Prepare data  \"\"\"\n",
    "        good_list, bad_list, hist_list, val_list, ratings_dict = prep_data(\n",
    "                                    ratings, watched_df=None, watchlist_df=None, good_threshold=3, bad_threshold=2) \n",
    "        \n",
    "        \"\"\" Load JSON into a list (if applicable) \"\"\" \n",
    "        # payload_jsonified = json.dumps(payload)\n",
    "        # movie_dict = json.loads(payload_jsonified)\n",
    "        # movie_list = list(movie_dict.values())\n",
    "        \n",
    "        \"\"\" Run prediction with parameters \"\"\"\n",
    "        \n",
    "        predictions = self.model.predict(good_list, bad_list, hist_list, val_list, ratings_dict, n=20, harshness=4, rec_movies=True, scoring=True,)\n",
    "        \n",
    "        \"\"\" Turn predictions into JSON \"\"\"\n",
    "        \n",
    "        names = ['Title', 'Year', 'IMDB URL', 'Average Rating', 'Number of Votes', 'Similarity Score', 'IMDB ID']\n",
    "        names_lists = {key:[] for key in names}\n",
    "        \n",
    "        for x in range(0, len(predictions[0])):\n",
    "            for y in range(0, len(predictions)):\n",
    "                names_lists[names[x]].append(predictions[y][x])\n",
    "                \n",
    "        results_dict = [dict(zip(names_lists,t)) for t in zip(*names_lists.values())]\n",
    "        json_data = json.dumps(results_dict)\n",
    "        \n",
    "\n",
    "        \"\"\" Commit to the database \"\"\"\n",
    "        recommendation_id = 1234\n",
    "        query = \"SELECT EXISTS(SELECT 1 FROM recommendations where recommendation_id=%s);\" \n",
    "        self.model.cursor_dog.execute(query, (recommendation_id,))\n",
    "        boolean = self.model.cursor_dog.fetchall()\n",
    "        recommendation_json = json_data\n",
    "        date = datetime.now()\n",
    "        if boolean[0][0]: # True\n",
    "            self.model.cursor_dog.close()\n",
    "            self.model.connection.close()\n",
    "            return \"Already recommended\", recommendation_json\n",
    "        else:\n",
    "            query = \"INSERT INTO recommendations(user_id, recommendation_id, recommendation_json, date) VALUES (%s, %s, %s, %s);\"\n",
    "            self.model.cursor_dog.execute(query, (user_id, recommendation_id, recommendation_json, date))\n",
    "            self.model.connection.commit()\n",
    "            self.model.cursor_dog.close()\n",
    "            self.model.connection.close()\n",
    "            return \"Recommendation committed to DB with id:\", recommendation_id"
   ]
  },
  {
   "cell_type": "code",
   "execution_count": 79,
   "metadata": {},
   "outputs": [],
   "source": [
    "predictor = PythonPredictor()"
   ]
  },
  {
   "cell_type": "code",
   "execution_count": 80,
   "metadata": {},
   "outputs": [
    {
     "name": "stdout",
     "output_type": "stream",
     "text": [
      "Connected!\n"
     ]
    },
    {
     "data": {
      "text/plain": [
       "('Already recommended',\n",
       " '[{\"Title\": \"Mad Max: Fury Road\", \"Year\": 2015, \"IMDB URL\": \"https://www.imdb.com/title/tt1392190/\", \"Average Rating\": 8.1, \"Number of Votes\": 815496, \"Similarity Score\": 0.697939932346344, \"IMDB ID\": \"1392190\"}, {\"Title\": \"It\", \"Year\": 2017, \"IMDB URL\": \"https://www.imdb.com/title/tt1396484/\", \"Average Rating\": 7.3, \"Number of Votes\": 417872, \"Similarity Score\": 0.658385157585144, \"IMDB ID\": \"1396484\"}, {\"Title\": \"Enemy\", \"Year\": 2013, \"IMDB URL\": \"https://www.imdb.com/title/tt2316411/\", \"Average Rating\": 6.9, \"Number of Votes\": 151426, \"Similarity Score\": 0.6434247493743896, \"IMDB ID\": \"2316411\"}, {\"Title\": \"Ex Machina\", \"Year\": 2014, \"IMDB URL\": \"https://www.imdb.com/title/tt0470752/\", \"Average Rating\": 7.7, \"Number of Votes\": 441653, \"Similarity Score\": 0.6405469179153442, \"IMDB ID\": \"0470752\"}, {\"Title\": \"The Witch\", \"Year\": 2015, \"IMDB URL\": \"https://www.imdb.com/title/tt4263482/\", \"Average Rating\": 6.9, \"Number of Votes\": 172468, \"Similarity Score\": 0.6265782713890076, \"IMDB ID\": \"4263482\"}, {\"Title\": \"Blue Ruin\", \"Year\": 2013, \"IMDB URL\": \"https://www.imdb.com/title/tt2359024/\", \"Average Rating\": 7.1, \"Number of Votes\": 61438, \"Similarity Score\": 0.6197282075881958, \"IMDB ID\": \"2359024\"}, {\"Title\": \"Edge of Tomorrow\", \"Year\": 2014, \"IMDB URL\": \"https://www.imdb.com/title/tt1631867/\", \"Average Rating\": 7.9, \"Number of Votes\": 565646, \"Similarity Score\": 0.6113001108169556, \"IMDB ID\": \"1631867\"}, {\"Title\": \"The Gift\", \"Year\": 2015, \"IMDB URL\": \"https://www.imdb.com/title/tt4178092/\", \"Average Rating\": 7.0, \"Number of Votes\": 128141, \"Similarity Score\": 0.6087074279785156, \"IMDB ID\": \"4178092\"}, {\"Title\": \"Revenge of the Green Dragons\", \"Year\": 2014, \"IMDB URL\": \"https://www.imdb.com/title/tt1396523/\", \"Average Rating\": 5.3, \"Number of Votes\": 3555, \"Similarity Score\": 0.6059417724609375, \"IMDB ID\": \"1396523\"}, {\"Title\": \"Parasite\", \"Year\": 2019, \"IMDB URL\": \"https://www.imdb.com/title/tt6751668/\", \"Average Rating\": 8.6, \"Number of Votes\": 157194, \"Similarity Score\": 0.6041309237480164, \"IMDB ID\": \"6751668\"}, {\"Title\": \"The Lobster\", \"Year\": 2015, \"IMDB URL\": \"https://www.imdb.com/title/tt3464902/\", \"Average Rating\": 7.2, \"Number of Votes\": 195345, \"Similarity Score\": 0.6016173362731934, \"IMDB ID\": \"3464902\"}, {\"Title\": \"Straight Outta Compton\", \"Year\": 2015, \"IMDB URL\": \"https://www.imdb.com/title/tt1398426/\", \"Average Rating\": 7.9, \"Number of Votes\": 170104, \"Similarity Score\": 0.6007640957832336, \"IMDB ID\": \"1398426\"}, {\"Title\": \"The Revenant\", \"Year\": 2015, \"IMDB URL\": \"https://www.imdb.com/title/tt1663202/\", \"Average Rating\": 8.0, \"Number of Votes\": 653244, \"Similarity Score\": 0.6006571054458618, \"IMDB ID\": \"1663202\"}, {\"Title\": \"Fruitvale Station\", \"Year\": 2013, \"IMDB URL\": \"https://www.imdb.com/title/tt2334649/\", \"Average Rating\": 7.5, \"Number of Votes\": 70319, \"Similarity Score\": 0.5982701778411865, \"IMDB ID\": \"2334649\"}, {\"Title\": \"Logan\", \"Year\": 2017, \"IMDB URL\": \"https://www.imdb.com/title/tt3315342/\", \"Average Rating\": 8.1, \"Number of Votes\": 596035, \"Similarity Score\": 0.5963352918624878, \"IMDB ID\": \"3315342\"}, {\"Title\": \"The Guilty\", \"Year\": 2018, \"IMDB URL\": \"https://www.imdb.com/title/tt6742252/\", \"Average Rating\": 7.5, \"Number of Votes\": 33940, \"Similarity Score\": 0.5908799171447754, \"IMDB ID\": \"6742252\"}, {\"Title\": \"Call Me by Your Name\", \"Year\": 2017, \"IMDB URL\": \"https://www.imdb.com/title/tt5726616/\", \"Average Rating\": 7.9, \"Number of Votes\": 173825, \"Similarity Score\": 0.590313732624054, \"IMDB ID\": \"5726616\"}, {\"Title\": \"Lady Macbeth\", \"Year\": 2016, \"IMDB URL\": \"https://www.imdb.com/title/tt4291600/\", \"Average Rating\": 6.8, \"Number of Votes\": 16558, \"Similarity Score\": 0.5877332091331482, \"IMDB ID\": \"4291600\"}, {\"Title\": \"Midsommar\", \"Year\": 2019, \"IMDB URL\": \"https://www.imdb.com/title/tt8772262/\", \"Average Rating\": 7.2, \"Number of Votes\": 103288, \"Similarity Score\": 0.584434449672699, \"IMDB ID\": \"8772262\"}]')"
      ]
     },
     "execution_count": 80,
     "metadata": {},
     "output_type": "execute_result"
    }
   ],
   "source": [
    "predictor.predict(1111) # works with letterboxd , can change code to with with imdb but results are weird, "
   ]
  },
  {
   "cell_type": "code",
   "execution_count": 43,
   "metadata": {},
   "outputs": [
    {
     "data": {
      "text/html": [
       "<div>\n",
       "<style scoped>\n",
       "    .dataframe tbody tr th:only-of-type {\n",
       "        vertical-align: middle;\n",
       "    }\n",
       "\n",
       "    .dataframe tbody tr th {\n",
       "        vertical-align: top;\n",
       "    }\n",
       "\n",
       "    .dataframe thead th {\n",
       "        text-align: right;\n",
       "    }\n",
       "</style>\n",
       "<table border=\"1\" class=\"dataframe\">\n",
       "  <thead>\n",
       "    <tr style=\"text-align: right;\">\n",
       "      <th></th>\n",
       "      <th>Date</th>\n",
       "      <th>Name</th>\n",
       "      <th>Year</th>\n",
       "      <th>Letterboxd URI</th>\n",
       "      <th>Rating</th>\n",
       "    </tr>\n",
       "  </thead>\n",
       "  <tbody>\n",
       "    <tr>\n",
       "      <th>0</th>\n",
       "      <td>2020-02-26</td>\n",
       "      <td>Suspiria</td>\n",
       "      <td>2018</td>\n",
       "      <td>https://letterboxd.com/film/suspiria-2018/</td>\n",
       "      <td>2.5</td>\n",
       "    </tr>\n",
       "    <tr>\n",
       "      <th>1</th>\n",
       "      <td>2020-02-26</td>\n",
       "      <td>Very Ralph</td>\n",
       "      <td>2019</td>\n",
       "      <td>https://letterboxd.com/film/very-ralph/</td>\n",
       "      <td>5.0</td>\n",
       "    </tr>\n",
       "    <tr>\n",
       "      <th>2</th>\n",
       "      <td>2020-02-26</td>\n",
       "      <td>Enter the Void</td>\n",
       "      <td>2009</td>\n",
       "      <td>https://letterboxd.com/film/enter-the-void/</td>\n",
       "      <td>3.5</td>\n",
       "    </tr>\n",
       "    <tr>\n",
       "      <th>3</th>\n",
       "      <td>2020-02-26</td>\n",
       "      <td>Dogtooth</td>\n",
       "      <td>2009</td>\n",
       "      <td>https://letterboxd.com/film/dogtooth/</td>\n",
       "      <td>3.0</td>\n",
       "    </tr>\n",
       "    <tr>\n",
       "      <th>4</th>\n",
       "      <td>2020-02-26</td>\n",
       "      <td>Prisoners</td>\n",
       "      <td>2013</td>\n",
       "      <td>https://letterboxd.com/film/prisoners/</td>\n",
       "      <td>5.0</td>\n",
       "    </tr>\n",
       "    <tr>\n",
       "      <th>5</th>\n",
       "      <td>2020-02-26</td>\n",
       "      <td>Under the Skin</td>\n",
       "      <td>2013</td>\n",
       "      <td>https://letterboxd.com/film/under-the-skin-2013/</td>\n",
       "      <td>3.0</td>\n",
       "    </tr>\n",
       "    <tr>\n",
       "      <th>6</th>\n",
       "      <td>2020-02-26</td>\n",
       "      <td>Melancholia</td>\n",
       "      <td>2011</td>\n",
       "      <td>https://letterboxd.com/film/melancholia/</td>\n",
       "      <td>3.0</td>\n",
       "    </tr>\n",
       "    <tr>\n",
       "      <th>7</th>\n",
       "      <td>2020-02-26</td>\n",
       "      <td>Beyond the Black Rainbow</td>\n",
       "      <td>2010</td>\n",
       "      <td>https://letterboxd.com/film/beyond-the-black-r...</td>\n",
       "      <td>2.5</td>\n",
       "    </tr>\n",
       "    <tr>\n",
       "      <th>8</th>\n",
       "      <td>2020-02-26</td>\n",
       "      <td>I Saw the Devil</td>\n",
       "      <td>2010</td>\n",
       "      <td>https://letterboxd.com/film/i-saw-the-devil/</td>\n",
       "      <td>3.5</td>\n",
       "    </tr>\n",
       "  </tbody>\n",
       "</table>\n",
       "</div>"
      ],
      "text/plain": [
       "         Date                      Name  Year  \\\n",
       "0  2020-02-26                  Suspiria  2018   \n",
       "1  2020-02-26                Very Ralph  2019   \n",
       "2  2020-02-26            Enter the Void  2009   \n",
       "3  2020-02-26                  Dogtooth  2009   \n",
       "4  2020-02-26                 Prisoners  2013   \n",
       "5  2020-02-26            Under the Skin  2013   \n",
       "6  2020-02-26               Melancholia  2011   \n",
       "7  2020-02-26  Beyond the Black Rainbow  2010   \n",
       "8  2020-02-26           I Saw the Devil  2010   \n",
       "\n",
       "                                      Letterboxd URI  Rating  \n",
       "0         https://letterboxd.com/film/suspiria-2018/     2.5  \n",
       "1            https://letterboxd.com/film/very-ralph/     5.0  \n",
       "2        https://letterboxd.com/film/enter-the-void/     3.5  \n",
       "3              https://letterboxd.com/film/dogtooth/     3.0  \n",
       "4             https://letterboxd.com/film/prisoners/     5.0  \n",
       "5   https://letterboxd.com/film/under-the-skin-2013/     3.0  \n",
       "6           https://letterboxd.com/film/melancholia/     3.0  \n",
       "7  https://letterboxd.com/film/beyond-the-black-r...     2.5  \n",
       "8       https://letterboxd.com/film/i-saw-the-devil/     3.5  "
      ]
     },
     "execution_count": 43,
     "metadata": {},
     "output_type": "execute_result"
    }
   ],
   "source": [
    "ratings = pd.read_csv('exported_data/letterboxd/riley/ratings_ten.csv',  engine='python')\n",
    "ratings"
   ]
  },
  {
   "cell_type": "code",
   "execution_count": 21,
   "metadata": {},
   "outputs": [],
   "source": [
    "predictor.model.cursor_dog.execute(\"SELECT date, name, year, letterboxd_uri, rating FROM user_letterboxd_ratings WHERE user_id=%s;\", (1111,))\n",
    "ratings_sql= predictor.model.cursor_dog.fetchall()\n",
    "ratings = pd.DataFrame(ratings_sql, columns = ['Date', 'Name', 'Year', 'Letterboxd URI', 'Rating'])\n",
    "ratings= ratings.dropna()"
   ]
  },
  {
   "cell_type": "code",
   "execution_count": 27,
   "metadata": {},
   "outputs": [
    {
     "data": {
      "text/plain": [
       "Date               object\n",
       "Name               object\n",
       "Year                int64\n",
       "Letterboxd URI     object\n",
       "Rating            float64\n",
       "dtype: object"
      ]
     },
     "execution_count": 27,
     "metadata": {},
     "output_type": "execute_result"
    }
   ],
   "source": [
    "ratings.dtypes"
   ]
  },
  {
   "cell_type": "code",
   "execution_count": 67,
   "metadata": {},
   "outputs": [
    {
     "name": "stdout",
     "output_type": "stream",
     "text": [
      "Connected!\n"
     ]
    },
    {
     "data": {
      "text/plain": [
       "[(True,)]"
      ]
     },
     "execution_count": 67,
     "metadata": {},
     "output_type": "execute_result"
    }
   ],
   "source": [
    "predictor.model.connect_db()\n",
    "recommendation_id = 1234\n",
    "query = \"SELECT EXISTS(SELECT 1 FROM recommendations where recommendation_id=%s);\" \n",
    "predictor.model.cursor_dog.execute(query, (recommendation_id,))\n",
    "boolean = predictor.model.cursor_dog.fetchall()\n",
    "predictor.model.cursor_dog.close()\n",
    "predictor.model.connection.close()\n",
    "boolean"
   ]
  },
  {
   "cell_type": "code",
   "execution_count": 74,
   "metadata": {},
   "outputs": [
    {
     "data": {
      "text/plain": [
       "False"
      ]
     },
     "execution_count": 74,
     "metadata": {},
     "output_type": "execute_result"
    }
   ],
   "source": [
    "boolean[0][0]==False"
   ]
  },
  {
   "cell_type": "code",
   "execution_count": 26,
   "metadata": {},
   "outputs": [
    {
     "name": "stdout",
     "output_type": "stream",
     "text": [
      "Connected!\n"
     ]
    },
    {
     "ename": "TypeError",
     "evalue": "cannot unpack non-iterable numpy.float64 object",
     "output_type": "error",
     "traceback": [
      "\u001b[1;31m---------------------------------------------------------------------------\u001b[0m",
      "\u001b[1;31mTypeError\u001b[0m                                 Traceback (most recent call last)",
      "\u001b[1;32m<ipython-input-26-a0f1e17f7c95>\u001b[0m in \u001b[0;36m<module>\u001b[1;34m\u001b[0m\n\u001b[1;32m----> 1\u001b[1;33m \u001b[0mpredictor\u001b[0m\u001b[1;33m.\u001b[0m\u001b[0mpredict\u001b[0m\u001b[1;33m(\u001b[0m\u001b[1;36m1111\u001b[0m\u001b[1;33m)\u001b[0m \u001b[1;31m# works with letterboxd , can change code to with with imdb but results are weird,\u001b[0m\u001b[1;33m\u001b[0m\u001b[0m\n\u001b[0m",
      "\u001b[1;32m<ipython-input-24-a50fa5714cf4>\u001b[0m in \u001b[0;36mpredict\u001b[1;34m(self, payload)\u001b[0m\n\u001b[0;32m     81\u001b[0m         \u001b[1;34m\"\"\" Run prediction with parameters \"\"\"\u001b[0m\u001b[1;33m\u001b[0m\u001b[0m\n\u001b[0;32m     82\u001b[0m \u001b[1;33m\u001b[0m\u001b[0m\n\u001b[1;32m---> 83\u001b[1;33m         \u001b[0mpredictions\u001b[0m \u001b[1;33m=\u001b[0m \u001b[0mself\u001b[0m\u001b[1;33m.\u001b[0m\u001b[0mmodel\u001b[0m\u001b[1;33m.\u001b[0m\u001b[0mpredict\u001b[0m\u001b[1;33m(\u001b[0m\u001b[0mgood_list\u001b[0m\u001b[1;33m,\u001b[0m \u001b[0mbad_list\u001b[0m\u001b[1;33m,\u001b[0m \u001b[0mhist_list\u001b[0m\u001b[1;33m,\u001b[0m \u001b[0mval_list\u001b[0m\u001b[1;33m,\u001b[0m \u001b[0mratings_dict\u001b[0m\u001b[1;33m,\u001b[0m \u001b[0mn\u001b[0m\u001b[1;33m=\u001b[0m\u001b[1;36m20\u001b[0m\u001b[1;33m,\u001b[0m \u001b[0mharshness\u001b[0m\u001b[1;33m=\u001b[0m\u001b[1;36m4\u001b[0m\u001b[1;33m,\u001b[0m \u001b[0mrec_movies\u001b[0m\u001b[1;33m=\u001b[0m\u001b[1;32mTrue\u001b[0m\u001b[1;33m,\u001b[0m \u001b[0mscoring\u001b[0m\u001b[1;33m=\u001b[0m\u001b[1;32mTrue\u001b[0m\u001b[1;33m,\u001b[0m\u001b[1;33m)\u001b[0m\u001b[1;33m\u001b[0m\u001b[0m\n\u001b[0m\u001b[0;32m     84\u001b[0m \u001b[1;33m\u001b[0m\u001b[0m\n\u001b[0;32m     85\u001b[0m         \u001b[1;34m\"\"\" Turn predictions into JSON \"\"\"\u001b[0m\u001b[1;33m\u001b[0m\u001b[0m\n",
      "\u001b[1;32m~\\Desktop\\groa_private\\recommender.py\u001b[0m in \u001b[0;36mpredict\u001b[1;34m(self, input, bad_movies, hist_list, val_list, ratings_dict, checked_list, rejected_list, n, harshness, rec_movies, show_vibes, scoring, return_scores)\u001b[0m\n\u001b[0;32m    199\u001b[0m \u001b[1;33m\u001b[0m\u001b[0m\n\u001b[0;32m    200\u001b[0m         \u001b[0maggregated\u001b[0m \u001b[1;33m=\u001b[0m \u001b[0m_aggregate_vectors\u001b[0m\u001b[1;33m(\u001b[0m\u001b[0minput\u001b[0m\u001b[1;33m,\u001b[0m \u001b[0mchecked_list\u001b[0m\u001b[1;33m)\u001b[0m\u001b[1;33m\u001b[0m\u001b[0m\n\u001b[1;32m--> 201\u001b[1;33m         \u001b[0mrecs\u001b[0m \u001b[1;33m=\u001b[0m \u001b[0m_similar_movies\u001b[0m\u001b[1;33m(\u001b[0m\u001b[0maggregated\u001b[0m\u001b[1;33m,\u001b[0m \u001b[0mbad_movies\u001b[0m\u001b[1;33m,\u001b[0m \u001b[0mn\u001b[0m\u001b[1;33m=\u001b[0m\u001b[0mn\u001b[0m\u001b[1;33m)\u001b[0m\u001b[1;33m\u001b[0m\u001b[0m\n\u001b[0m\u001b[0;32m    202\u001b[0m         \u001b[0mrecs\u001b[0m \u001b[1;33m=\u001b[0m \u001b[0m_remove_dupes\u001b[0m\u001b[1;33m(\u001b[0m\u001b[0mrecs\u001b[0m\u001b[1;33m,\u001b[0m \u001b[0minput\u001b[0m\u001b[1;33m,\u001b[0m \u001b[0mbad_movies\u001b[0m\u001b[1;33m,\u001b[0m \u001b[0mhist_list\u001b[0m\u001b[1;33m,\u001b[0m \u001b[0mchecked_list\u001b[0m \u001b[1;33m+\u001b[0m \u001b[0mrejected_list\u001b[0m\u001b[1;33m)\u001b[0m\u001b[1;33m\u001b[0m\u001b[0m\n\u001b[0;32m    203\u001b[0m         \u001b[0mformatted_recs\u001b[0m \u001b[1;33m=\u001b[0m \u001b[1;33m[\u001b[0m\u001b[0mself\u001b[0m\u001b[1;33m.\u001b[0m\u001b[0m_get_info\u001b[0m\u001b[1;33m(\u001b[0m\u001b[0mx\u001b[0m\u001b[1;33m[\u001b[0m\u001b[1;36m0\u001b[0m\u001b[1;33m]\u001b[0m\u001b[1;33m,\u001b[0m \u001b[0mx\u001b[0m\u001b[1;33m[\u001b[0m\u001b[1;36m1\u001b[0m\u001b[1;33m]\u001b[0m\u001b[1;33m)\u001b[0m \u001b[1;32mfor\u001b[0m \u001b[0mx\u001b[0m \u001b[1;32min\u001b[0m \u001b[0mrecs\u001b[0m\u001b[1;33m]\u001b[0m\u001b[1;33m\u001b[0m\u001b[0m\n",
      "\u001b[1;32m~\\Desktop\\groa_private\\recommender.py\u001b[0m in \u001b[0;36m_similar_movies\u001b[1;34m(v, bad_movies, n)\u001b[0m\n\u001b[0;32m    176\u001b[0m             \u001b[1;32mif\u001b[0m \u001b[0mbad_movies\u001b[0m\u001b[1;33m:\u001b[0m\u001b[1;33m\u001b[0m\u001b[0m\n\u001b[0;32m    177\u001b[0m                 \u001b[0mv\u001b[0m \u001b[1;33m=\u001b[0m \u001b[0m_remove_dislikes\u001b[0m\u001b[1;33m(\u001b[0m\u001b[0mbad_movies\u001b[0m\u001b[1;33m,\u001b[0m \u001b[0mv\u001b[0m\u001b[1;33m,\u001b[0m \u001b[0mharshness\u001b[0m\u001b[1;33m=\u001b[0m\u001b[0mharshness\u001b[0m\u001b[1;33m)\u001b[0m\u001b[1;33m\u001b[0m\u001b[0m\n\u001b[1;32m--> 178\u001b[1;33m             \u001b[1;32mreturn\u001b[0m \u001b[0mclf\u001b[0m\u001b[1;33m.\u001b[0m\u001b[0msimilar_by_vector\u001b[0m\u001b[1;33m(\u001b[0m\u001b[0mv\u001b[0m\u001b[1;33m,\u001b[0m \u001b[0mtopn\u001b[0m\u001b[1;33m=\u001b[0m \u001b[0mn\u001b[0m\u001b[1;33m+\u001b[0m\u001b[1;36m1\u001b[0m\u001b[1;33m)\u001b[0m\u001b[1;33m[\u001b[0m\u001b[1;36m1\u001b[0m\u001b[1;33m:\u001b[0m\u001b[1;33m]\u001b[0m\u001b[1;33m\u001b[0m\u001b[0m\n\u001b[0m\u001b[0;32m    179\u001b[0m \u001b[1;33m\u001b[0m\u001b[0m\n\u001b[0;32m    180\u001b[0m         \u001b[1;32mdef\u001b[0m \u001b[0m_remove_dupes\u001b[0m\u001b[1;33m(\u001b[0m\u001b[0mrecs\u001b[0m\u001b[1;33m,\u001b[0m \u001b[0minput\u001b[0m\u001b[1;33m,\u001b[0m \u001b[0mbad_movies\u001b[0m\u001b[1;33m,\u001b[0m \u001b[0mhist_list\u001b[0m\u001b[1;33m=\u001b[0m\u001b[1;33m[\u001b[0m\u001b[1;33m]\u001b[0m\u001b[1;33m,\u001b[0m \u001b[0mfeedback_list\u001b[0m\u001b[1;33m=\u001b[0m\u001b[1;33m[\u001b[0m\u001b[1;33m]\u001b[0m\u001b[1;33m)\u001b[0m\u001b[1;33m:\u001b[0m\u001b[1;33m\u001b[0m\u001b[0m\n",
      "\u001b[1;32m~\\Anaconda3\\envs\\groa\\lib\\site-packages\\gensim\\utils.py\u001b[0m in \u001b[0;36mnew_func1\u001b[1;34m(*args, **kwargs)\u001b[0m\n\u001b[0;32m   1445\u001b[0m                     \u001b[0mstacklevel\u001b[0m\u001b[1;33m=\u001b[0m\u001b[1;36m2\u001b[0m\u001b[1;33m\u001b[0m\u001b[0m\n\u001b[0;32m   1446\u001b[0m                 )\n\u001b[1;32m-> 1447\u001b[1;33m                 \u001b[1;32mreturn\u001b[0m \u001b[0mfunc\u001b[0m\u001b[1;33m(\u001b[0m\u001b[1;33m*\u001b[0m\u001b[0margs\u001b[0m\u001b[1;33m,\u001b[0m \u001b[1;33m**\u001b[0m\u001b[0mkwargs\u001b[0m\u001b[1;33m)\u001b[0m\u001b[1;33m\u001b[0m\u001b[0m\n\u001b[0m\u001b[0;32m   1448\u001b[0m \u001b[1;33m\u001b[0m\u001b[0m\n\u001b[0;32m   1449\u001b[0m             \u001b[1;32mreturn\u001b[0m \u001b[0mnew_func1\u001b[0m\u001b[1;33m\u001b[0m\u001b[0m\n",
      "\u001b[1;32m~\\Anaconda3\\envs\\groa\\lib\\site-packages\\gensim\\models\\base_any2vec.py\u001b[0m in \u001b[0;36msimilar_by_vector\u001b[1;34m(self, vector, topn, restrict_vocab)\u001b[0m\n\u001b[0;32m   1432\u001b[0m \u001b[1;33m\u001b[0m\u001b[0m\n\u001b[0;32m   1433\u001b[0m         \"\"\"\n\u001b[1;32m-> 1434\u001b[1;33m         \u001b[1;32mreturn\u001b[0m \u001b[0mself\u001b[0m\u001b[1;33m.\u001b[0m\u001b[0mwv\u001b[0m\u001b[1;33m.\u001b[0m\u001b[0msimilar_by_vector\u001b[0m\u001b[1;33m(\u001b[0m\u001b[0mvector\u001b[0m\u001b[1;33m,\u001b[0m \u001b[0mtopn\u001b[0m\u001b[1;33m,\u001b[0m \u001b[0mrestrict_vocab\u001b[0m\u001b[1;33m)\u001b[0m\u001b[1;33m\u001b[0m\u001b[0m\n\u001b[0m\u001b[0;32m   1435\u001b[0m \u001b[1;33m\u001b[0m\u001b[0m\n\u001b[0;32m   1436\u001b[0m     \u001b[1;33m@\u001b[0m\u001b[0mdeprecated\u001b[0m\u001b[1;33m(\u001b[0m\u001b[1;34m\"Method will be removed in 4.0.0, use self.wv.doesnt_match() instead\"\u001b[0m\u001b[1;33m)\u001b[0m\u001b[1;33m\u001b[0m\u001b[0m\n",
      "\u001b[1;32m~\\Anaconda3\\envs\\groa\\lib\\site-packages\\gensim\\models\\keyedvectors.py\u001b[0m in \u001b[0;36msimilar_by_vector\u001b[1;34m(self, vector, topn, restrict_vocab)\u001b[0m\n\u001b[0;32m    620\u001b[0m \u001b[1;33m\u001b[0m\u001b[0m\n\u001b[0;32m    621\u001b[0m         \"\"\"\n\u001b[1;32m--> 622\u001b[1;33m         \u001b[1;32mreturn\u001b[0m \u001b[0mself\u001b[0m\u001b[1;33m.\u001b[0m\u001b[0mmost_similar\u001b[0m\u001b[1;33m(\u001b[0m\u001b[0mpositive\u001b[0m\u001b[1;33m=\u001b[0m\u001b[1;33m[\u001b[0m\u001b[0mvector\u001b[0m\u001b[1;33m]\u001b[0m\u001b[1;33m,\u001b[0m \u001b[0mtopn\u001b[0m\u001b[1;33m=\u001b[0m\u001b[0mtopn\u001b[0m\u001b[1;33m,\u001b[0m \u001b[0mrestrict_vocab\u001b[0m\u001b[1;33m=\u001b[0m\u001b[0mrestrict_vocab\u001b[0m\u001b[1;33m)\u001b[0m\u001b[1;33m\u001b[0m\u001b[0m\n\u001b[0m\u001b[0;32m    623\u001b[0m \u001b[1;33m\u001b[0m\u001b[0m\n\u001b[0;32m    624\u001b[0m     @deprecated(\n",
      "\u001b[1;32m~\\Anaconda3\\envs\\groa\\lib\\site-packages\\gensim\\models\\keyedvectors.py\u001b[0m in \u001b[0;36mmost_similar\u001b[1;34m(self, positive, negative, topn, restrict_vocab, indexer)\u001b[0m\n\u001b[0;32m    547\u001b[0m         \u001b[1;31m# compute the weighted average of all words\u001b[0m\u001b[1;33m\u001b[0m\u001b[1;33m\u001b[0m\u001b[0m\n\u001b[0;32m    548\u001b[0m         \u001b[0mall_words\u001b[0m\u001b[1;33m,\u001b[0m \u001b[0mmean\u001b[0m \u001b[1;33m=\u001b[0m \u001b[0mset\u001b[0m\u001b[1;33m(\u001b[0m\u001b[1;33m)\u001b[0m\u001b[1;33m,\u001b[0m \u001b[1;33m[\u001b[0m\u001b[1;33m]\u001b[0m\u001b[1;33m\u001b[0m\u001b[0m\n\u001b[1;32m--> 549\u001b[1;33m         \u001b[1;32mfor\u001b[0m \u001b[0mword\u001b[0m\u001b[1;33m,\u001b[0m \u001b[0mweight\u001b[0m \u001b[1;32min\u001b[0m \u001b[0mpositive\u001b[0m \u001b[1;33m+\u001b[0m \u001b[0mnegative\u001b[0m\u001b[1;33m:\u001b[0m\u001b[1;33m\u001b[0m\u001b[0m\n\u001b[0m\u001b[0;32m    550\u001b[0m             \u001b[1;32mif\u001b[0m \u001b[0misinstance\u001b[0m\u001b[1;33m(\u001b[0m\u001b[0mword\u001b[0m\u001b[1;33m,\u001b[0m \u001b[0mndarray\u001b[0m\u001b[1;33m)\u001b[0m\u001b[1;33m:\u001b[0m\u001b[1;33m\u001b[0m\u001b[0m\n\u001b[0;32m    551\u001b[0m                 \u001b[0mmean\u001b[0m\u001b[1;33m.\u001b[0m\u001b[0mappend\u001b[0m\u001b[1;33m(\u001b[0m\u001b[0mweight\u001b[0m \u001b[1;33m*\u001b[0m \u001b[0mword\u001b[0m\u001b[1;33m)\u001b[0m\u001b[1;33m\u001b[0m\u001b[0m\n",
      "\u001b[1;31mTypeError\u001b[0m: cannot unpack non-iterable numpy.float64 object"
     ]
    }
   ],
   "source": [
    "predictor.predict() # works with letterboxd , can change code to with with imdb but results are weird, "
   ]
  },
  {
   "cell_type": "code",
   "execution_count": null,
   "metadata": {},
   "outputs": [],
   "source": []
  },
  {
   "cell_type": "code",
   "execution_count": 39,
   "metadata": {},
   "outputs": [
    {
     "name": "stdout",
     "output_type": "stream",
     "text": [
      "Connected!\n"
     ]
    }
   ],
   "source": [
    "import psycopg2\n",
    "import os \n",
    "from dotenv import load_dotenv\n",
    "load_dotenv()\n",
    "    \n",
    "\"\"\" test DB credentials \"\"\"\n",
    "connection = psycopg2.connect(\n",
    "    database  = os.getenv(\"DB_NAME\"),\n",
    "    user      = os.getenv(\"DB_USER\"),\n",
    "    password  = os.getenv(\"DB_PASSWORD\"),\n",
    "    host      = os.getenv(\"DEV\"),\n",
    "    port      = os.getenv(\"PORT\")\n",
    ")\n",
    "\n",
    "try:\n",
    "    c = connection.cursor()\n",
    "    print(\"Connected!\")\n",
    "    c.close()\n",
    "    connection.close()\n",
    "except Exception as e:\n",
    "    print(\"Connection problem chief!\\n\")\n",
    "    print(e)"
   ]
  },
  {
   "cell_type": "code",
   "execution_count": 30,
   "metadata": {},
   "outputs": [
    {
     "data": {
      "text/plain": [
       "<connection object at 0x0000015FA8E8B378; dsn: 'user=postgres password=xxx dbname=postgres host=groadb-prod.cbayt2opbptw.us-east-1.rds.amazonaws.com port=5432', closed: 1>"
      ]
     },
     "execution_count": 30,
     "metadata": {},
     "output_type": "execute_result"
    }
   ],
   "source": [
    "predictor.model.cursor_dog"
   ]
  },
  {
   "cell_type": "code",
   "execution_count": 16,
   "metadata": {},
   "outputs": [
    {
     "data": {
      "text/plain": [
       "<connection object at 0x000001332F11EBF8; dsn: 'user=postgres password=xxx dbname=postgres host=groadb-dev.cbayt2opbptw.us-east-1.rds.amazonaws.com port=5432', closed: 1>"
      ]
     },
     "execution_count": 16,
     "metadata": {},
     "output_type": "execute_result"
    }
   ],
   "source": [
    "predictor.model.connection"
   ]
  },
  {
   "cell_type": "code",
   "execution_count": null,
   "metadata": {},
   "outputs": [],
   "source": [
    "predictor.model.cursor_dog.close()"
   ]
  },
  {
   "cell_type": "code",
   "execution_count": 14,
   "metadata": {},
   "outputs": [],
   "source": [
    "predictor.model.connection.close()"
   ]
  },
  {
   "cell_type": "code",
   "execution_count": null,
   "metadata": {},
   "outputs": [],
   "source": []
  }
 ],
 "metadata": {
  "kernelspec": {
   "display_name": "groa (Python3.7)",
   "language": "python",
   "name": "groa"
  },
  "language_info": {
   "codemirror_mode": {
    "name": "ipython",
    "version": 3
   },
   "file_extension": ".py",
   "mimetype": "text/x-python",
   "name": "python",
   "nbconvert_exporter": "python",
   "pygments_lexer": "ipython3",
   "version": "3.7.0"
  }
 },
 "nbformat": 4,
 "nbformat_minor": 4
}
