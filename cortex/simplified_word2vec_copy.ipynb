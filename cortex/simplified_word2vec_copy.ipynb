{
 "cells": [
  {
   "cell_type": "code",
   "execution_count": 20,
   "metadata": {},
   "outputs": [],
   "source": [
    "# import boto3\n",
    "# import re \n",
    "# # bucket, key = re.match(\"s3://(.+?)/(.+)\", config[\"model\"]).groups()\n",
    "# # s3 = boto3.client(\"s3\")\n",
    "# # s3.download_file(bucket, key, \"model.pth\")\n",
    "\n",
    "# session = boto3.Session(\n",
    "#     # Hard coded strings as credentials, not recommended.\n",
    "#     aws_access_key_id='',\n",
    "#     aws_secret_access_key=''\n",
    "# )\n",
    "\n",
    "# # Let's use Amazon S3\n",
    "# s3 = session.resource('s3')\n",
    "\n",
    "# # Print out bucket names\n",
    "# for bucket in s3.buckets.all():\n",
    "#     print(bucket.name)\n",
    "    \n",
    "#     bucket, key = re.match(\"s3://(.+?)/(.+)\", config[\"model\"]).groups()\n",
    "# s3 = boto3.client(\"s3\")\n",
    "# s3.download_file(bucket, key, \"model.pth\")"
   ]
  },
  {
   "cell_type": "code",
   "execution_count": 105,
   "metadata": {},
   "outputs": [
    {
     "name": "stdout",
     "output_type": "stream",
     "text": [
      "Connected!\n"
     ]
    }
   ],
   "source": [
    "import psycopg2\n",
    "import gensim\n",
    "import pandas as pd\n",
    "import re\n",
    "import numpy as np\n",
    "import json \n",
    "import warnings;\n",
    "warnings.filterwarnings('ignore')\n",
    "\n",
    "\n",
    "# connect to database. Never save your password to a notebook.\n",
    "connection = psycopg2.connect(\n",
    "    database  = \"postgres\",\n",
    "    user      = \"postgres\",\n",
    "    password  = os.getenv('DB_PASSWORD'), # secure password entry. Enter DB password in the prompt and press Enter.\n",
    "    host      = \"movie-rec-scrape.cvslmiksgnix.us-east-1.rds.amazonaws.com\",\n",
    "    port      = '5432'\n",
    ")\n",
    "\n",
    "# create cursor that is used throughout\n",
    "try:\n",
    "    c = connection.cursor()\n",
    "    print(\"Connected!\")\n",
    "except Exception as e:\n",
    "    print(\"Connection problem chief!\\n\")\n",
    "    print(e)\n",
    "\n",
    "    \n",
    "def fill_id(id):\n",
    "    \"\"\"Adds leading zeroes back if necessary. This makes the id match the database.\"\"\"\n",
    "    if len(str(id)) < 7:\n",
    "        length = len(str(id))\n",
    "        id = \"0\"*(7 - length) + str(id)\n",
    "    return str(id)\n",
    "    \n",
    "def df_to_id_list(df, id_book):\n",
    "    \"\"\"Converts dataframe of movies to a list of the IDs for those movies.\n",
    "\n",
    "    Every title in the input dataframe is checked against the local file, which\n",
    "    includes all the titles and IDs in our database. For anything without a match,\n",
    "    replace the non-alphanumeric characters with wildcards, and query the database\n",
    "    for matches.\n",
    "    \"\"\"\n",
    "    df['Year'] = df['Year'].astype(int).astype(str)\n",
    "    matched = pd.merge(df, id_book,\n",
    "                left_on=['Name', 'Year'], right_on=['primaryTitle', 'startYear'],\n",
    "                how='inner')\n",
    "    ids = matched['tconst'].astype(str).tolist()\n",
    "    final_ratings = []\n",
    "    names = df.Name.tolist()\n",
    "    years = [int(year) for year in df.Year.tolist()]\n",
    "    if 'Rating' in df.columns:\n",
    "        stars = [int(rating) for rating in df.Rating.tolist()]\n",
    "        info = list(zip(names, years, stars))\n",
    "        final_ratings = matched['Rating'].astype(int).tolist()\n",
    "    else:\n",
    "        info = list(zip(names, years, list(range(len(years)))))\n",
    "    missed = [x for x in info if x[0] not in matched['primaryTitle'].tolist()]\n",
    "    for i, j, k in missed:\n",
    "        i = re.sub('[^\\s0-9a-zA-Z\\s]+', '%', i)\n",
    "        try:\n",
    "            cursor_dog.execute(f\"\"\"\n",
    "                SELECT movie_id, original_title, primary_title\n",
    "                FROM movies\n",
    "                WHERE primary_title ILIKE '{i}' AND start_year = {j}\n",
    "                  OR original_title ILIKE '{i}' AND start_year = {j}\n",
    "                ORDER BY runtime_minutes DESC\n",
    "                LIMIT 1\"\"\")\n",
    "            id = cursor_dog.fetchone()[0]\n",
    "            ids.append(id)\n",
    "            final_ratings.append(k)\n",
    "        except:\n",
    "            continue\n",
    "    ids = [fill_id(id) for id in ids]\n",
    "    final_ratings = [x*2 for x in final_ratings]\n",
    "    ratings_dict = dict(zip(ids, final_ratings))\n",
    "    return tuple([ids, ratings_dict])\n",
    "    \n",
    "def prep_data(ratings_df, watched_df=None, watchlist_df=None, \n",
    "                   good_threshold=4, bad_threshold=3):\n",
    "    \"\"\"Converts dataframes of exported Letterboxd data to lists of movie_ids.\n",
    "\n",
    "    Parameters\n",
    "    ----------\n",
    "    ratings_df : pd dataframe\n",
    "        Letterboxd ratings.\n",
    "\n",
    "    watched_df : pd dataframe\n",
    "        Letterboxd watch history.\n",
    "\n",
    "    watchlist_df : pd dataframe\n",
    "        Letterboxd list of movies the user wants to watch.\n",
    "        Used in val_list for scoring the model's performance.\n",
    "\n",
    "    good_threshold : int\n",
    "        Minimum star rating (10pt scale) for a movie to be considered \"enjoyed\" by the user.\n",
    "\n",
    "    bad_threshold : int\n",
    "        Maximum star rating (10pt scale) for a movie to be considered \"disliked\" by the user.\n",
    "\n",
    "\n",
    "    Returns\n",
    "    -------\n",
    "    tuple of lists of ids.\n",
    "        (good_list, bad_list, hist_list, val_list)\n",
    "    \"\"\"\n",
    "    try:\n",
    "        # try to read Letterboxd user data\n",
    "        # drop rows with nulls in the columns we use\n",
    "        ratings_df = ratings_df.dropna(axis=0, subset=['Rating', 'Name', 'Year'])\n",
    "        # split according to user rating\n",
    "        good_df = ratings_df[ratings_df['Rating'] >= good_threshold]\n",
    "        bad_df = ratings_df[ratings_df['Rating'] <= bad_threshold]\n",
    "        neutral_df = ratings_df[(ratings_df['Rating'] > bad_threshold) & (ratings_df['Rating'] < good_threshold)]\n",
    "        # convert dataframes to lists\n",
    "        good_list, good_dict = df_to_id_list(good_df, id_book)\n",
    "        bad_list, bad_dict = df_to_id_list(bad_df, id_book)\n",
    "        neutral_list, neutral_dict = df_to_id_list(neutral_df, id_book)\n",
    "    except KeyError:\n",
    "        # Try to read IMDb user data\n",
    "        # strip ids of \"tt\" prefix\n",
    "        ratings_df['movie_id'] = ratings_df['Const'].str.lstrip(\"tt\")\n",
    "        # drop rows with nulls in the columns we use\n",
    "        ratings_df = ratings_df.dropna(axis=0, subset=['Your Rating', 'Year'])\n",
    "        # split according to user rating\n",
    "        good_df = ratings_df[ratings_df['Your Rating'] >= good_threshold*2]\n",
    "        bad_df = ratings_df[ratings_df['Your Rating'] <= bad_threshold*2]\n",
    "        neutral_df = ratings_df[(ratings_df['Your Rating'] > bad_threshold*2) & (ratings_df['Your Rating'] < good_threshold*2)]\n",
    "        # convert dataframes to lists\n",
    "        good_list = good_df['movie_id'].to_list()\n",
    "        bad_list = bad_df['movie_id'].to_list()\n",
    "        neutral_list = neutral_df['movie_id'].to_list()\n",
    "    except Exception as e:\n",
    "        # can't read the dataframe as Letterboxd or IMDb user data\n",
    "        print(\"This dataframe has columns:\", ratings_df.columns)\n",
    "        raise Exception(e)\n",
    "        \n",
    "    ratings_dict = dict(list(good_dict.items()) + list(bad_dict.items()) + list(neutral_dict.items()))\n",
    "\n",
    "    if watched_df is not None:\n",
    "        # Construct list of watched movies that aren't rated \"good\" or \"bad\"\n",
    "        # First, get a set of identified IDs.\n",
    "        rated_names = set(good_df.Name.tolist() + bad_df.Name.tolist() + neutral_list)\n",
    "        # drop nulls from watched dataframe\n",
    "        full_history = watched_df.dropna(axis=0, subset=['Name', 'Year'])\n",
    "        # get list of watched movies that haven't been rated\n",
    "        hist_list = df_to_id_list(full_history[~full_history['Name'].isin(rated_names)], id_book)[0]\n",
    "        # add back list of \"neutral\" movies (whose IDs we already found before)\n",
    "        hist_list = hist_list + neutral_list\n",
    "    else: hist_list = neutral_list\n",
    "\n",
    "    if watchlist_df is not None:\n",
    "        try:\n",
    "            watchlist_df = watchlist_df.dropna(axis=0, subset=['Name', 'Year'])\n",
    "            val_list = df_to_id_list(watchlist_df, id_book)[0]\n",
    "        except KeyError:\n",
    "            watchlist_df = watchlist_df.dropna(axis=0, subset=['Const', 'Year'])\n",
    "            watchlist_df['movie_id'] = watchlist_df['Const'].str.lstrip(\"tt\")\n",
    "            val_list = watchlist_df['movie_id'].tolist()\n",
    "    else: val_list = []\n",
    "\n",
    "    return (good_list, bad_list, hist_list, val_list, ratings_dict)\n",
    "\n",
    "class Recommender(object):\n",
    "\n",
    "    def __init__(self, model_path):\n",
    "        \"\"\"Initialize model with name of .model file\"\"\"\n",
    "        self.model_path = model_path\n",
    "        self.model = None\n",
    "        self.cursor_dog = c # set to this notebook's connection\n",
    "        self.id_book = pd.read_csv('exported_data/title_basics_small.csv')\n",
    "\n",
    "    def connect_db(self):\n",
    "        \"\"\"connect to database, create cursor.\n",
    "        In the notebook, this isn't used, and all connections are \n",
    "        handled through the notebook's global connection at the top.\"\"\"\n",
    "        # connect to database\n",
    "        connection = psycopg2.connect(\n",
    "            database  = \"postgres\",\n",
    "            user      = \"postgres\",\n",
    "            password  = os.getenv('DB_PASSWORD'),\n",
    "            host      = \"movie-rec-scrape.cvslmiksgnix.us-east-1.rds.amazonaws.com\",\n",
    "            port      = '5432'\n",
    "        )\n",
    "        # create cursor that is used throughout\n",
    "\n",
    "        try:\n",
    "            self.cursor_dog = connection.cursor()\n",
    "            print(\"Connected!\")\n",
    "        except:\n",
    "            print(\"Connection problem chief!\")\n",
    "\n",
    "    def _get_model(self):\n",
    "        \"\"\"Get the model object for this instance, loading it if it's not already loaded.\"\"\"\n",
    "        if self.model == None:\n",
    "            model_path = self.model_path\n",
    "            w2v_model = gensim.models.Word2Vec.load(model_path)\n",
    "            # Keep only the normalized vectors.\n",
    "            # This saves memory but makes the model untrainable (read-only).\n",
    "            w2v_model.init_sims(replace=True)\n",
    "            self.model = w2v_model\n",
    "        return self.model\n",
    "\n",
    "    def _get_info(self, id, score=None):\n",
    "        \"\"\"Takes an id string and returns the movie info with a url.\"\"\"\n",
    "        try:\n",
    "            info_query = f\"\"\"\n",
    "            SELECT m.primary_title, m.start_year, r.average_rating, r.num_votes\n",
    "            FROM movies m\n",
    "            JOIN ratings r ON m.movie_id = r.movie_id\n",
    "            WHERE m.movie_id = '{id}'\"\"\"\n",
    "            self.cursor_dog.execute(info_query)\n",
    "        except Exception as e:\n",
    "            return tuple([f\"Movie title unknown. ID:{id}\", None, None, None, None, None, id])\n",
    "\n",
    "        t = self.cursor_dog.fetchone()\n",
    "        if t:\n",
    "            title = tuple([t[0], t[1], f\"https://www.imdb.com/title/tt{id}/\", t[2], t[3], score, id])\n",
    "            return title\n",
    "        else:\n",
    "            return tuple([f\"Movie title not retrieved. ID:{id}\", None, None, None, None, None, id])\n",
    "\n",
    "    def get_most_similar_title(self, id, id_list):\n",
    "        \"\"\"Get the title of the most similar movie to id from id_list\"\"\"\n",
    "        clf = self._get_model()\n",
    "        vocab = clf.wv.vocab\n",
    "        if id not in vocab:\n",
    "            return \"\"\n",
    "        id_list = [id for id in id_list if id in vocab] # ensure all in vocab\n",
    "        id_book = self.id_book\n",
    "        match = clf.wv.most_similar_to_given(id, id_list)\n",
    "        return id_book['primaryTitle'].loc[id_book['tconst'] == int(match)].values[0]\n",
    "\n",
    "    def predict(self, input, bad_movies=[], hist_list=[], val_list=[],\n",
    "                ratings_dict = {}, checked_list=[], rejected_list=[],\n",
    "                n=50, harshness=1, rec_movies=True,\n",
    "                show_vibes=False, scoring=False, return_scores=False):\n",
    "        \"\"\"Returns a list of recommendations and useful metadata, given a pretrained\n",
    "        word2vec model and a list of movies.\n",
    "\n",
    "        Parameters\n",
    "        ----------\n",
    "\n",
    "            input : iterable\n",
    "                List of movies that the user likes.\n",
    "\n",
    "            bad_movies : iterable\n",
    "                List of movies that the user dislikes.\n",
    "\n",
    "            hist_list : iterable\n",
    "                List of movies the user has seen.\n",
    "\n",
    "            val_list : iterable\n",
    "                List of movies the user has already indicated interest in.\n",
    "                Example: https://letterboxd.com/tabula_rasta/watchlist/\n",
    "                People really load these up over the years, and so they make for \n",
    "                the best validation set we can ask for with current resources.\n",
    "\n",
    "            ratings_dict : dictionary\n",
    "                Dictionary of movie_id keys, user rating values.\n",
    "\n",
    "            checked_list : iterable\n",
    "                List of movies the user likes on the feedback form.\n",
    "\n",
    "            rejected_list : iterable\n",
    "                List of movies the user dislikes on the feedback form.\n",
    "\n",
    "            n : int\n",
    "                Number of recommendations to return.\n",
    "\n",
    "            harshness : int\n",
    "                Weighting to apply to disliked movies.\n",
    "                Ex:\n",
    "                    1 - most strongly account for disliked movies.\n",
    "                    3 - divide \"disliked movies\" vector by 3.\n",
    "\n",
    "            rec_movies : boolean\n",
    "                If False, doesn't return movie recommendations (used for scoring).\n",
    "\n",
    "            show_vibes : boolean\n",
    "                If True, prints out the dupes as a feature.\n",
    "                These movies are closest to the user's taste vector, \n",
    "                indicating some combination of importance and popularity.\n",
    "\n",
    "            scoring : boolean\n",
    "                If True, prints out the validation score.\n",
    "            \n",
    "            return_scores : boolean\n",
    "                If True, skips printing out\n",
    "\n",
    "        Returns\n",
    "        -------\n",
    "        A list of tuples\n",
    "            (Title, Year, IMDb URL, Average Rating, Number of Votes, Similarity score)\n",
    "        \"\"\"\n",
    "\n",
    "        clf = self._get_model()\n",
    "        dupes = []                 # list for storing duplicates for scoring\n",
    "\n",
    "        def _aggregate_vectors(movies, feedback_list=[]):\n",
    "            \"\"\"Gets the vector average of a list of movies.\"\"\"\n",
    "            movie_vec = []\n",
    "            for i in movies:\n",
    "                try:\n",
    "                    m_vec = clf[i]  # get the vector for each movie\n",
    "                    if ratings_dict:\n",
    "                        try:\n",
    "                            r = ratings_dict[i] # get user_rating for each movie\n",
    "                            # Use a polynomial to weight the movie by rating.\n",
    "                            # This equation is somewhat arbitrary. I just fit a polynomial\n",
    "                            # to some weights that look good. The effect is to raise\n",
    "                            # the importance of 1, 2, 9, and 10 star ratings to about 1.8.\n",
    "                            w = ((r**3)*-0.00143) + ((r**2)*0.0533) + (r*-0.4695) + 2.1867\n",
    "                            m_vec = m_vec * w\n",
    "                        except KeyError:\n",
    "                            continue\n",
    "                    movie_vec.append(m_vec)\n",
    "                except KeyError:\n",
    "                    continue\n",
    "            if feedback_list:\n",
    "                for i in feedback_list:\n",
    "                    try:\n",
    "                        f_vec = clf[i]\n",
    "                        movie_vec.append(f_vec*1.8) # weight feedback by changing multiplier here\n",
    "                    except KeyError:\n",
    "                        continue\n",
    "            return np.mean(movie_vec, axis=0)\n",
    "\n",
    "        def _similar_movies(v, bad_movies=[], n=50):\n",
    "            \"\"\"Aggregates movies and finds n vectors with highest cosine similarity.\"\"\"\n",
    "            if bad_movies:\n",
    "                v = _remove_dislikes(bad_movies, v, harshness=harshness)\n",
    "            return clf.similar_by_vector(v, topn= n+1)[1:]\n",
    "\n",
    "        def _remove_dupes(recs, input, bad_movies, hist_list=[], feedback_list=[]):\n",
    "            \"\"\"remove any recommended IDs that were in the input list\"\"\"\n",
    "            all_rated = input + bad_movies + hist_list + feedback_list\n",
    "            nonlocal dupes\n",
    "            dupes = [x for x in recs if x[0] in input]\n",
    "            return [x for x in recs if x[0] not in all_rated]\n",
    "\n",
    "        def _remove_dislikes(bad_movies, good_movies_vec, rejected_list=[], harshness=1):\n",
    "            \"\"\"Takes a list of movies that the user dislikes.\n",
    "            Their embeddings are averaged,\n",
    "            and subtracted from the input.\"\"\"\n",
    "            bad_vec = _aggregate_vectors(bad_movies, rejected_list)\n",
    "            bad_vec = bad_vec / harshness\n",
    "            return good_movies_vec - bad_vec\n",
    "\n",
    "        def _score_model(recs, val_list):\n",
    "            \"\"\"Returns the number of recs that were already in the user's watchlist. Validation!\"\"\"\n",
    "            ids = [x[0] for x in recs]\n",
    "            return len(list(set(ids) & set(val_list)))\n",
    "\n",
    "        aggregated = _aggregate_vectors(input, checked_list)\n",
    "        recs = _similar_movies(aggregated, bad_movies, n=n)\n",
    "        recs = _remove_dupes(recs, input, bad_movies, hist_list, checked_list + rejected_list)\n",
    "        formatted_recs = [self._get_info(x[0], x[1]) for x in recs]\n",
    "        if val_list:\n",
    "            if return_scores:\n",
    "                return tuple([_score_model(recs, val_list), sum([i[3] for i in formatted_recs if i[3] is not None])/len(formatted_recs)])\n",
    "            elif scoring:\n",
    "                print(f\"The model recommended {_score_model(recs, val_list)} movies that were on the watchlist!\\n\")\n",
    "                print(f\"\\t\\t Average Rating: {sum([i[3] for i in formatted_recs if i[3] is not None])/len(formatted_recs)}\\n\")\n",
    "        if show_vibes:\n",
    "            print(\"You'll get along with people who like: \\n\")\n",
    "            for x in dupes:\n",
    "                print(self._get_info(x[0], x[1]))\n",
    "            print('\\n')\n",
    "        if rec_movies:\n",
    "            return formatted_recs\n",
    "        \n",
    "        \n",
    "# initialization code and variables can be declared here in global scope\n",
    "\n",
    "\n",
    "class PythonPredictor:\n",
    "    def __init__(self, config):\n",
    "        \"\"\"Called once before the API becomes available. Setup for model serving such as downloading/initializing the model or downloading vocabulary can be done here. Required.\n",
    "\n",
    "        Args:\n",
    "            config: Dictionary passed from API configuration (if specified).\n",
    "        \"\"\"\n",
    "        \n",
    "        # initialize the model \n",
    "        \n",
    "        model = Recommender('models/w2v_limitingfactor_v3.51.model')\n",
    "        \n",
    "        self.model = model \n",
    "        pass\n",
    "\n",
    "    def predict(self, payload):\n",
    "        \"\"\"Called once per request. Runs preprocessing of the request payload, inference, and postprocessing of the inference output. Required.\n",
    "\n",
    "        Args:\n",
    "            payload: The parsed JSON request payload.\n",
    "\n",
    "        Returns:\n",
    "            Prediction or a batch of predictions.\n",
    "        \"\"\"\n",
    "        # process the raw JSON into a list \n",
    "        \n",
    "        movie_dict = json.loads(payload)\n",
    "        movie_list = list(movie_dict.values())\n",
    "        \n",
    "        # run prediction \n",
    "        \n",
    "        predictions = self.model.predict(movie_list)\n",
    "        \n",
    "        # turn back into JSON\n",
    "        \n",
    "        names = ['Title', 'Year', 'IMDB URL', 'Average Rating', 'Number of Votes', 'Similarity Score', 'IMDB ID']\n",
    "        names_lists = {key:[] for key in names}\n",
    "        \n",
    "        for x in range(0, len(predictions[0])):\n",
    "            for y in range(0, len(predictions)):\n",
    "                names_lists[names[x]].append(predictions[y][x])\n",
    "                \n",
    "        results_dict = [dict(zip(names_lists,t)) for t in zip(*names_lists.values())]\n",
    "        json_data = json.dumps(results_dict)\n",
    "        \n",
    "        return json_data"
   ]
  },
  {
   "cell_type": "code",
   "execution_count": 2,
   "metadata": {},
   "outputs": [],
   "source": [
    "# df to lookup ids from titles\n",
    "id_book = pd.read_csv('exported_data/title_basics_small.csv')\n",
    "\n",
    "# import user Letterboxd data\n",
    "ratings = pd.read_csv('exported_data/letterboxd/cooper/ratings.csv')\n",
    "watched = pd.read_csv('exported_data/letterboxd/cooper/watched.csv')\n",
    "watchlist = pd.read_csv('exported_data/letterboxd/cooper/watchlist.csv')\n",
    "\n",
    "# note: if you import IMDb data, it's currently encoded 'cp1252' (but they may someday switch to utf-8)\n",
    "\n",
    "# prep user data\n",
    "good_list, bad_list, hist_list, val_list, ratings_dict = prep_data(\n",
    "                                    ratings, watchlist_df=watchlist, good_threshold=4, bad_threshold=3)"
   ]
  },
  {
   "cell_type": "code",
   "execution_count": 3,
   "metadata": {},
   "outputs": [
    {
     "name": "stdout",
     "output_type": "stream",
     "text": [
      "389 194 146 1062\n"
     ]
    }
   ],
   "source": [
    "print(len(good_list), len(bad_list), len(hist_list), len(val_list))"
   ]
  },
  {
   "cell_type": "code",
   "execution_count": 106,
   "metadata": {},
   "outputs": [],
   "source": [
    "s = Recommender('models/w2v_limitingfactor_v3.51.model')"
   ]
  },
  {
   "cell_type": "code",
   "execution_count": null,
   "metadata": {},
   "outputs": [],
   "source": [
    "s.predict(good_list, bad_list, hist_list, val_list, ratings_dict, n=30, harshness=1, rec_movies=True, scoring=True,)"
   ]
  },
  {
   "cell_type": "code",
   "execution_count": 5,
   "metadata": {},
   "outputs": [],
   "source": [
    "coen_bros = ['116282', '2042568', '1019452', \n",
    "             '1403865', '190590', '138524', \n",
    "             '335245', '477348', '887883', '101410']"
   ]
  },
  {
   "cell_type": "code",
   "execution_count": 22,
   "metadata": {},
   "outputs": [],
   "source": [
    "# list of tuples (Title, Year, IMDb URL, Average Rating, Number of Votes, Similarity score)\n",
    "predictions = s.predict(coen_bros, n=5)"
   ]
  },
  {
   "cell_type": "code",
   "execution_count": 98,
   "metadata": {},
   "outputs": [
    {
     "data": {
      "text/plain": [
       "(3, 7)"
      ]
     },
     "execution_count": 98,
     "metadata": {},
     "output_type": "execute_result"
    }
   ],
   "source": [
    "len(predictions), len(predictions[0])"
   ]
  },
  {
   "cell_type": "code",
   "execution_count": 116,
   "metadata": {},
   "outputs": [
    {
     "data": {
      "text/plain": [
       "{'Title': ['Up in the Air', 'The Social Network', '12 Years a Slave'],\n",
       " 'Year': [2009, 2010, 2013],\n",
       " 'IMDB URL': ['https://www.imdb.com/title/tt1193138/',\n",
       "  'https://www.imdb.com/title/tt1285016/',\n",
       "  'https://www.imdb.com/title/tt2024544/'],\n",
       " 'Average Rating': [7.4, 7.7, 8.1],\n",
       " 'Number of Votes': [306659, 585251, 598714],\n",
       " 'Similarity Score': [0.6579092144966125,\n",
       "  0.6268104314804077,\n",
       "  0.6212641000747681],\n",
       " 'IMDB ID': ['1193138', '1285016', '2024544']}"
      ]
     },
     "execution_count": 116,
     "metadata": {},
     "output_type": "execute_result"
    }
   ],
   "source": [
    "names = ['Title', 'Year', 'IMDB URL', 'Average Rating', 'Number of Votes', 'Similarity Score', 'IMDB ID']\n",
    "names_lists = {key:[] for key in names}\n",
    "for x in range(0, len(predictions[0])):\n",
    "    for y in range(0, len(predictions)):\n",
    "        names_lists[names[x]].append(predictions[y][x])\n",
    "names_lists"
   ]
  },
  {
   "cell_type": "code",
   "execution_count": 124,
   "metadata": {},
   "outputs": [
    {
     "name": "stdout",
     "output_type": "stream",
     "text": [
      "[{'Title': 'Up in the Air', 'Year': 2009, 'IMDB URL': 'https://www.imdb.com/title/tt1193138/', 'Average Rating': 7.4, 'Number of Votes': 306659, 'Similarity Score': 0.6579092144966125, 'IMDB ID': '1193138'}, {'Title': 'The Social Network', 'Year': 2010, 'IMDB URL': 'https://www.imdb.com/title/tt1285016/', 'Average Rating': 7.7, 'Number of Votes': 585251, 'Similarity Score': 0.6268104314804077, 'IMDB ID': '1285016'}, {'Title': '12 Years a Slave', 'Year': 2013, 'IMDB URL': 'https://www.imdb.com/title/tt2024544/', 'Average Rating': 8.1, 'Number of Votes': 598714, 'Similarity Score': 0.6212641000747681, 'IMDB ID': '2024544'}]\n"
     ]
    }
   ],
   "source": [
    "results_dict = [dict(zip(names_lists,t)) for t in zip(*names_lists.values())]\n",
    "print(results_dict)"
   ]
  },
  {
   "cell_type": "code",
   "execution_count": 136,
   "metadata": {},
   "outputs": [
    {
     "data": {
      "text/plain": [
       "[{'Title': 'Up in the Air',\n",
       "  'Year': 2009,\n",
       "  'IMDB URL': 'https://www.imdb.com/title/tt1193138/',\n",
       "  'Average Rating': 7.4,\n",
       "  'Number of Votes': 306659,\n",
       "  'Similarity Score': 0.6579092144966125,\n",
       "  'IMDB ID': '1193138'},\n",
       " {'Title': 'The Social Network',\n",
       "  'Year': 2010,\n",
       "  'IMDB URL': 'https://www.imdb.com/title/tt1285016/',\n",
       "  'Average Rating': 7.7,\n",
       "  'Number of Votes': 585251,\n",
       "  'Similarity Score': 0.6268104314804077,\n",
       "  'IMDB ID': '1285016'},\n",
       " {'Title': '12 Years a Slave',\n",
       "  'Year': 2013,\n",
       "  'IMDB URL': 'https://www.imdb.com/title/tt2024544/',\n",
       "  'Average Rating': 8.1,\n",
       "  'Number of Votes': 598714,\n",
       "  'Similarity Score': 0.6212641000747681,\n",
       "  'IMDB ID': '2024544'}]"
      ]
     },
     "execution_count": 136,
     "metadata": {},
     "output_type": "execute_result"
    }
   ],
   "source": [
    "results_dict"
   ]
  },
  {
   "cell_type": "code",
   "execution_count": 139,
   "metadata": {},
   "outputs": [
    {
     "data": {
      "text/plain": [
       "'[{\"Title\": \"Up in the Air\", \"Year\": 2009, \"IMDB URL\": \"https://www.imdb.com/title/tt1193138/\", \"Average Rating\": 7.4, \"Number of Votes\": 306659, \"Similarity Score\": 0.6579092144966125, \"IMDB ID\": \"1193138\"}, {\"Title\": \"The Social Network\", \"Year\": 2010, \"IMDB URL\": \"https://www.imdb.com/title/tt1285016/\", \"Average Rating\": 7.7, \"Number of Votes\": 585251, \"Similarity Score\": 0.6268104314804077, \"IMDB ID\": \"1285016\"}, {\"Title\": \"12 Years a Slave\", \"Year\": 2013, \"IMDB URL\": \"https://www.imdb.com/title/tt2024544/\", \"Average Rating\": 8.1, \"Number of Votes\": 598714, \"Similarity Score\": 0.6212641000747681, \"IMDB ID\": \"2024544\"}]'"
      ]
     },
     "execution_count": 139,
     "metadata": {},
     "output_type": "execute_result"
    }
   ],
   "source": [
    "json_data = json.dumps(results_dict)\n",
    "json_data"
   ]
  },
  {
   "cell_type": "code",
   "execution_count": 141,
   "metadata": {},
   "outputs": [
    {
     "data": {
      "text/plain": [
       "{0: '116282',\n",
       " 1: '2042568',\n",
       " 2: '1019452',\n",
       " 3: '1403865',\n",
       " 4: '190590',\n",
       " 5: '138524',\n",
       " 6: '335245',\n",
       " 7: '477348',\n",
       " 8: '887883',\n",
       " 9: '101410'}"
      ]
     },
     "execution_count": 141,
     "metadata": {},
     "output_type": "execute_result"
    }
   ],
   "source": [
    "# movie_dict = {}\n",
    "# for x in range(0, len(coen_bros)):\n",
    "#     movie_dict[x] = coen_bros[x]\n",
    "\n",
    "# movie_dict"
   ]
  },
  {
   "cell_type": "code",
   "execution_count": 150,
   "metadata": {},
   "outputs": [
    {
     "data": {
      "text/plain": [
       "'{\"0\": \"116282\", \"1\": \"2042568\", \"2\": \"1019452\", \"3\": \"1403865\", \"4\": \"190590\", \"5\": \"138524\", \"6\": \"335245\", \"7\": \"477348\", \"8\": \"887883\", \"9\": \"101410\"}'"
      ]
     },
     "execution_count": 150,
     "metadata": {},
     "output_type": "execute_result"
    }
   ],
   "source": [
    "# movie_request = json.dumps(movie_dict)\n",
    "movie_request"
   ]
  },
  {
   "cell_type": "code",
   "execution_count": 151,
   "metadata": {},
   "outputs": [
    {
     "data": {
      "text/plain": [
       "['116282',\n",
       " '2042568',\n",
       " '1019452',\n",
       " '1403865',\n",
       " '190590',\n",
       " '138524',\n",
       " '335245',\n",
       " '477348',\n",
       " '887883',\n",
       " '101410']"
      ]
     },
     "execution_count": 151,
     "metadata": {},
     "output_type": "execute_result"
    }
   ],
   "source": [
    "movie_dict = json.loads(movie_request)\n",
    "movie_list = list(movie_dict.values())\n",
    "movie_list"
   ]
  },
  {
   "cell_type": "code",
   "execution_count": null,
   "metadata": {},
   "outputs": [],
   "source": [
    "# initialization code and variables can be declared here in global scope\n",
    "import json \n",
    "\n",
    "class PythonPredictor:\n",
    "    def __init__(self, config):\n",
    "        \"\"\"Called once before the API becomes available. Setup for model serving such as downloading/initializing the model or downloading vocabulary can be done here. Required.\n",
    "\n",
    "        Args:\n",
    "            config: Dictionary passed from API configuration (if specified).\n",
    "        \"\"\"\n",
    "        \n",
    "        # initialize the model \n",
    "        \n",
    "        model = Recommender('models/w2v_limitingfactor_v3.51.model')\n",
    "        \n",
    "        self.model = model \n",
    "        pass\n",
    "\n",
    "    def predict(self, payload):\n",
    "        \"\"\"Called once per request. Runs preprocessing of the request payload, inference, and postprocessing of the inference output. Required.\n",
    "\n",
    "        Args:\n",
    "            payload: The parsed JSON request payload.\n",
    "\n",
    "        Returns:\n",
    "            Prediction or a batch of predictions.\n",
    "        \"\"\"\n",
    "        # process the raw JSON into a list \n",
    "        \n",
    "        movie_dict = json.loads(payload)\n",
    "        movie_list = list(movie_dict.values())\n",
    "        \n",
    "        # run prediction \n",
    "        \n",
    "        predictions = self.model.predict(movie_list)\n",
    "        \n",
    "        # turn back into JSON\n",
    "        \n",
    "        names = ['Title', 'Year', 'IMDB URL', 'Average Rating', 'Number of Votes', 'Similarity Score', 'IMDB ID']\n",
    "        names_lists = {key:[] for key in names}\n",
    "        \n",
    "        for x in range(0, len(predictions[0])):\n",
    "            for y in range(0, len(predictions)):\n",
    "                names_lists[names[x]].append(predictions[y][x])\n",
    "                \n",
    "        results_dict = [dict(zip(names_lists,t)) for t in zip(*names_lists.values())]\n",
    "        json_data = json.dumps(results_dict)\n",
    "        \n",
    "        return json_data"
   ]
  },
  {
   "cell_type": "code",
   "execution_count": 88,
   "metadata": {},
   "outputs": [],
   "source": [
    "sample = '{\"0\": 25, \"1\": 50}'"
   ]
  },
  {
   "cell_type": "code",
   "execution_count": 89,
   "metadata": {},
   "outputs": [
    {
     "data": {
      "text/plain": [
       "str"
      ]
     },
     "execution_count": 89,
     "metadata": {},
     "output_type": "execute_result"
    }
   ],
   "source": [
    "type(str(sample))"
   ]
  },
  {
   "cell_type": "code",
   "execution_count": 90,
   "metadata": {},
   "outputs": [],
   "source": [
    "import json \n",
    "sample_json = json.loads(str(sample))"
   ]
  },
  {
   "cell_type": "markdown",
   "metadata": {},
   "source": [
    "sample_json"
   ]
  },
  {
   "cell_type": "code",
   "execution_count": 91,
   "metadata": {},
   "outputs": [
    {
     "data": {
      "text/plain": [
       "{'0': 25, '1': 50}"
      ]
     },
     "execution_count": 91,
     "metadata": {},
     "output_type": "execute_result"
    }
   ],
   "source": [
    "sample_json"
   ]
  },
  {
   "cell_type": "code",
   "execution_count": 102,
   "metadata": {},
   "outputs": [],
   "source": [
    "data_samples = '{ \"0\": 116282, \"1\": 2042568, \"2\": 1019452, \"3\": 1403865 }'"
   ]
  },
  {
   "cell_type": "code",
   "execution_count": 103,
   "metadata": {},
   "outputs": [],
   "source": [
    "samples_datas = json.loads(data_samples)"
   ]
  },
  {
   "cell_type": "code",
   "execution_count": 104,
   "metadata": {},
   "outputs": [
    {
     "data": {
      "text/plain": [
       "{'0': 116282, '1': 2042568, '2': 1019452, '3': 1403865}"
      ]
     },
     "execution_count": 104,
     "metadata": {},
     "output_type": "execute_result"
    }
   ],
   "source": [
    "samples_datas"
   ]
  },
  {
   "cell_type": "code",
   "execution_count": null,
   "metadata": {},
   "outputs": [],
   "source": [
    "'{ \"0\": 116282, \"1\": 2042568, \"2\": 1019452, \"3\": 1403865 }'"
   ]
  },
  {
   "cell_type": "code",
   "execution_count": null,
   "metadata": {},
   "outputs": [],
   "source": []
  },
  {
   "cell_type": "code",
   "execution_count": 139,
   "metadata": {},
   "outputs": [],
   "source": [
    "# from raw \n",
    "payload = { \"0\": \"116282\", \"1\": \"2042568\", \"2\": \"1019452\", \"3\": \"1403865\" }\n",
    "converted_to_string = str(payload)"
   ]
  },
  {
   "cell_type": "code",
   "execution_count": 140,
   "metadata": {},
   "outputs": [],
   "source": [
    "payload_jsonified = json.dumps(payload)"
   ]
  },
  {
   "cell_type": "code",
   "execution_count": 141,
   "metadata": {},
   "outputs": [
    {
     "data": {
      "text/plain": [
       "'{\"0\": \"116282\", \"1\": \"2042568\", \"2\": \"1019452\", \"3\": \"1403865\"}'"
      ]
     },
     "execution_count": 141,
     "metadata": {},
     "output_type": "execute_result"
    }
   ],
   "source": [
    "payload_jsonified"
   ]
  },
  {
   "cell_type": "code",
   "execution_count": 142,
   "metadata": {},
   "outputs": [
    {
     "data": {
      "text/plain": [
       "'[{\"Title\": \"Up in the Air\", \"Year\": 2009, \"IMDB URL\": \"https://www.imdb.com/title/tt1193138/\", \"Average Rating\": 7.4, \"Number of Votes\": 306659, \"Similarity Score\": 0.6579092144966125, \"IMDB ID\": \"1193138\"}, {\"Title\": \"The Social Network\", \"Year\": 2010, \"IMDB URL\": \"https://www.imdb.com/title/tt1285016/\", \"Average Rating\": 7.7, \"Number of Votes\": 585251, \"Similarity Score\": 0.6268104314804077, \"IMDB ID\": \"1285016\"}, {\"Title\": \"12 Years a Slave\", \"Year\": 2013, \"IMDB URL\": \"https://www.imdb.com/title/tt2024544/\", \"Average Rating\": 8.1, \"Number of Votes\": 598714, \"Similarity Score\": 0.6212641000747681, \"IMDB ID\": \"2024544\"}, {\"Title\": \"Inception\", \"Year\": 2010, \"IMDB URL\": \"https://www.imdb.com/title/tt1375666/\", \"Average Rating\": 8.8, \"Number of Votes\": 1913848, \"Similarity Score\": 0.5922815799713135, \"IMDB ID\": \"1375666\"}, {\"Title\": \"Moon\", \"Year\": 2009, \"IMDB URL\": \"https://www.imdb.com/title/tt1182345/\", \"Average Rating\": 7.9, \"Number of Votes\": 319915, \"Similarity Score\": 0.588254451751709, \"IMDB ID\": \"1182345\"}, {\"Title\": \"Winter\\'s Bone\", \"Year\": 2010, \"IMDB URL\": \"https://www.imdb.com/title/tt1399683/\", \"Average Rating\": 7.2, \"Number of Votes\": 130493, \"Similarity Score\": 0.5804026126861572, \"IMDB ID\": \"1399683\"}, {\"Title\": \"No Country for Old Men\", \"Year\": 2007, \"IMDB URL\": \"https://www.imdb.com/title/tt0477348/\", \"Average Rating\": 8.1, \"Number of Votes\": 794897, \"Similarity Score\": 0.5682246088981628, \"IMDB ID\": \"0477348\"}, {\"Title\": \"There Will Be Blood\", \"Year\": 2007, \"IMDB URL\": \"https://www.imdb.com/title/tt0469494/\", \"Average Rating\": 8.2, \"Number of Votes\": 480443, \"Similarity Score\": 0.5673884153366089, \"IMDB ID\": \"0469494\"}, {\"Title\": \"Exit Through the Gift Shop\", \"Year\": 2010, \"IMDB URL\": \"https://www.imdb.com/title/tt1587707/\", \"Average Rating\": 8.0, \"Number of Votes\": 59941, \"Similarity Score\": 0.5643829107284546, \"IMDB ID\": \"1587707\"}, {\"Title\": \"An Education\", \"Year\": 2009, \"IMDB URL\": \"https://www.imdb.com/title/tt1174732/\", \"Average Rating\": 7.3, \"Number of Votes\": 124803, \"Similarity Score\": 0.5622354745864868, \"IMDB ID\": \"1174732\"}, {\"Title\": \"Harry Potter and the Deathly Hallows: Part 2\", \"Year\": 2011, \"IMDB URL\": \"https://www.imdb.com/title/tt1201607/\", \"Average Rating\": 8.1, \"Number of Votes\": 715774, \"Similarity Score\": 0.5613017082214355, \"IMDB ID\": \"1201607\"}, {\"Title\": \"Blue Ruin\", \"Year\": 2013, \"IMDB URL\": \"https://www.imdb.com/title/tt2359024/\", \"Average Rating\": 7.1, \"Number of Votes\": 61438, \"Similarity Score\": 0.5564826726913452, \"IMDB ID\": \"2359024\"}, {\"Title\": \"Trishna\", \"Year\": 2011, \"IMDB URL\": \"https://www.imdb.com/title/tt1836987/\", \"Average Rating\": 6.0, \"Number of Votes\": 2870, \"Similarity Score\": 0.5561143159866333, \"IMDB ID\": \"1836987\"}, {\"Title\": \"Inglourious Basterds\", \"Year\": 2009, \"IMDB URL\": \"https://www.imdb.com/title/tt0361748/\", \"Average Rating\": 8.3, \"Number of Votes\": 1176205, \"Similarity Score\": 0.5503520369529724, \"IMDB ID\": \"0361748\"}, {\"Title\": \"I Am Love\", \"Year\": 2009, \"IMDB URL\": \"https://www.imdb.com/title/tt1226236/\", \"Average Rating\": 7.0, \"Number of Votes\": 19070, \"Similarity Score\": 0.5495413541793823, \"IMDB ID\": \"1226236\"}, {\"Title\": \"Blue Valentine\", \"Year\": 2010, \"IMDB URL\": \"https://www.imdb.com/title/tt1120985/\", \"Average Rating\": 7.4, \"Number of Votes\": 175030, \"Similarity Score\": 0.5480049848556519, \"IMDB ID\": \"1120985\"}, {\"Title\": \"Blue Jasmine\", \"Year\": 2013, \"IMDB URL\": \"https://www.imdb.com/title/tt2334873/\", \"Average Rating\": 7.3, \"Number of Votes\": 183856, \"Similarity Score\": 0.5439731478691101, \"IMDB ID\": \"2334873\"}, {\"Title\": \"The Flowers of War\", \"Year\": 2011, \"IMDB URL\": \"https://www.imdb.com/title/tt1410063/\", \"Average Rating\": 7.6, \"Number of Votes\": 46937, \"Similarity Score\": 0.5417806506156921, \"IMDB ID\": \"1410063\"}, {\"Title\": \"The Wolf of Wall Street\", \"Year\": 2013, \"IMDB URL\": \"https://www.imdb.com/title/tt0993846/\", \"Average Rating\": 8.2, \"Number of Votes\": 1083769, \"Similarity Score\": 0.539734959602356, \"IMDB ID\": \"0993846\"}, {\"Title\": \"Margaret\", \"Year\": 2011, \"IMDB URL\": \"https://www.imdb.com/title/tt0466893/\", \"Average Rating\": 6.4, \"Number of Votes\": 15143, \"Similarity Score\": 0.5379718542098999, \"IMDB ID\": \"0466893\"}, {\"Title\": \"The White Ribbon\", \"Year\": 2009, \"IMDB URL\": \"https://www.imdb.com/title/tt1149362/\", \"Average Rating\": 7.8, \"Number of Votes\": 64668, \"Similarity Score\": 0.5371094942092896, \"IMDB ID\": \"1149362\"}, {\"Title\": \"Enter the Void\", \"Year\": 2009, \"IMDB URL\": \"https://www.imdb.com/title/tt1191111/\", \"Average Rating\": 7.3, \"Number of Votes\": 64549, \"Similarity Score\": 0.5363428592681885, \"IMDB ID\": \"1191111\"}, {\"Title\": \"Prisoners\", \"Year\": 2013, \"IMDB URL\": \"https://www.imdb.com/title/tt1392214/\", \"Average Rating\": 8.1, \"Number of Votes\": 550504, \"Similarity Score\": 0.5359925031661987, \"IMDB ID\": \"1392214\"}, {\"Title\": \"Shutter Island\", \"Year\": 2010, \"IMDB URL\": \"https://www.imdb.com/title/tt1130884/\", \"Average Rating\": 8.1, \"Number of Votes\": 1047810, \"Similarity Score\": 0.5308254957199097, \"IMDB ID\": \"1130884\"}, {\"Title\": \"The Tree of Life\", \"Year\": 2011, \"IMDB URL\": \"https://www.imdb.com/title/tt0478304/\", \"Average Rating\": 6.8, \"Number of Votes\": 160302, \"Similarity Score\": 0.5302854776382446, \"IMDB ID\": \"0478304\"}, {\"Title\": \"The Hunger Games\", \"Year\": 2012, \"IMDB URL\": \"https://www.imdb.com/title/tt1392170/\", \"Average Rating\": 7.2, \"Number of Votes\": 810667, \"Similarity Score\": 0.5286580920219421, \"IMDB ID\": \"1392170\"}, {\"Title\": \"Argo\", \"Year\": 2012, \"IMDB URL\": \"https://www.imdb.com/title/tt1024648/\", \"Average Rating\": 7.7, \"Number of Votes\": 548251, \"Similarity Score\": 0.5280472636222839, \"IMDB ID\": \"1024648\"}, {\"Title\": \"Into Eternity: A Film for the Future\", \"Year\": 2010, \"IMDB URL\": \"https://www.imdb.com/title/tt1194612/\", \"Average Rating\": 7.4, \"Number of Votes\": 2760, \"Similarity Score\": 0.5271989107131958, \"IMDB ID\": \"1194612\"}, {\"Title\": \"500 Days of Summer\", \"Year\": 2009, \"IMDB URL\": \"https://www.imdb.com/title/tt1022603/\", \"Average Rating\": 7.7, \"Number of Votes\": 451934, \"Similarity Score\": 0.527066707611084, \"IMDB ID\": \"1022603\"}, {\"Title\": \"Moneyball\", \"Year\": 2011, \"IMDB URL\": \"https://www.imdb.com/title/tt1210166/\", \"Average Rating\": 7.6, \"Number of Votes\": 338398, \"Similarity Score\": 0.5268241167068481, \"IMDB ID\": \"1210166\"}, {\"Title\": \"Amreeka\", \"Year\": 2009, \"IMDB URL\": \"https://www.imdb.com/title/tt1190858/\", \"Average Rating\": 7.0, \"Number of Votes\": 3341, \"Similarity Score\": 0.5245494842529297, \"IMDB ID\": \"1190858\"}, {\"Title\": \"The Big Lebowski\", \"Year\": 1998, \"IMDB URL\": \"https://www.imdb.com/title/tt0118715/\", \"Average Rating\": 8.1, \"Number of Votes\": 685876, \"Similarity Score\": 0.5235415101051331, \"IMDB ID\": \"0118715\"}, {\"Title\": \"Tyrannosaur\", \"Year\": 2011, \"IMDB URL\": \"https://www.imdb.com/title/tt1204340/\", \"Average Rating\": 7.6, \"Number of Votes\": 29147, \"Similarity Score\": 0.5223649740219116, \"IMDB ID\": \"1204340\"}, {\"Title\": \"Endgame\", \"Year\": 2009, \"IMDB URL\": \"https://www.imdb.com/title/tt1217616/\", \"Average Rating\": 6.2, \"Number of Votes\": 2565, \"Similarity Score\": 0.5220605731010437, \"IMDB ID\": \"1217616\"}, {\"Title\": \"Marley\", \"Year\": 2012, \"IMDB URL\": \"https://www.imdb.com/title/tt1183919/\", \"Average Rating\": 8.0, \"Number of Votes\": 12725, \"Similarity Score\": 0.5220367908477783, \"IMDB ID\": \"1183919\"}, {\"Title\": \"The Fighter\", \"Year\": 2010, \"IMDB URL\": \"https://www.imdb.com/title/tt0964517/\", \"Average Rating\": 7.8, \"Number of Votes\": 324085, \"Similarity Score\": 0.5217623710632324, \"IMDB ID\": \"0964517\"}, {\"Title\": \"127 Hours\", \"Year\": 2010, \"IMDB URL\": \"https://www.imdb.com/title/tt1542344/\", \"Average Rating\": 7.6, \"Number of Votes\": 332691, \"Similarity Score\": 0.5216333270072937, \"IMDB ID\": \"1542344\"}, {\"Title\": \"Rush\", \"Year\": 2013, \"IMDB URL\": \"https://www.imdb.com/title/tt1979320/\", \"Average Rating\": 8.1, \"Number of Votes\": 406761, \"Similarity Score\": 0.5207936763763428, \"IMDB ID\": \"1979320\"}, {\"Title\": \"Short Term 12\", \"Year\": 2013, \"IMDB URL\": \"https://www.imdb.com/title/tt2370248/\", \"Average Rating\": 8.0, \"Number of Votes\": 76281, \"Similarity Score\": 0.5200021266937256, \"IMDB ID\": \"2370248\"}, {\"Title\": \"Before Midnight\", \"Year\": 2013, \"IMDB URL\": \"https://www.imdb.com/title/tt2209418/\", \"Average Rating\": 7.9, \"Number of Votes\": 128603, \"Similarity Score\": 0.5199100971221924, \"IMDB ID\": \"2209418\"}, {\"Title\": \"Star Trek Into Darkness\", \"Year\": 2013, \"IMDB URL\": \"https://www.imdb.com/title/tt1408101/\", \"Average Rating\": 7.7, \"Number of Votes\": 451954, \"Similarity Score\": 0.5198031663894653, \"IMDB ID\": \"1408101\"}, {\"Title\": \"The Hangover Part II\", \"Year\": 2011, \"IMDB URL\": \"https://www.imdb.com/title/tt1411697/\", \"Average Rating\": 6.4, \"Number of Votes\": 443969, \"Similarity Score\": 0.519557774066925, \"IMDB ID\": \"1411697\"}, {\"Title\": \"Law Abiding Citizen\", \"Year\": 2009, \"IMDB URL\": \"https://www.imdb.com/title/tt1197624/\", \"Average Rating\": 7.4, \"Number of Votes\": 259506, \"Similarity Score\": 0.518241822719574, \"IMDB ID\": \"1197624\"}, {\"Title\": \"A Most Wanted Man\", \"Year\": 2014, \"IMDB URL\": \"https://www.imdb.com/title/tt1972571/\", \"Average Rating\": 6.8, \"Number of Votes\": 69412, \"Similarity Score\": 0.5175672769546509, \"IMDB ID\": \"1972571\"}, {\"Title\": \"The Robber\", \"Year\": 2010, \"IMDB URL\": \"https://www.imdb.com/title/tt1339161/\", \"Average Rating\": 6.8, \"Number of Votes\": 4182, \"Similarity Score\": 0.5171815156936646, \"IMDB ID\": \"1339161\"}, {\"Title\": \"78/52: Hitchcock\\'s Shower Scene\", \"Year\": 2017, \"IMDB URL\": \"https://www.imdb.com/title/tt4372240/\", \"Average Rating\": 7.3, \"Number of Votes\": 2652, \"Similarity Score\": 0.5170119404792786, \"IMDB ID\": \"4372240\"}, {\"Title\": \"Taking Woodstock\", \"Year\": 2009, \"IMDB URL\": \"https://www.imdb.com/title/tt1127896/\", \"Average Rating\": 6.7, \"Number of Votes\": 27644, \"Similarity Score\": 0.5157483220100403, \"IMDB ID\": \"1127896\"}, {\"Title\": \"Catfish\", \"Year\": 2010, \"IMDB URL\": \"https://www.imdb.com/title/tt1584016/\", \"Average Rating\": 7.1, \"Number of Votes\": 39186, \"Similarity Score\": 0.5155799388885498, \"IMDB ID\": \"1584016\"}]'"
      ]
     },
     "execution_count": 142,
     "metadata": {},
     "output_type": "execute_result"
    }
   ],
   "source": [
    "movie_dict = json.loads(payload_jsonified)\n",
    "movie_list = list(movie_dict.values())\n",
    "\n",
    "# run prediction \n",
    "\n",
    "predictions = Recommender('models/w2v_limitingfactor_v3.51.model').predict(movie_list)\n",
    "\n",
    "# turn back into JSON\n",
    "\n",
    "names = ['Title', 'Year', 'IMDB URL', 'Average Rating', 'Number of Votes', 'Similarity Score', 'IMDB ID']\n",
    "names_lists = {key:[] for key in names}\n",
    "\n",
    "for x in range(0, len(predictions[0])):\n",
    "    for y in range(0, len(predictions)):\n",
    "        names_lists[names[x]].append(predictions[y][x])\n",
    "\n",
    "results_dict = [dict(zip(names_lists,t)) for t in zip(*names_lists.values())]\n",
    "json_data = json.dumps(results_dict)\n",
    "\n",
    "json_data"
   ]
  },
  {
   "cell_type": "code",
   "execution_count": null,
   "metadata": {},
   "outputs": [],
   "source": []
  }
 ],
 "metadata": {
  "kernelspec": {
   "display_name": "groa (Python3.7)",
   "language": "python",
   "name": "groa"
  },
  "language_info": {
   "codemirror_mode": {
    "name": "ipython",
    "version": 3
   },
   "file_extension": ".py",
   "mimetype": "text/x-python",
   "name": "python",
   "nbconvert_exporter": "python",
   "pygments_lexer": "ipython3",
   "version": "3.7.0"
  }
 },
 "nbformat": 4,
 "nbformat_minor": 4
}
